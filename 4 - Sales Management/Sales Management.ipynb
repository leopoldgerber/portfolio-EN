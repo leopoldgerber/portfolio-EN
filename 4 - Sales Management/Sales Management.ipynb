{
 "cells": [
  {
   "cell_type": "markdown",
   "metadata": {},
   "source": [
    "# Import"
   ]
  },
  {
   "cell_type": "code",
   "execution_count": 239,
   "metadata": {},
   "outputs": [],
   "source": [
    "import numpy as np\n",
    "import pandas as pd\n",
    "import seaborn as sns \n",
    "import itertools\n",
    "import matplotlib.pyplot as plt\n",
    "%matplotlib inline\n",
    "from itertools import combinations"
   ]
  },
  {
   "cell_type": "markdown",
   "metadata": {},
   "source": [
    "# Functions"
   ]
  },
  {
   "cell_type": "code",
   "execution_count": 240,
   "metadata": {},
   "outputs": [],
   "source": [
    "#Проверка столбца (dtype object) на наличие уникальных значений и их количество \n",
    "def object_check(column):\n",
    "    display(pd.DataFrame(column.value_counts()))\n",
    "    print(column.unique())\n",
    "\n",
    "#Проверка столбца (dtype float) при помощи гистограммы и \n",
    "#его характеристики (количество значений в столбце, среднее, стандартное отклонение, минимальное,\n",
    "#25-й процентиль, 50-й процентиль, 75-й процентиль и максимальное)\n",
    "def float_check(column):\n",
    "    column.hist()\n",
    "    print(column.describe())\n",
    "\n",
    "\n",
    "# При добавлении нового столбца (dummy перменной) \n",
    "# ставим 1 - при наличии, 0 - при отсутствии\n",
    "def find_item(cell):\n",
    "    if item in cell:\n",
    "        return 1\n",
    "    return 0\n",
    "\n",
    "\n",
    "# Проверка отсутствия значений в столбце\n",
    "def procent_check(column, df):\n",
    "    math = 100 - ((df[column].count() * 100) / len(df))\n",
    "    print(\"В столбце\",column,\"отсутствует\", '\\033[4m' + str(round(math, 2)),\"процентов\" + '\\033[0m',\"информации.\")\n",
    "    \n",
    "# Вывод основных статистических данных категориальных признаков\n",
    "def categorical_check(column):\n",
    "    display(pd.DataFrame(df[column].value_counts()))\n",
    "    print(df[column].describe())\n",
    "\n",
    "# Построение гистограммы и вывод основных статистических данных цифровых признаков\n",
    "def numerical_check(column):\n",
    "    display(df[column].hist(bins=100))\n",
    "    print(df[column].describe())\n",
    "    \n",
    "\n",
    "# Короткая проверка датасета\n",
    "def df_check(df):\n",
    "    display(df.head())\n",
    "    display(df.info())\n",
    "    \n",
    "def replace_nan(df,column):\n",
    "    return df[column].astype(str).apply(lambda x: 'Unknown' if x == 'nan' else x)"
   ]
  },
  {
   "cell_type": "markdown",
   "metadata": {},
   "source": [
    "# ---------------------------- Data ----------------------------"
   ]
  },
  {
   "cell_type": "markdown",
   "metadata": {},
   "source": [
    "# Информация"
   ]
  },
  {
   "cell_type": "markdown",
   "metadata": {},
   "source": [
    "### Customers:\n",
    "\n",
    "* <i>CustomerKey</i> : ID клиента\n",
    "* <i> FirstName</i> : Имя клиента \n",
    "* <i> LastName</i> : Фамилия клиента\n",
    "* <i> Full Name</i> : Имя и Фамилия клиента\n",
    "* <i> BirthDate</i> : День рождения клиента\n",
    "* <i> AgeOfCustomer</i> : Возраст клиента на момент заказа\n",
    "<br> &#10149; (данные получены при помощи 'BirthDate' и 'DateFirstPurchase')\n",
    "* <i> Gender</i> : Пол клиента\n",
    "* <i> DateFirstPurchase</i> : Дата заказа товара \n",
    "* <i> Customer City</i> : Город клиента\n",
    "\n",
    "### Sales:\n",
    "\n",
    "* <i> ProductKey</i> : ID товара\n",
    "* <i> OrderDateKey</i> : ID Даты заказа\n",
    "* <i> DueDateKey</i> : ID Срока сдачи\n",
    "* <i> ShipDateKey</i> : ID Даты отправки \n",
    "* <i> SalesOrderNumber</i> : Номер поставки\n",
    "* <i> SalesAmount</i> : Объем продаж\n",
    "\n",
    "### Products:\n",
    "\n",
    "* <i> ProductKey</i> : ID клиента\n",
    "* <i> ProductItemCode</i> : Серия товара \n",
    "* <i> Product Name</i> : Название товара\n",
    "* <i> Sub Category</i> : Подкатегория товара\n",
    "* <i> Product Category</i> : Категория товара\n",
    "* <i> StandardCost</i> : Стоимость товара\n",
    "* <i> Product Color</i> : Цвет товара\n",
    "* <i> Product Size</i> : Размер товара \n",
    "* <i> Product Line</i> : Линия товара\n",
    "* <i> Model Name</i> : Название модели\n",
    "* <i> Product Description</i> : Описание товара\n",
    "* <i> Product Description DE</i> : Описание товара на немецком  \n",
    "* <i> Product Status</i> : Статус товара\n",
    "\n",
    "### Calendar:\n",
    "\n",
    "* <i> OrderDateKey</i> : ID даты\n",
    "* <i> Date</i> : Дата \n",
    "* <i> Day</i> : День\n",
    "* <i> Month</i> : Месяц\n",
    "* <i> MonthShort</i> : Месяц сокр.\n",
    "* <i> MonthNr</i> : Номер месяца\n",
    "* <i> Quarter</i> : Квартал\n",
    "* <i> Year</i> : Год"
   ]
  },
  {
   "cell_type": "markdown",
   "metadata": {},
   "source": [
    "# Готовим датасеты"
   ]
  },
  {
   "cell_type": "markdown",
   "metadata": {},
   "source": [
    "### Даты"
   ]
  },
  {
   "cell_type": "markdown",
   "metadata": {},
   "source": [
    "### Выгрузим все датасеты по отдельности"
   ]
  },
  {
   "cell_type": "code",
   "execution_count": 241,
   "metadata": {},
   "outputs": [],
   "source": [
    "# Даты\n",
    "calendar = pd.read_csv('DIM_Calendar.csv', sep = ';')\n",
    "\n",
    "# Клиенты\n",
    "customers = pd.read_csv('DIM_Customer.csv', sep = ';')\n",
    "\n",
    "# Товар\n",
    "products = pd.read_csv('DIM_Product.csv', sep = ';')\n",
    "\n",
    "# Онлайн продажа товара\n",
    "sales = pd.read_csv('DIM_OnlineSales.csv', sep = ';')\n",
    "\n",
    "# Список стран\n",
    "countries = pd.read_csv('DIM_countries.csv', sep = ';')"
   ]
  },
  {
   "cell_type": "markdown",
   "metadata": {},
   "source": [
    "### Даты"
   ]
  },
  {
   "cell_type": "code",
   "execution_count": 242,
   "metadata": {},
   "outputs": [],
   "source": [
    "calendar = calendar.rename(columns={'DateKey': 'OrderDateKey'})"
   ]
  },
  {
   "cell_type": "code",
   "execution_count": 243,
   "metadata": {},
   "outputs": [
    {
     "data": {
      "text/html": [
       "<div>\n",
       "<style scoped>\n",
       "    .dataframe tbody tr th:only-of-type {\n",
       "        vertical-align: middle;\n",
       "    }\n",
       "\n",
       "    .dataframe tbody tr th {\n",
       "        vertical-align: top;\n",
       "    }\n",
       "\n",
       "    .dataframe thead th {\n",
       "        text-align: right;\n",
       "    }\n",
       "</style>\n",
       "<table border=\"1\" class=\"dataframe\">\n",
       "  <thead>\n",
       "    <tr style=\"text-align: right;\">\n",
       "      <th></th>\n",
       "      <th>OrderDateKey</th>\n",
       "      <th>Date</th>\n",
       "      <th>Day</th>\n",
       "      <th>Month</th>\n",
       "      <th>MonthShort</th>\n",
       "      <th>MonthNr</th>\n",
       "      <th>Quarter</th>\n",
       "      <th>Year</th>\n",
       "    </tr>\n",
       "  </thead>\n",
       "  <tbody>\n",
       "    <tr>\n",
       "      <th>0</th>\n",
       "      <td>20190101</td>\n",
       "      <td>2019-01-01</td>\n",
       "      <td>Tuesday</td>\n",
       "      <td>January</td>\n",
       "      <td>Jan</td>\n",
       "      <td>1</td>\n",
       "      <td>1</td>\n",
       "      <td>2019</td>\n",
       "    </tr>\n",
       "    <tr>\n",
       "      <th>1</th>\n",
       "      <td>20190102</td>\n",
       "      <td>2019-01-02</td>\n",
       "      <td>Wednesday</td>\n",
       "      <td>January</td>\n",
       "      <td>Jan</td>\n",
       "      <td>1</td>\n",
       "      <td>1</td>\n",
       "      <td>2019</td>\n",
       "    </tr>\n",
       "    <tr>\n",
       "      <th>2</th>\n",
       "      <td>20190103</td>\n",
       "      <td>2019-01-03</td>\n",
       "      <td>Thursday</td>\n",
       "      <td>January</td>\n",
       "      <td>Jan</td>\n",
       "      <td>1</td>\n",
       "      <td>1</td>\n",
       "      <td>2019</td>\n",
       "    </tr>\n",
       "    <tr>\n",
       "      <th>3</th>\n",
       "      <td>20190104</td>\n",
       "      <td>2019-01-04</td>\n",
       "      <td>Friday</td>\n",
       "      <td>January</td>\n",
       "      <td>Jan</td>\n",
       "      <td>1</td>\n",
       "      <td>1</td>\n",
       "      <td>2019</td>\n",
       "    </tr>\n",
       "    <tr>\n",
       "      <th>4</th>\n",
       "      <td>20190105</td>\n",
       "      <td>2019-01-05</td>\n",
       "      <td>Saturday</td>\n",
       "      <td>January</td>\n",
       "      <td>Jan</td>\n",
       "      <td>1</td>\n",
       "      <td>1</td>\n",
       "      <td>2019</td>\n",
       "    </tr>\n",
       "  </tbody>\n",
       "</table>\n",
       "</div>"
      ],
      "text/plain": [
       "   OrderDateKey        Date        Day    Month MonthShort  MonthNr  Quarter  \\\n",
       "0      20190101  2019-01-01    Tuesday  January        Jan        1        1   \n",
       "1      20190102  2019-01-02  Wednesday  January        Jan        1        1   \n",
       "2      20190103  2019-01-03   Thursday  January        Jan        1        1   \n",
       "3      20190104  2019-01-04     Friday  January        Jan        1        1   \n",
       "4      20190105  2019-01-05   Saturday  January        Jan        1        1   \n",
       "\n",
       "   Year  \n",
       "0  2019  \n",
       "1  2019  \n",
       "2  2019  \n",
       "3  2019  \n",
       "4  2019  "
      ]
     },
     "metadata": {},
     "output_type": "display_data"
    },
    {
     "name": "stdout",
     "output_type": "stream",
     "text": [
      "<class 'pandas.core.frame.DataFrame'>\n",
      "RangeIndex: 1096 entries, 0 to 1095\n",
      "Data columns (total 8 columns):\n",
      " #   Column        Non-Null Count  Dtype \n",
      "---  ------        --------------  ----- \n",
      " 0   OrderDateKey  1096 non-null   int64 \n",
      " 1   Date          1096 non-null   object\n",
      " 2   Day           1096 non-null   object\n",
      " 3   Month         1096 non-null   object\n",
      " 4   MonthShort    1096 non-null   object\n",
      " 5   MonthNr       1096 non-null   int64 \n",
      " 6   Quarter       1096 non-null   int64 \n",
      " 7   Year          1096 non-null   int64 \n",
      "dtypes: int64(4), object(4)\n",
      "memory usage: 68.6+ KB\n"
     ]
    },
    {
     "data": {
      "text/plain": [
       "None"
      ]
     },
     "metadata": {},
     "output_type": "display_data"
    }
   ],
   "source": [
    "df_check(calendar)"
   ]
  },
  {
   "cell_type": "markdown",
   "metadata": {},
   "source": [
    "### Клиенты"
   ]
  },
  {
   "cell_type": "code",
   "execution_count": 244,
   "metadata": {},
   "outputs": [
    {
     "data": {
      "text/html": [
       "<div>\n",
       "<style scoped>\n",
       "    .dataframe tbody tr th:only-of-type {\n",
       "        vertical-align: middle;\n",
       "    }\n",
       "\n",
       "    .dataframe tbody tr th {\n",
       "        vertical-align: top;\n",
       "    }\n",
       "\n",
       "    .dataframe thead th {\n",
       "        text-align: right;\n",
       "    }\n",
       "</style>\n",
       "<table border=\"1\" class=\"dataframe\">\n",
       "  <thead>\n",
       "    <tr style=\"text-align: right;\">\n",
       "      <th></th>\n",
       "      <th>CustomerKey</th>\n",
       "      <th>FirstName</th>\n",
       "      <th>LastName</th>\n",
       "      <th>Full Name</th>\n",
       "      <th>BirthDate</th>\n",
       "      <th>AgeOfCustomer</th>\n",
       "      <th>Gender</th>\n",
       "      <th>DateFirstPurchase</th>\n",
       "      <th>Customer City</th>\n",
       "      <th>Region Code</th>\n",
       "      <th>State Code</th>\n",
       "    </tr>\n",
       "  </thead>\n",
       "  <tbody>\n",
       "    <tr>\n",
       "      <th>0</th>\n",
       "      <td>11000</td>\n",
       "      <td>Jon</td>\n",
       "      <td>Yang</td>\n",
       "      <td>JonYang</td>\n",
       "      <td>1971-10-06</td>\n",
       "      <td>47</td>\n",
       "      <td>Male</td>\n",
       "      <td>2018-01-19</td>\n",
       "      <td>Rockhampton</td>\n",
       "      <td>AU</td>\n",
       "      <td>QLD</td>\n",
       "    </tr>\n",
       "    <tr>\n",
       "      <th>1</th>\n",
       "      <td>11001</td>\n",
       "      <td>Eugene</td>\n",
       "      <td>Huang</td>\n",
       "      <td>EugeneHuang</td>\n",
       "      <td>1976-05-10</td>\n",
       "      <td>42</td>\n",
       "      <td>Male</td>\n",
       "      <td>2018-01-15</td>\n",
       "      <td>Seaford</td>\n",
       "      <td>AU</td>\n",
       "      <td>VIC</td>\n",
       "    </tr>\n",
       "    <tr>\n",
       "      <th>2</th>\n",
       "      <td>11002</td>\n",
       "      <td>Ruben</td>\n",
       "      <td>Torres</td>\n",
       "      <td>RubenTorres</td>\n",
       "      <td>1971-02-09</td>\n",
       "      <td>47</td>\n",
       "      <td>Male</td>\n",
       "      <td>2018-01-07</td>\n",
       "      <td>Hobart</td>\n",
       "      <td>AU</td>\n",
       "      <td>TAS</td>\n",
       "    </tr>\n",
       "    <tr>\n",
       "      <th>3</th>\n",
       "      <td>11003</td>\n",
       "      <td>Christy</td>\n",
       "      <td>Zhu</td>\n",
       "      <td>ChristyZhu</td>\n",
       "      <td>1973-08-14</td>\n",
       "      <td>44</td>\n",
       "      <td>Female</td>\n",
       "      <td>2017-12-29</td>\n",
       "      <td>North Ryde</td>\n",
       "      <td>AU</td>\n",
       "      <td>NSW</td>\n",
       "    </tr>\n",
       "    <tr>\n",
       "      <th>4</th>\n",
       "      <td>11004</td>\n",
       "      <td>Elizabeth</td>\n",
       "      <td>Johnson</td>\n",
       "      <td>ElizabethJohnson</td>\n",
       "      <td>1979-08-05</td>\n",
       "      <td>39</td>\n",
       "      <td>Female</td>\n",
       "      <td>2018-01-23</td>\n",
       "      <td>Wollongong</td>\n",
       "      <td>AU</td>\n",
       "      <td>NSW</td>\n",
       "    </tr>\n",
       "  </tbody>\n",
       "</table>\n",
       "</div>"
      ],
      "text/plain": [
       "   CustomerKey  FirstName LastName         Full Name   BirthDate  \\\n",
       "0        11000        Jon     Yang           JonYang  1971-10-06   \n",
       "1        11001     Eugene    Huang       EugeneHuang  1976-05-10   \n",
       "2        11002      Ruben   Torres       RubenTorres  1971-02-09   \n",
       "3        11003    Christy      Zhu        ChristyZhu  1973-08-14   \n",
       "4        11004  Elizabeth  Johnson  ElizabethJohnson  1979-08-05   \n",
       "\n",
       "   AgeOfCustomer  Gender DateFirstPurchase Customer City Region Code  \\\n",
       "0             47    Male        2018-01-19   Rockhampton          AU   \n",
       "1             42    Male        2018-01-15       Seaford          AU   \n",
       "2             47    Male        2018-01-07        Hobart          AU   \n",
       "3             44  Female        2017-12-29    North Ryde          AU   \n",
       "4             39  Female        2018-01-23    Wollongong          AU   \n",
       "\n",
       "  State Code  \n",
       "0        QLD  \n",
       "1        VIC  \n",
       "2        TAS  \n",
       "3        NSW  \n",
       "4        NSW  "
      ]
     },
     "metadata": {},
     "output_type": "display_data"
    },
    {
     "name": "stdout",
     "output_type": "stream",
     "text": [
      "<class 'pandas.core.frame.DataFrame'>\n",
      "RangeIndex: 18484 entries, 0 to 18483\n",
      "Data columns (total 11 columns):\n",
      " #   Column             Non-Null Count  Dtype \n",
      "---  ------             --------------  ----- \n",
      " 0   CustomerKey        18484 non-null  int64 \n",
      " 1   FirstName          18484 non-null  object\n",
      " 2   LastName           18484 non-null  object\n",
      " 3   Full Name          18484 non-null  object\n",
      " 4   BirthDate          18484 non-null  object\n",
      " 5   AgeOfCustomer      18484 non-null  int64 \n",
      " 6   Gender             18484 non-null  object\n",
      " 7   DateFirstPurchase  18484 non-null  object\n",
      " 8   Customer City      18484 non-null  object\n",
      " 9   Region Code        18484 non-null  object\n",
      " 10  State Code         18484 non-null  object\n",
      "dtypes: int64(2), object(9)\n",
      "memory usage: 1.6+ MB\n"
     ]
    },
    {
     "data": {
      "text/plain": [
       "None"
      ]
     },
     "metadata": {},
     "output_type": "display_data"
    }
   ],
   "source": [
    "df_check(customers)"
   ]
  },
  {
   "cell_type": "code",
   "execution_count": 245,
   "metadata": {},
   "outputs": [],
   "source": [
    "customers.rename(columns = {'Customer City':'City'}, inplace = True)"
   ]
  },
  {
   "cell_type": "markdown",
   "metadata": {},
   "source": [
    "#### Как мы видим, большинство клиентов из Лондона и Парижа"
   ]
  },
  {
   "cell_type": "code",
   "execution_count": 246,
   "metadata": {},
   "outputs": [
    {
     "data": {
      "text/plain": [
       "<AxesSubplot:>"
      ]
     },
     "execution_count": 246,
     "metadata": {},
     "output_type": "execute_result"
    },
    {
     "data": {
      "image/png": "[encoded data removed]",
      "text/plain": [
       "<Figure size 432x288 with 1 Axes>"
      ]
     },
     "metadata": {
      "needs_background": "light"
     },
     "output_type": "display_data"
    }
   ],
   "source": [
    "customers['City'].value_counts().head(10).sort_values().plot(kind='barh')"
   ]
  },
  {
   "cell_type": "markdown",
   "metadata": {},
   "source": [
    "#### Проверяем страны клиентов, которые совершили самые рание заказы "
   ]
  },
  {
   "cell_type": "code",
   "execution_count": 247,
   "metadata": {},
   "outputs": [
    {
     "data": {
      "text/plain": [
       "3           North Ryde\n",
       "3501     Beverly Hills\n",
       "10768        Metchosin\n",
       "14863          Lebanon\n",
       "17389           Pantin\n",
       "Name: City, dtype: object"
      ]
     },
     "execution_count": 247,
     "metadata": {},
     "output_type": "execute_result"
    }
   ],
   "source": [
    "customers['City'][customers['DateFirstPurchase'] == min(customers['DateFirstPurchase'])]"
   ]
  },
  {
   "cell_type": "markdown",
   "metadata": {},
   "source": [
    "#### Исследуем возрастные группы"
   ]
  },
  {
   "cell_type": "code",
   "execution_count": 248,
   "metadata": {
    "scrolled": false
   },
   "outputs": [
    {
     "name": "stdout",
     "output_type": "stream",
     "text": [
      "8 клиентов старше 100 лет. Что составляет 0.04 % от количества клиентов.\n",
      "221 клиентов от 80 до 100 лет. Что составляет 1.2 % от количества клиентов.\n",
      "3929 клиентов от 60 до 80 лет. Что составляет 21.26 % от количества клиентов.\n",
      "4589 клиентов от 50 до 60 лет. Что составляет 24.83 % от количества клиентов.\n",
      "6409 клиентов от 40 до 50 лет. Что составляет 34.67 % от количества клиентов.\n",
      "3328 клиентов от 30 до 40 лет. Что составляет 18.0 % от количества клиентов.\n",
      "0 клиентов от 20 до 30 лет. Что составляет 0.0 % от количества клиентов.\n"
     ]
    },
    {
     "data": {
      "image/png": "[encoded data removed]",
      "text/plain": [
       "<Figure size 720x360 with 1 Axes>"
      ]
     },
     "metadata": {
      "needs_background": "light"
     },
     "output_type": "display_data"
    }
   ],
   "source": [
    "print(len(customers[(customers['AgeOfCustomer'] > 100)]),\"клиентов старше 100 лет. Что составляет\",\n",
    "     round((len(customers[(customers['AgeOfCustomer'] > 100)]) * 100) / len(customers['AgeOfCustomer']), 2), \"% от количества клиентов.\")\n",
    "\n",
    "print(len(customers[(customers['AgeOfCustomer'] <= 100) &(customers['AgeOfCustomer'] >= 80)] ),\"клиентов от 80 до 100 лет. Что составляет\",\n",
    "     round((len(customers[(customers['AgeOfCustomer'] <= 100) &(customers['AgeOfCustomer'] >= 80)] )* 100) / len(customers['AgeOfCustomer']), 2), \"% от количества клиентов.\")\n",
    "\n",
    "print(len(customers[(customers['AgeOfCustomer'] <= 79) &(customers['AgeOfCustomer'] >= 60)] ),\"клиентов от 60 до 80 лет. Что составляет\",\n",
    "     round((len(customers[(customers['AgeOfCustomer'] >= 60) &(customers['AgeOfCustomer'] <= 79)] ) * 100) / len(customers['AgeOfCustomer']), 2), \"% от количества клиентов.\")\n",
    "\n",
    "print(len(customers[(customers['AgeOfCustomer'] >= 50) &(customers['AgeOfCustomer'] <= 59)] ),\"клиентов от 50 до 60 лет. Что составляет\",\n",
    "     round((len(customers[(customers['AgeOfCustomer'] >= 50) &(customers['AgeOfCustomer'] <= 59)] ) * 100) / len(customers['AgeOfCustomer']), 2), \"% от количества клиентов.\")\n",
    "\n",
    "print(len(customers[(customers['AgeOfCustomer'] >= 40) &(customers['AgeOfCustomer'] <= 49)] ),\"клиентов от 40 до 50 лет. Что составляет\",\n",
    "     round((len(customers[(customers['AgeOfCustomer'] >= 40) &(customers['AgeOfCustomer'] <= 49)] ) * 100) / len(customers['AgeOfCustomer']), 2), \"% от количества клиентов.\")\n",
    "\n",
    "print(len(customers[(customers['AgeOfCustomer'] >= 30) &(customers['AgeOfCustomer'] <= 39)] ),\"клиентов от 30 до 40 лет. Что составляет\",\n",
    "     round((len(customers[(customers['AgeOfCustomer'] >= 30) &(customers['AgeOfCustomer'] <= 39)] ) * 100) / len(customers['AgeOfCustomer']), 2), \"% от количества клиентов.\")\n",
    "\n",
    "print(len(customers[(customers['AgeOfCustomer'] >= 20) &(customers['AgeOfCustomer'] <= 29)] ),\"клиентов от 20 до 30 лет. Что составляет\",\n",
    "     round((len(customers[(customers['AgeOfCustomer'] >= 20) &(customers['AgeOfCustomer'] <= 29)] ) * 100) / len(customers['AgeOfCustomer']), 2), \"% от количества клиентов.\")\n",
    "\n",
    "#customers.groupby('Gender')['AgeOfCustomer'].plot(kind='kde')\n",
    "#customers['AgeOfCustomer'].hist()\n",
    "legend = ['Male', 'Female']\n",
    "fig, axs = plt.subplots(1, 1,\n",
    "                        figsize =(10, 5),\n",
    "                        tight_layout = True)\n",
    "\n",
    "for s in ['top', 'bottom', 'left', 'right']:\n",
    "    axs.spines[s].set_visible(False)\n",
    "    \n",
    "#axs.xaxis.set_ticks_position('none')\n",
    "#axs.yaxis.set_ticks_position('none')\n",
    "\n",
    "axs.xaxis.set_tick_params(pad = 5)\n",
    "axs.yaxis.set_tick_params(pad = 10)\n",
    "\n",
    "axs.grid(b = True, color ='grey',\n",
    "        linestyle ='-.', linewidth = 0.5,\n",
    "        alpha = 0.6)\n",
    "\n",
    "#N, bins, patches = axs.hist(customers['AgeOfCustomer'], bins = 30, histtype='bar', ec='lightblue')\n",
    "axs.hist([customers['AgeOfCustomer'][customers['Gender'] == 'Male'],\n",
    "          customers['AgeOfCustomer'][customers['Gender'] == 'Female']],\n",
    "         bins = 30, \n",
    "         histtype='bar', \n",
    "         ec='lightblue')\n",
    "#axs.hist(customers['AgeOfCustomer'][customers['Gender'] == 'Female'], bins = 30, histtype='bar', ec='lightblue')\n",
    "\n",
    "plt.xlabel(\"Customers Age\")\n",
    "plt.legend(legend)\n",
    "plt.title('Customized histogram')\n",
    " \n",
    "# Show plot\n",
    "plt.show()"
   ]
  },
  {
   "cell_type": "code",
   "execution_count": 249,
   "metadata": {},
   "outputs": [
    {
     "data": {
      "text/plain": [
       "Index([], dtype='object')"
      ]
     },
     "execution_count": 249,
     "metadata": {},
     "output_type": "execute_result"
    }
   ],
   "source": [
    "# Проверяем датасет на наличие пустых значений\n",
    "customers.columns[customers.isnull().any()]"
   ]
  },
  {
   "cell_type": "markdown",
   "metadata": {},
   "source": [
    "#### Отсавим все столбцы для дальнейшего объединения."
   ]
  },
  {
   "cell_type": "code",
   "execution_count": 250,
   "metadata": {},
   "outputs": [],
   "source": [
    "# Избавляемся ненужных столбцов\n",
    "\n",
    "# -- FirstName\n",
    "# -- LastName\n",
    "\n",
    "# так как мы заранее создали столбец возраста \n",
    "# в SQL, удалим следующие столбцы:\n",
    "\n",
    "# -- BirthDate\n",
    "# -- DateFirstPurchase\n",
    "\n",
    "#customers = customers.drop(['FirstName', 'LastName', 'BirthDate', 'DateFirstPurchase'], axis = 1)"
   ]
  },
  {
   "cell_type": "markdown",
   "metadata": {},
   "source": [
    "### Продажи"
   ]
  },
  {
   "cell_type": "code",
   "execution_count": 251,
   "metadata": {},
   "outputs": [
    {
     "data": {
      "text/html": [
       "<div>\n",
       "<style scoped>\n",
       "    .dataframe tbody tr th:only-of-type {\n",
       "        vertical-align: middle;\n",
       "    }\n",
       "\n",
       "    .dataframe tbody tr th {\n",
       "        vertical-align: top;\n",
       "    }\n",
       "\n",
       "    .dataframe thead th {\n",
       "        text-align: right;\n",
       "    }\n",
       "</style>\n",
       "<table border=\"1\" class=\"dataframe\">\n",
       "  <thead>\n",
       "    <tr style=\"text-align: right;\">\n",
       "      <th></th>\n",
       "      <th>ProductKey</th>\n",
       "      <th>OrderDateKey</th>\n",
       "      <th>DueDateKey</th>\n",
       "      <th>ShipDateKey</th>\n",
       "      <th>CustomerKey</th>\n",
       "      <th>SalesOrderNumber</th>\n",
       "      <th>SalesAmount</th>\n",
       "    </tr>\n",
       "  </thead>\n",
       "  <tbody>\n",
       "    <tr>\n",
       "      <th>0</th>\n",
       "      <td>381</td>\n",
       "      <td>20190101</td>\n",
       "      <td>20190113</td>\n",
       "      <td>20190108</td>\n",
       "      <td>16942</td>\n",
       "      <td>SO46700</td>\n",
       "      <td>1000,4375</td>\n",
       "    </tr>\n",
       "    <tr>\n",
       "      <th>1</th>\n",
       "      <td>375</td>\n",
       "      <td>20190101</td>\n",
       "      <td>20190113</td>\n",
       "      <td>20190108</td>\n",
       "      <td>15114</td>\n",
       "      <td>SO46701</td>\n",
       "      <td>2181,5625</td>\n",
       "    </tr>\n",
       "    <tr>\n",
       "      <th>2</th>\n",
       "      <td>369</td>\n",
       "      <td>20190101</td>\n",
       "      <td>20190113</td>\n",
       "      <td>20190108</td>\n",
       "      <td>15116</td>\n",
       "      <td>SO46702</td>\n",
       "      <td>2443,35</td>\n",
       "    </tr>\n",
       "    <tr>\n",
       "      <th>3</th>\n",
       "      <td>337</td>\n",
       "      <td>20190101</td>\n",
       "      <td>20190113</td>\n",
       "      <td>20190108</td>\n",
       "      <td>20576</td>\n",
       "      <td>SO46703</td>\n",
       "      <td>782,99</td>\n",
       "    </tr>\n",
       "    <tr>\n",
       "      <th>4</th>\n",
       "      <td>370</td>\n",
       "      <td>20190101</td>\n",
       "      <td>20190113</td>\n",
       "      <td>20190108</td>\n",
       "      <td>13059</td>\n",
       "      <td>SO46704</td>\n",
       "      <td>2443,35</td>\n",
       "    </tr>\n",
       "  </tbody>\n",
       "</table>\n",
       "</div>"
      ],
      "text/plain": [
       "   ProductKey  OrderDateKey  DueDateKey  ShipDateKey  CustomerKey  \\\n",
       "0         381      20190101    20190113     20190108        16942   \n",
       "1         375      20190101    20190113     20190108        15114   \n",
       "2         369      20190101    20190113     20190108        15116   \n",
       "3         337      20190101    20190113     20190108        20576   \n",
       "4         370      20190101    20190113     20190108        13059   \n",
       "\n",
       "  SalesOrderNumber SalesAmount  \n",
       "0          SO46700   1000,4375  \n",
       "1          SO46701   2181,5625  \n",
       "2          SO46702     2443,35  \n",
       "3          SO46703      782,99  \n",
       "4          SO46704     2443,35  "
      ]
     },
     "metadata": {},
     "output_type": "display_data"
    },
    {
     "name": "stdout",
     "output_type": "stream",
     "text": [
      "<class 'pandas.core.frame.DataFrame'>\n",
      "RangeIndex: 58168 entries, 0 to 58167\n",
      "Data columns (total 7 columns):\n",
      " #   Column            Non-Null Count  Dtype \n",
      "---  ------            --------------  ----- \n",
      " 0   ProductKey        58168 non-null  int64 \n",
      " 1   OrderDateKey      58168 non-null  int64 \n",
      " 2   DueDateKey        58168 non-null  int64 \n",
      " 3   ShipDateKey       58168 non-null  int64 \n",
      " 4   CustomerKey       58168 non-null  int64 \n",
      " 5   SalesOrderNumber  58168 non-null  object\n",
      " 6   SalesAmount       58168 non-null  object\n",
      "dtypes: int64(5), object(2)\n",
      "memory usage: 3.1+ MB\n"
     ]
    },
    {
     "data": {
      "text/plain": [
       "None"
      ]
     },
     "metadata": {},
     "output_type": "display_data"
    }
   ],
   "source": [
    "df_check(sales)"
   ]
  },
  {
   "cell_type": "code",
   "execution_count": 252,
   "metadata": {},
   "outputs": [
    {
     "data": {
      "text/plain": [
       "Index([], dtype='object')"
      ]
     },
     "execution_count": 252,
     "metadata": {},
     "output_type": "execute_result"
    }
   ],
   "source": [
    "# Проверяем датасет на наличие пустых значений\n",
    "sales.columns[sales.isnull().any()]"
   ]
  },
  {
   "cell_type": "code",
   "execution_count": 253,
   "metadata": {},
   "outputs": [],
   "source": [
    "# Избавляемся от ненужных столбцов:\n",
    "# -- OrderDateKey\n",
    "# -- DueDateKey\n",
    "# -- ShipDateKey\n",
    "# -- SalesOrderNumber\n",
    "\n",
    "#sales = sales.drop(['DueDateKey', 'ShipDateKey', 'SalesOrderNumber'], axis = 1)"
   ]
  },
  {
   "cell_type": "markdown",
   "metadata": {},
   "source": [
    "#### Поемняем тип данных у столбца -- SalesAmount в float"
   ]
  },
  {
   "cell_type": "code",
   "execution_count": 254,
   "metadata": {},
   "outputs": [],
   "source": [
    "sales['SalesAmount'] = pd.to_numeric(sales['SalesAmount'].str.replace(\",\", \".\"))"
   ]
  },
  {
   "cell_type": "markdown",
   "metadata": {},
   "source": [
    "### Товары"
   ]
  },
  {
   "cell_type": "code",
   "execution_count": 255,
   "metadata": {},
   "outputs": [
    {
     "data": {
      "text/html": [
       "<div>\n",
       "<style scoped>\n",
       "    .dataframe tbody tr th:only-of-type {\n",
       "        vertical-align: middle;\n",
       "    }\n",
       "\n",
       "    .dataframe tbody tr th {\n",
       "        vertical-align: top;\n",
       "    }\n",
       "\n",
       "    .dataframe thead th {\n",
       "        text-align: right;\n",
       "    }\n",
       "</style>\n",
       "<table border=\"1\" class=\"dataframe\">\n",
       "  <thead>\n",
       "    <tr style=\"text-align: right;\">\n",
       "      <th></th>\n",
       "      <th>ProductKey</th>\n",
       "      <th>ProductItemCode</th>\n",
       "      <th>Product Name</th>\n",
       "      <th>Sub Category</th>\n",
       "      <th>Product Category</th>\n",
       "      <th>StandardCost</th>\n",
       "      <th>Product Color</th>\n",
       "      <th>Product Size</th>\n",
       "      <th>Product Line</th>\n",
       "      <th>Model Name</th>\n",
       "      <th>Product Description</th>\n",
       "      <th>Product Description DE</th>\n",
       "      <th>Product Status</th>\n",
       "    </tr>\n",
       "  </thead>\n",
       "  <tbody>\n",
       "    <tr>\n",
       "      <th>0</th>\n",
       "      <td>1</td>\n",
       "      <td>AR-5381</td>\n",
       "      <td>Adjustable Race</td>\n",
       "      <td>NaN</td>\n",
       "      <td>NaN</td>\n",
       "      <td>NaN</td>\n",
       "      <td>NaN</td>\n",
       "      <td>NaN</td>\n",
       "      <td>NaN</td>\n",
       "      <td>NaN</td>\n",
       "      <td>NaN</td>\n",
       "      <td>NaN</td>\n",
       "      <td>Current</td>\n",
       "    </tr>\n",
       "    <tr>\n",
       "      <th>1</th>\n",
       "      <td>2</td>\n",
       "      <td>BA-8327</td>\n",
       "      <td>Bearing Ball</td>\n",
       "      <td>NaN</td>\n",
       "      <td>NaN</td>\n",
       "      <td>NaN</td>\n",
       "      <td>NaN</td>\n",
       "      <td>NaN</td>\n",
       "      <td>NaN</td>\n",
       "      <td>NaN</td>\n",
       "      <td>NaN</td>\n",
       "      <td>NaN</td>\n",
       "      <td>Current</td>\n",
       "    </tr>\n",
       "    <tr>\n",
       "      <th>2</th>\n",
       "      <td>3</td>\n",
       "      <td>BE-2349</td>\n",
       "      <td>BB Ball Bearing</td>\n",
       "      <td>NaN</td>\n",
       "      <td>NaN</td>\n",
       "      <td>NaN</td>\n",
       "      <td>NaN</td>\n",
       "      <td>NaN</td>\n",
       "      <td>NaN</td>\n",
       "      <td>NaN</td>\n",
       "      <td>NaN</td>\n",
       "      <td>NaN</td>\n",
       "      <td>Current</td>\n",
       "    </tr>\n",
       "    <tr>\n",
       "      <th>3</th>\n",
       "      <td>4</td>\n",
       "      <td>BE-2908</td>\n",
       "      <td>Headset Ball Bearings</td>\n",
       "      <td>NaN</td>\n",
       "      <td>NaN</td>\n",
       "      <td>NaN</td>\n",
       "      <td>NaN</td>\n",
       "      <td>NaN</td>\n",
       "      <td>NaN</td>\n",
       "      <td>NaN</td>\n",
       "      <td>NaN</td>\n",
       "      <td>NaN</td>\n",
       "      <td>Current</td>\n",
       "    </tr>\n",
       "    <tr>\n",
       "      <th>4</th>\n",
       "      <td>5</td>\n",
       "      <td>BL-2036</td>\n",
       "      <td>Blade</td>\n",
       "      <td>NaN</td>\n",
       "      <td>NaN</td>\n",
       "      <td>NaN</td>\n",
       "      <td>NaN</td>\n",
       "      <td>NaN</td>\n",
       "      <td>NaN</td>\n",
       "      <td>NaN</td>\n",
       "      <td>NaN</td>\n",
       "      <td>NaN</td>\n",
       "      <td>Current</td>\n",
       "    </tr>\n",
       "  </tbody>\n",
       "</table>\n",
       "</div>"
      ],
      "text/plain": [
       "   ProductKey ProductItemCode           Product Name Sub Category  \\\n",
       "0           1         AR-5381        Adjustable Race          NaN   \n",
       "1           2         BA-8327           Bearing Ball          NaN   \n",
       "2           3         BE-2349        BB Ball Bearing          NaN   \n",
       "3           4         BE-2908  Headset Ball Bearings          NaN   \n",
       "4           5         BL-2036                  Blade          NaN   \n",
       "\n",
       "  Product Category StandardCost Product Color Product Size Product Line  \\\n",
       "0              NaN          NaN           NaN          NaN          NaN   \n",
       "1              NaN          NaN           NaN          NaN          NaN   \n",
       "2              NaN          NaN           NaN          NaN          NaN   \n",
       "3              NaN          NaN           NaN          NaN          NaN   \n",
       "4              NaN          NaN           NaN          NaN          NaN   \n",
       "\n",
       "  Model Name Product Description Product Description DE Product Status  \n",
       "0        NaN                 NaN                    NaN        Current  \n",
       "1        NaN                 NaN                    NaN        Current  \n",
       "2        NaN                 NaN                    NaN        Current  \n",
       "3        NaN                 NaN                    NaN        Current  \n",
       "4        NaN                 NaN                    NaN        Current  "
      ]
     },
     "metadata": {},
     "output_type": "display_data"
    },
    {
     "name": "stdout",
     "output_type": "stream",
     "text": [
      "<class 'pandas.core.frame.DataFrame'>\n",
      "RangeIndex: 606 entries, 0 to 605\n",
      "Data columns (total 13 columns):\n",
      " #   Column                  Non-Null Count  Dtype \n",
      "---  ------                  --------------  ----- \n",
      " 0   ProductKey              606 non-null    int64 \n",
      " 1   ProductItemCode         606 non-null    object\n",
      " 2   Product Name            606 non-null    object\n",
      " 3   Sub Category            397 non-null    object\n",
      " 4   Product Category        397 non-null    object\n",
      " 5   StandardCost            395 non-null    object\n",
      " 6   Product Color           352 non-null    object\n",
      " 7   Product Size            299 non-null    object\n",
      " 8   Product Line            380 non-null    object\n",
      " 9   Model Name              397 non-null    object\n",
      " 10  Product Description     396 non-null    object\n",
      " 11  Product Description DE  396 non-null    object\n",
      " 12  Product Status          606 non-null    object\n",
      "dtypes: int64(1), object(12)\n",
      "memory usage: 61.7+ KB\n"
     ]
    },
    {
     "data": {
      "text/plain": [
       "None"
      ]
     },
     "metadata": {},
     "output_type": "display_data"
    }
   ],
   "source": [
    "df_check(products)"
   ]
  },
  {
   "cell_type": "code",
   "execution_count": 256,
   "metadata": {},
   "outputs": [
    {
     "data": {
      "text/plain": [
       "Index(['Sub Category', 'Product Category', 'StandardCost', 'Product Color',\n",
       "       'Product Size', 'Product Line', 'Model Name', 'Product Description',\n",
       "       'Product Description DE'],\n",
       "      dtype='object')"
      ]
     },
     "execution_count": 256,
     "metadata": {},
     "output_type": "execute_result"
    }
   ],
   "source": [
    "# Проверяем столбцы, в которых пустые значения\n",
    "\n",
    "products.columns[products.isnull().any()]"
   ]
  },
  {
   "cell_type": "code",
   "execution_count": 257,
   "metadata": {},
   "outputs": [
    {
     "name": "stdout",
     "output_type": "stream",
     "text": [
      "В столбце Sub Category отсутствует \u001b[4m34.49 процентов\u001b[0m информации.\n",
      "В столбце Product Category отсутствует \u001b[4m34.49 процентов\u001b[0m информации.\n",
      "В столбце StandardCost отсутствует \u001b[4m34.82 процентов\u001b[0m информации.\n",
      "В столбце Product Color отсутствует \u001b[4m41.91 процентов\u001b[0m информации.\n",
      "В столбце Product Size отсутствует \u001b[4m50.66 процентов\u001b[0m информации.\n",
      "В столбце Product Line отсутствует \u001b[4m37.29 процентов\u001b[0m информации.\n",
      "В столбце Model Name отсутствует \u001b[4m34.49 процентов\u001b[0m информации.\n",
      "В столбце Product Description отсутствует \u001b[4m34.65 процентов\u001b[0m информации.\n",
      "В столбце Product Description DE отсутствует \u001b[4m34.65 процентов\u001b[0m информации.\n"
     ]
    },
    {
     "data": {
      "image/png": "[encoded data removed]",
      "text/plain": [
       "<Figure size 720x360 with 1 Axes>"
      ]
     },
     "metadata": {
      "needs_background": "light"
     },
     "output_type": "display_data"
    }
   ],
   "source": [
    "# Проверяем процент пустых значений\n",
    "procent_check('Sub Category', products)\n",
    "procent_check('Product Category', products)\n",
    "procent_check('StandardCost', products)\n",
    "procent_check('Product Color', products)\n",
    "procent_check('Product Size', products)\n",
    "procent_check('Product Line', products)\n",
    "procent_check('Model Name', products)\n",
    "procent_check('Product Description', products)\n",
    "procent_check('Product Description DE', products)\n",
    "\n",
    "fig, axes = plt.subplots(1,1, figsize=(10, 5))\n",
    "sns.heatmap(products.isna(), ax=axes,\n",
    "                    cbar = False)\n",
    "axes.set_title(f'Empty values for Product',\n",
    "                          size=15)\n",
    "plt.subplots_adjust(hspace=1);"
   ]
  },
  {
   "cell_type": "code",
   "execution_count": 258,
   "metadata": {},
   "outputs": [
    {
     "data": {
      "text/plain": [
       "214"
      ]
     },
     "execution_count": 258,
     "metadata": {},
     "output_type": "execute_result"
    }
   ],
   "source": [
    "# Проверим минимальный номер товара\n",
    "sales['ProductKey'].min()"
   ]
  },
  {
   "cell_type": "code",
   "execution_count": 259,
   "metadata": {},
   "outputs": [
    {
     "name": "stdout",
     "output_type": "stream",
     "text": [
      "Отсутствуют товары (номера) с 1 по 211\n"
     ]
    }
   ],
   "source": [
    "# Проверим какие товары (номер) отсутствуют\n",
    "print('Отсутствуют товары (номера) с',min(products['ProductKey'][products['StandardCost'].isna()]), 'по',max(products['ProductKey'][products['StandardCost'].isna()]))"
   ]
  },
  {
   "cell_type": "code",
   "execution_count": 260,
   "metadata": {},
   "outputs": [],
   "source": [
    "# Так как товары не были заказаны вообще, то мы их удалим\n",
    "#products.dropna(subset=['StandardCost'], inplace = True)"
   ]
  },
  {
   "cell_type": "code",
   "execution_count": 261,
   "metadata": {},
   "outputs": [],
   "source": [
    "# Столбец -- StandardCost хранит в себе данные о стоимости товара\n",
    "# Необходимо поменять тип этих данных и найти решение на замену \n",
    "# пустых показателей\n",
    "\n",
    "#products[\"StandardCost\"] = pd.to_numeric(products[\"StandardCost\"].str.replace(',','.'))"
   ]
  },
  {
   "cell_type": "code",
   "execution_count": 262,
   "metadata": {},
   "outputs": [],
   "source": [
    "# Для проверки\n",
    "#products[\"StandardCost\"] = products[\"StandardCost\"].fillna(0.0)"
   ]
  },
  {
   "cell_type": "markdown",
   "metadata": {},
   "source": [
    "### Проверим наличие одинаковых позиций, возможно произошел сбой при сборке"
   ]
  },
  {
   "cell_type": "code",
   "execution_count": 263,
   "metadata": {},
   "outputs": [
    {
     "data": {
      "text/plain": [
       "StandardCost  ProductItemCode\n",
       "True          AR-5381            1\n",
       "              BA-8327            1\n",
       "              BE-2349            1\n",
       "              BE-2908            1\n",
       "              BL-2036            1\n",
       "                                ..\n",
       "              SR-2098            1\n",
       "              SS-2985            1\n",
       "              ST-9828            1\n",
       "              TO-2301            1\n",
       "              TP-0923            1\n",
       "Name: ProductItemCode, Length: 211, dtype: int64"
      ]
     },
     "execution_count": 263,
     "metadata": {},
     "output_type": "execute_result"
    }
   ],
   "source": [
    "search_for_null_new = products[products[\"StandardCost\"].isna()]\n",
    "search_for_null_new.groupby(products[\"StandardCost\"].isna(), sort = True)['ProductItemCode'].value_counts()"
   ]
  },
  {
   "cell_type": "code",
   "execution_count": 264,
   "metadata": {},
   "outputs": [],
   "source": [
    "search_for_null = products.ProductItemCode[products[\"StandardCost\"].isna()]\n",
    "search_for_value = products.ProductItemCode[products[\"StandardCost\"].notna()]"
   ]
  },
  {
   "cell_type": "code",
   "execution_count": 265,
   "metadata": {},
   "outputs": [],
   "source": [
    "test_for_value = {}\n",
    "\n",
    "for item in search_for_null:\n",
    "    test_for_value[item] = 0\n",
    "\n",
    "for item in test_for_value:\n",
    "    for cell in search_for_value:\n",
    "        if cell == item:\n",
    "            test_for_value[item] +=1\n",
    "        else:\n",
    "            test_for_value[item] +=0"
   ]
  },
  {
   "cell_type": "code",
   "execution_count": 266,
   "metadata": {},
   "outputs": [
    {
     "data": {
      "text/plain": [
       "211"
      ]
     },
     "metadata": {},
     "output_type": "display_data"
    },
    {
     "data": {
      "text/plain": [
       "dict_items([('AR-5381', 0), ('BA-8327', 0), ('BE-2349', 0), ('BE-2908', 0), ('BL-2036', 0), ('CA-5965', 0), ('CA-6738', 0), ('CA-7457', 0), ('CB-2903', 0), ('CN-6137', 0), ('CR-7833', 0), ('CR-9981', 0), ('CS-2812', 0), ('DC-8732', 0), ('DC-9824', 0), ('DT-2377', 0), ('EC-M092', 0), ('EC-R098', 0), ('EC-T209', 0), ('FE-3760', 0), ('FH-2981', 0), ('FW-1000', 0), ('FW-1200', 0), ('FW-1400', 0), ('FW-3400', 0), ('FW-3800', 0), ('FW-5160', 0), ('FW-5800', 0), ('FW-7160', 0), ('FW-9160', 0), ('FC-3654', 0), ('FC-3982', 0), ('FL-2301', 0), ('GP-0982', 0), ('GT-0820', 0), ('GT-1209', 0), ('GT-2908', 0), ('HJ-1213', 0), ('HJ-1220', 0), ('HJ-1420', 0), ('HJ-1428', 0), ('HJ-3410', 0), ('HJ-3416', 0), ('HJ-3816', 0), ('HJ-3824', 0), ('HJ-5161', 0), ('HJ-5162', 0), ('HJ-5811', 0), ('HJ-5818', 0), ('HJ-7161', 0), ('HJ-7162', 0), ('HJ-9080', 0), ('HJ-9161', 0), ('HN-1024', 0), ('HN-1032', 0), ('HN-1213', 0), ('HN-1220', 0), ('HN-1224', 0), ('HN-1420', 0), ('HN-1428', 0), ('HN-3410', 0), ('HN-3416', 0), ('HN-3816', 0), ('HN-3824', 0), ('HN-4402', 0), ('HN-5161', 0), ('HN-5162', 0), ('HN-5400', 0), ('HN-5811', 0), ('HN-5818', 0), ('HN-6320', 0), ('HN-7161', 0), ('HN-7162', 0), ('HN-8320', 0), ('HN-9161', 0), ('HN-9168', 0), ('HT-2981', 0), ('HT-8019', 0), ('HU-6280', 0), ('HU-8998', 0), ('KW-4091', 0), ('LE-1000', 0), ('LE-1200', 0), ('LE-1201', 0), ('LE-1400', 0), ('LE-3800', 0), ('LE-5160', 0), ('LE-6000', 0), ('LE-7160', 0), ('LE-8000', 0), ('LI-1000', 0), ('LI-1200', 0), ('LI-1201', 0), ('LI-1400', 0), ('LI-3800', 0), ('LI-5160', 0), ('LI-5800', 0), ('LI-6000', 0), ('LI-7160', 0), ('LI-8000', 0), ('LJ-1213', 0), ('LJ-1220', 0), ('LJ-1420', 0), ('LJ-1428', 0), ('LJ-3410', 0), ('LJ-3416', 0), ('LJ-3816', 0), ('LJ-3824', 0), ('LJ-5161', 0), ('LJ-5162', 0), ('LJ-5811', 0), ('LJ-5818', 0), ('LJ-7161', 0), ('LJ-7162', 0), ('LJ-9080', 0), ('LJ-9161', 0), ('LN-1024', 0), ('LN-1032', 0), ('LN-1213', 0), ('LN-1220', 0), ('LN-1224', 0), ('LN-1420', 0), ('LN-1428', 0), ('LN-3410', 0), ('LN-3416', 0), ('LN-3816', 0), ('LN-3824', 0), ('LN-4400', 0), ('LN-5161', 0), ('LN-5162', 0), ('LN-5400', 0), ('LN-5811', 0), ('LN-5818', 0), ('LN-6320', 0), ('LN-7161', 0), ('LN-7162', 0), ('LN-8320', 0), ('LN-9080', 0), ('LN-9161', 0), ('LR-2398', 0), ('LR-8520', 0), ('LW-1000', 0), ('LW-1200', 0), ('LW-1201', 0), ('LW-1400', 0), ('LW-3400', 0), ('LW-3800', 0), ('LW-4000', 0), ('LW-5160', 0), ('LW-5800', 0), ('LW-6000', 0), ('LW-7160', 0), ('LW-8000', 0), ('LW-9160', 0), ('MA-7075', 0), ('MB-2024', 0), ('MB-6061', 0), ('MP-2066', 0), ('MP-2503', 0), ('MP-4960', 0), ('MS-0253', 0), ('MS-1256', 0), ('MS-1981', 0), ('MS-2259', 0), ('MS-2341', 0), ('MS-2348', 0), ('MS-6061', 0), ('MT-1000', 0), ('NI-4127', 0), ('NI-9522', 0), ('PA-187B', 0), ('PA-361R', 0), ('PA-529S', 0), ('PA-632U', 0), ('PA-823Y', 0), ('PB-6109', 0), ('RA-2345', 0), ('RA-7490', 0), ('RF-9198', 0), ('RM-M464', 0), ('RM-M692', 0), ('RM-M823', 0), ('RM-R436', 0), ('RM-R600', 0), ('RM-R800', 0), ('RM-T801', 0), ('SA-M198', 0), ('SA-M237', 0), ('SA-M687', 0), ('SA-R127', 0), ('SA-R430', 0), ('SA-R522', 0), ('SA-T467', 0), ('SA-T612', 0), ('SA-T872', 0), ('SD-2342', 0), ('SD-9872', 0), ('SH-4562', 0), ('SH-9312', 0), ('SK-9283', 0), ('SL-0931', 0), ('SM-9087', 0), ('SP-2981', 0), ('SR-2098', 0), ('SS-2985', 0), ('ST-9828', 0), ('TO-2301', 0), ('TP-0923', 0), ('RC-0291', 0), ('FR-R92B-58', 0), ('FR-R92R-58', 0)])"
      ]
     },
     "execution_count": 266,
     "metadata": {},
     "output_type": "execute_result"
    }
   ],
   "source": [
    "# Убедимся, что товар был уникальным и не встречается в датасете более 1 раза\n",
    "display(sum(map((0).__eq__, test_for_value.values())))\n",
    "test_for_value.items()"
   ]
  },
  {
   "cell_type": "markdown",
   "metadata": {},
   "source": [
    "#### Способ 2"
   ]
  },
  {
   "cell_type": "code",
   "execution_count": 267,
   "metadata": {},
   "outputs": [],
   "source": [
    "search_for_name = products['Product Name'][products[\"StandardCost\"].isna()]\n",
    "\n",
    "col = {}\n",
    "\n",
    "for item in search_for_name:\n",
    "    col[item] = 0\n",
    "\n",
    "for item in col:\n",
    "    for cell in search_for_name:\n",
    "        if cell == item:\n",
    "            col[item] +=1\n",
    "        else:\n",
    "            0"
   ]
  },
  {
   "cell_type": "code",
   "execution_count": 268,
   "metadata": {},
   "outputs": [
    {
     "data": {
      "text/plain": [
       "211"
      ]
     },
     "metadata": {},
     "output_type": "display_data"
    },
    {
     "data": {
      "text/plain": [
       "211"
      ]
     },
     "execution_count": 268,
     "metadata": {},
     "output_type": "execute_result"
    }
   ],
   "source": [
    "display(sum(map((1).__eq__, col.values())))\n",
    "len(col)"
   ]
  },
  {
   "cell_type": "code",
   "execution_count": 269,
   "metadata": {},
   "outputs": [],
   "source": [
    "# Так как не удалось восстановить данные \n",
    "# по причине отсутствия дополнительных сведений,\n",
    "# мы избавляемся от ненужных данных,\n",
    "# но сначала избавимся от ненужных нам столбцов\n",
    "\n",
    "# Избавляемся от ненужных столбцов:\n",
    "# -- ProductItemCode\n",
    "# -- Product Color\n",
    "# -- Product Size\n",
    "# -- Product Line\n",
    "# -- Model Name\n",
    "# -- Product Status\n",
    "\n",
    "#products = products.drop(['ProductItemCode','Product Color','Product Size'\n",
    "#                         ,'Product Line','Model Name','Product Status'], axis = 1)"
   ]
  },
  {
   "cell_type": "code",
   "execution_count": 270,
   "metadata": {},
   "outputs": [],
   "source": [
    "products = products[products['StandardCost'].notna()]"
   ]
  },
  {
   "cell_type": "markdown",
   "metadata": {},
   "source": [
    "### Страны"
   ]
  },
  {
   "cell_type": "code",
   "execution_count": 271,
   "metadata": {},
   "outputs": [
    {
     "data": {
      "text/html": [
       "<div>\n",
       "<style scoped>\n",
       "    .dataframe tbody tr th:only-of-type {\n",
       "        vertical-align: middle;\n",
       "    }\n",
       "\n",
       "    .dataframe tbody tr th {\n",
       "        vertical-align: top;\n",
       "    }\n",
       "\n",
       "    .dataframe thead th {\n",
       "        text-align: right;\n",
       "    }\n",
       "</style>\n",
       "<table border=\"1\" class=\"dataframe\">\n",
       "  <thead>\n",
       "    <tr style=\"text-align: right;\">\n",
       "      <th></th>\n",
       "      <th>GeographyKey</th>\n",
       "      <th>City</th>\n",
       "      <th>StateProvinceCode</th>\n",
       "      <th>StateProvinceName</th>\n",
       "      <th>CountryRegionCode</th>\n",
       "      <th>EnglishCountryRegionName</th>\n",
       "      <th>SpanishCountryRegionName</th>\n",
       "      <th>FrenchCountryRegionName</th>\n",
       "      <th>PostalCode</th>\n",
       "      <th>SalesTerritoryKey</th>\n",
       "      <th>IpAddressLocator</th>\n",
       "    </tr>\n",
       "  </thead>\n",
       "  <tbody>\n",
       "    <tr>\n",
       "      <th>0</th>\n",
       "      <td>1</td>\n",
       "      <td>Alexandria</td>\n",
       "      <td>NSW</td>\n",
       "      <td>New South Wales</td>\n",
       "      <td>AU</td>\n",
       "      <td>Australia</td>\n",
       "      <td>Australia</td>\n",
       "      <td>Australie</td>\n",
       "      <td>2015</td>\n",
       "      <td>9</td>\n",
       "      <td>198.51.100.2</td>\n",
       "    </tr>\n",
       "    <tr>\n",
       "      <th>1</th>\n",
       "      <td>2</td>\n",
       "      <td>Coffs Harbour</td>\n",
       "      <td>NSW</td>\n",
       "      <td>New South Wales</td>\n",
       "      <td>AU</td>\n",
       "      <td>Australia</td>\n",
       "      <td>Australia</td>\n",
       "      <td>Australie</td>\n",
       "      <td>2450</td>\n",
       "      <td>9</td>\n",
       "      <td>198.51.100.3</td>\n",
       "    </tr>\n",
       "    <tr>\n",
       "      <th>2</th>\n",
       "      <td>3</td>\n",
       "      <td>Darlinghurst</td>\n",
       "      <td>NSW</td>\n",
       "      <td>New South Wales</td>\n",
       "      <td>AU</td>\n",
       "      <td>Australia</td>\n",
       "      <td>Australia</td>\n",
       "      <td>Australie</td>\n",
       "      <td>2010</td>\n",
       "      <td>9</td>\n",
       "      <td>198.51.100.4</td>\n",
       "    </tr>\n",
       "    <tr>\n",
       "      <th>3</th>\n",
       "      <td>4</td>\n",
       "      <td>Goulburn</td>\n",
       "      <td>NSW</td>\n",
       "      <td>New South Wales</td>\n",
       "      <td>AU</td>\n",
       "      <td>Australia</td>\n",
       "      <td>Australia</td>\n",
       "      <td>Australie</td>\n",
       "      <td>2580</td>\n",
       "      <td>9</td>\n",
       "      <td>198.51.100.5</td>\n",
       "    </tr>\n",
       "    <tr>\n",
       "      <th>4</th>\n",
       "      <td>5</td>\n",
       "      <td>Lane Cove</td>\n",
       "      <td>NSW</td>\n",
       "      <td>New South Wales</td>\n",
       "      <td>AU</td>\n",
       "      <td>Australia</td>\n",
       "      <td>Australia</td>\n",
       "      <td>Australie</td>\n",
       "      <td>1597</td>\n",
       "      <td>9</td>\n",
       "      <td>198.51.100.6</td>\n",
       "    </tr>\n",
       "  </tbody>\n",
       "</table>\n",
       "</div>"
      ],
      "text/plain": [
       "   GeographyKey           City StateProvinceCode StateProvinceName  \\\n",
       "0             1     Alexandria               NSW   New South Wales   \n",
       "1             2  Coffs Harbour               NSW   New South Wales   \n",
       "2             3   Darlinghurst               NSW   New South Wales   \n",
       "3             4       Goulburn               NSW   New South Wales   \n",
       "4             5      Lane Cove               NSW   New South Wales   \n",
       "\n",
       "  CountryRegionCode EnglishCountryRegionName SpanishCountryRegionName  \\\n",
       "0                AU                Australia                Australia   \n",
       "1                AU                Australia                Australia   \n",
       "2                AU                Australia                Australia   \n",
       "3                AU                Australia                Australia   \n",
       "4                AU                Australia                Australia   \n",
       "\n",
       "  FrenchCountryRegionName PostalCode  SalesTerritoryKey IpAddressLocator  \n",
       "0               Australie       2015                  9     198.51.100.2  \n",
       "1               Australie       2450                  9     198.51.100.3  \n",
       "2               Australie       2010                  9     198.51.100.4  \n",
       "3               Australie       2580                  9     198.51.100.5  \n",
       "4               Australie       1597                  9     198.51.100.6  "
      ]
     },
     "metadata": {},
     "output_type": "display_data"
    },
    {
     "name": "stdout",
     "output_type": "stream",
     "text": [
      "<class 'pandas.core.frame.DataFrame'>\n",
      "RangeIndex: 655 entries, 0 to 654\n",
      "Data columns (total 11 columns):\n",
      " #   Column                    Non-Null Count  Dtype \n",
      "---  ------                    --------------  ----- \n",
      " 0   GeographyKey              655 non-null    int64 \n",
      " 1   City                      655 non-null    object\n",
      " 2   StateProvinceCode         655 non-null    object\n",
      " 3   StateProvinceName         655 non-null    object\n",
      " 4   CountryRegionCode         655 non-null    object\n",
      " 5   EnglishCountryRegionName  655 non-null    object\n",
      " 6   SpanishCountryRegionName  655 non-null    object\n",
      " 7   FrenchCountryRegionName   655 non-null    object\n",
      " 8   PostalCode                655 non-null    object\n",
      " 9   SalesTerritoryKey         655 non-null    int64 \n",
      " 10  IpAddressLocator          655 non-null    object\n",
      "dtypes: int64(2), object(9)\n",
      "memory usage: 56.4+ KB\n"
     ]
    },
    {
     "data": {
      "text/plain": [
       "None"
      ]
     },
     "metadata": {},
     "output_type": "display_data"
    }
   ],
   "source": [
    "df_check(countries)"
   ]
  },
  {
   "cell_type": "markdown",
   "metadata": {},
   "source": [
    "## Собираем единный датасет"
   ]
  },
  {
   "cell_type": "code",
   "execution_count": 272,
   "metadata": {},
   "outputs": [
    {
     "data": {
      "text/plain": [
       "Index(['CustomerKey', 'FirstName', 'LastName', 'Full Name', 'BirthDate',\n",
       "       'AgeOfCustomer', 'Gender', 'DateFirstPurchase', 'City', 'Region Code',\n",
       "       'State Code', 'GeographyKey', 'StateProvinceCode', 'StateProvinceName',\n",
       "       'CountryRegionCode', 'EnglishCountryRegionName',\n",
       "       'SpanishCountryRegionName', 'FrenchCountryRegionName', 'PostalCode',\n",
       "       'SalesTerritoryKey', 'IpAddressLocator'],\n",
       "      dtype='object')"
      ]
     },
     "execution_count": 272,
     "metadata": {},
     "output_type": "execute_result"
    }
   ],
   "source": [
    "users = pd.merge(customers, countries, on = 'City', how = 'left')\n",
    "users.columns"
   ]
  },
  {
   "cell_type": "code",
   "execution_count": 273,
   "metadata": {},
   "outputs": [
    {
     "data": {
      "text/plain": [
       "EnglishCountryRegionName\n",
       "United States     8139\n",
       "United Kingdom    7834\n",
       "France            6562\n",
       "Germany           5150\n",
       "Australia         3591\n",
       "Canada            2382\n",
       "Name: CustomerKey, dtype: int64"
      ]
     },
     "execution_count": 273,
     "metadata": {},
     "output_type": "execute_result"
    }
   ],
   "source": [
    "users = pd.merge(customers, countries, on = 'City', how = 'left')\n",
    "\n",
    "# Проверяем кол-во клиентов из разных стран\n",
    "users.groupby(['EnglishCountryRegionName'])['CustomerKey'].count().sort_values(ascending = False)"
   ]
  },
  {
   "cell_type": "code",
   "execution_count": 274,
   "metadata": {},
   "outputs": [
    {
     "data": {
      "text/plain": [
       "Product Category  Product Name         \n",
       "Accessories       LL Mountain Tire         9,3463\n",
       "                  ML Road Tire             9,3463\n",
       "Clothing          Half-Finger Gloves, L    9,1593\n",
       "                  Half-Finger Gloves, M    9,1593\n",
       "                  Half-Finger Gloves, S    9,1593\n",
       "                                            ...  \n",
       "Accessories       Mountain Tire Tube       1,8663\n",
       "                  Water Bottle - 30 oz.    1,8663\n",
       "                  Touring Tire Tube        1,8663\n",
       "                  Road Tire Tube           1,4923\n",
       "                  Patch Kit/8 Patches      0,8565\n",
       "Name: StandardCost, Length: 117, dtype: object"
      ]
     },
     "execution_count": 274,
     "metadata": {},
     "output_type": "execute_result"
    }
   ],
   "source": [
    "online_sales = pd.merge(sales, products, on = 'ProductKey', how = 'left')\n",
    "\n",
    "# Проверяем самые популярные товары по категориям\n",
    "online_sales.groupby(['Product Category', 'Product Name'])['CustomerKey'].count().sort_values(ascending = False)\n",
    "\n",
    "# Проверим самый дорогой сегмент по категориям товаров\n",
    "online_sales.groupby(['Product Category', 'Product Name'])['StandardCost'].max().sort_values(ascending = False)"
   ]
  },
  {
   "cell_type": "code",
   "execution_count": 275,
   "metadata": {},
   "outputs": [],
   "source": [
    "full_sales = pd.merge(online_sales, calendar, on = 'OrderDateKey', how = 'left')"
   ]
  },
  {
   "cell_type": "code",
   "execution_count": 276,
   "metadata": {},
   "outputs": [],
   "source": [
    "df = pd.merge(full_sales, users, on = 'CustomerKey', how = 'left')"
   ]
  },
  {
   "cell_type": "code",
   "execution_count": 277,
   "metadata": {},
   "outputs": [
    {
     "data": {
      "text/html": [
       "<div>\n",
       "<style scoped>\n",
       "    .dataframe tbody tr th:only-of-type {\n",
       "        vertical-align: middle;\n",
       "    }\n",
       "\n",
       "    .dataframe tbody tr th {\n",
       "        vertical-align: top;\n",
       "    }\n",
       "\n",
       "    .dataframe thead th {\n",
       "        text-align: right;\n",
       "    }\n",
       "</style>\n",
       "<table border=\"1\" class=\"dataframe\">\n",
       "  <thead>\n",
       "    <tr style=\"text-align: right;\">\n",
       "      <th></th>\n",
       "      <th>ProductKey</th>\n",
       "      <th>OrderDateKey</th>\n",
       "      <th>DueDateKey</th>\n",
       "      <th>ShipDateKey</th>\n",
       "      <th>CustomerKey</th>\n",
       "      <th>SalesOrderNumber</th>\n",
       "      <th>SalesAmount</th>\n",
       "      <th>ProductItemCode</th>\n",
       "      <th>Product Name</th>\n",
       "      <th>Sub Category</th>\n",
       "      <th>...</th>\n",
       "      <th>GeographyKey</th>\n",
       "      <th>StateProvinceCode</th>\n",
       "      <th>StateProvinceName</th>\n",
       "      <th>CountryRegionCode</th>\n",
       "      <th>EnglishCountryRegionName</th>\n",
       "      <th>SpanishCountryRegionName</th>\n",
       "      <th>FrenchCountryRegionName</th>\n",
       "      <th>PostalCode</th>\n",
       "      <th>SalesTerritoryKey</th>\n",
       "      <th>IpAddressLocator</th>\n",
       "    </tr>\n",
       "  </thead>\n",
       "  <tbody>\n",
       "    <tr>\n",
       "      <th>0</th>\n",
       "      <td>381</td>\n",
       "      <td>20190101</td>\n",
       "      <td>20190113</td>\n",
       "      <td>20190108</td>\n",
       "      <td>16942</td>\n",
       "      <td>SO46700</td>\n",
       "      <td>1000.4375</td>\n",
       "      <td>BK-R64Y-38</td>\n",
       "      <td>Road-550-W Yellow, 38</td>\n",
       "      <td>Road Bikes</td>\n",
       "      <td>...</td>\n",
       "      <td>220</td>\n",
       "      <td>93</td>\n",
       "      <td>Seine Saint Denis</td>\n",
       "      <td>FR</td>\n",
       "      <td>France</td>\n",
       "      <td>Francia</td>\n",
       "      <td>France</td>\n",
       "      <td>93000</td>\n",
       "      <td>7</td>\n",
       "      <td>198.51.100.221</td>\n",
       "    </tr>\n",
       "    <tr>\n",
       "      <th>1</th>\n",
       "      <td>375</td>\n",
       "      <td>20190101</td>\n",
       "      <td>20190113</td>\n",
       "      <td>20190108</td>\n",
       "      <td>15114</td>\n",
       "      <td>SO46701</td>\n",
       "      <td>2181.5625</td>\n",
       "      <td>BK-R89B-48</td>\n",
       "      <td>Road-250 Black, 48</td>\n",
       "      <td>Road Bikes</td>\n",
       "      <td>...</td>\n",
       "      <td>176</td>\n",
       "      <td>SL</td>\n",
       "      <td>Saarland</td>\n",
       "      <td>DE</td>\n",
       "      <td>Germany</td>\n",
       "      <td>Alemania</td>\n",
       "      <td>Allemagne</td>\n",
       "      <td>70452</td>\n",
       "      <td>8</td>\n",
       "      <td>198.51.100.177</td>\n",
       "    </tr>\n",
       "    <tr>\n",
       "      <th>2</th>\n",
       "      <td>375</td>\n",
       "      <td>20190101</td>\n",
       "      <td>20190113</td>\n",
       "      <td>20190108</td>\n",
       "      <td>15114</td>\n",
       "      <td>SO46701</td>\n",
       "      <td>2181.5625</td>\n",
       "      <td>BK-R89B-48</td>\n",
       "      <td>Road-250 Black, 48</td>\n",
       "      <td>Road Bikes</td>\n",
       "      <td>...</td>\n",
       "      <td>177</td>\n",
       "      <td>SL</td>\n",
       "      <td>Saarland</td>\n",
       "      <td>DE</td>\n",
       "      <td>Germany</td>\n",
       "      <td>Alemania</td>\n",
       "      <td>Allemagne</td>\n",
       "      <td>70511</td>\n",
       "      <td>8</td>\n",
       "      <td>198.51.100.178</td>\n",
       "    </tr>\n",
       "    <tr>\n",
       "      <th>3</th>\n",
       "      <td>369</td>\n",
       "      <td>20190101</td>\n",
       "      <td>20190113</td>\n",
       "      <td>20190108</td>\n",
       "      <td>15116</td>\n",
       "      <td>SO46702</td>\n",
       "      <td>2443.3500</td>\n",
       "      <td>BK-R89R-48</td>\n",
       "      <td>Road-250 Red, 48</td>\n",
       "      <td>Road Bikes</td>\n",
       "      <td>...</td>\n",
       "      <td>133</td>\n",
       "      <td>HE</td>\n",
       "      <td>Hessen</td>\n",
       "      <td>DE</td>\n",
       "      <td>Germany</td>\n",
       "      <td>Alemania</td>\n",
       "      <td>Allemagne</td>\n",
       "      <td>34117</td>\n",
       "      <td>8</td>\n",
       "      <td>198.51.100.134</td>\n",
       "    </tr>\n",
       "    <tr>\n",
       "      <th>4</th>\n",
       "      <td>337</td>\n",
       "      <td>20190101</td>\n",
       "      <td>20190113</td>\n",
       "      <td>20190108</td>\n",
       "      <td>20576</td>\n",
       "      <td>SO46703</td>\n",
       "      <td>782.9900</td>\n",
       "      <td>BK-R50B-62</td>\n",
       "      <td>Road-650 Black, 62</td>\n",
       "      <td>Road Bikes</td>\n",
       "      <td>...</td>\n",
       "      <td>244</td>\n",
       "      <td>ENG</td>\n",
       "      <td>England</td>\n",
       "      <td>GB</td>\n",
       "      <td>United Kingdom</td>\n",
       "      <td>Reino Unido</td>\n",
       "      <td>Royaume-Uni</td>\n",
       "      <td>C2H 7AU</td>\n",
       "      <td>10</td>\n",
       "      <td>198.51.100.245</td>\n",
       "    </tr>\n",
       "  </tbody>\n",
       "</table>\n",
       "<p>5 rows × 46 columns</p>\n",
       "</div>"
      ],
      "text/plain": [
       "   ProductKey  OrderDateKey  DueDateKey  ShipDateKey  CustomerKey  \\\n",
       "0         381      20190101    20190113     20190108        16942   \n",
       "1         375      20190101    20190113     20190108        15114   \n",
       "2         375      20190101    20190113     20190108        15114   \n",
       "3         369      20190101    20190113     20190108        15116   \n",
       "4         337      20190101    20190113     20190108        20576   \n",
       "\n",
       "  SalesOrderNumber  SalesAmount ProductItemCode           Product Name  \\\n",
       "0          SO46700    1000.4375      BK-R64Y-38  Road-550-W Yellow, 38   \n",
       "1          SO46701    2181.5625      BK-R89B-48     Road-250 Black, 48   \n",
       "2          SO46701    2181.5625      BK-R89B-48     Road-250 Black, 48   \n",
       "3          SO46702    2443.3500      BK-R89R-48       Road-250 Red, 48   \n",
       "4          SO46703     782.9900      BK-R50B-62     Road-650 Black, 62   \n",
       "\n",
       "  Sub Category  ... GeographyKey StateProvinceCode  StateProvinceName  \\\n",
       "0   Road Bikes  ...          220                93  Seine Saint Denis   \n",
       "1   Road Bikes  ...          176                SL           Saarland   \n",
       "2   Road Bikes  ...          177                SL           Saarland   \n",
       "3   Road Bikes  ...          133                HE             Hessen   \n",
       "4   Road Bikes  ...          244               ENG            England   \n",
       "\n",
       "  CountryRegionCode EnglishCountryRegionName SpanishCountryRegionName  \\\n",
       "0                FR                   France                  Francia   \n",
       "1                DE                  Germany                 Alemania   \n",
       "2                DE                  Germany                 Alemania   \n",
       "3                DE                  Germany                 Alemania   \n",
       "4                GB           United Kingdom              Reino Unido   \n",
       "\n",
       "  FrenchCountryRegionName PostalCode SalesTerritoryKey IpAddressLocator  \n",
       "0                  France      93000                 7   198.51.100.221  \n",
       "1               Allemagne      70452                 8   198.51.100.177  \n",
       "2               Allemagne      70511                 8   198.51.100.178  \n",
       "3               Allemagne      34117                 8   198.51.100.134  \n",
       "4             Royaume-Uni    C2H 7AU                10   198.51.100.245  \n",
       "\n",
       "[5 rows x 46 columns]"
      ]
     },
     "metadata": {},
     "output_type": "display_data"
    },
    {
     "name": "stdout",
     "output_type": "stream",
     "text": [
      "<class 'pandas.core.frame.DataFrame'>\n",
      "Int64Index: 108878 entries, 0 to 108877\n",
      "Data columns (total 46 columns):\n",
      " #   Column                    Non-Null Count   Dtype  \n",
      "---  ------                    --------------   -----  \n",
      " 0   ProductKey                108878 non-null  int64  \n",
      " 1   OrderDateKey              108878 non-null  int64  \n",
      " 2   DueDateKey                108878 non-null  int64  \n",
      " 3   ShipDateKey               108878 non-null  int64  \n",
      " 4   CustomerKey               108878 non-null  int64  \n",
      " 5   SalesOrderNumber          108878 non-null  object \n",
      " 6   SalesAmount               108878 non-null  float64\n",
      " 7   ProductItemCode           108878 non-null  object \n",
      " 8   Product Name              108878 non-null  object \n",
      " 9   Sub Category              108878 non-null  object \n",
      " 10  Product Category          108878 non-null  object \n",
      " 11  StandardCost              108878 non-null  object \n",
      " 12  Product Color             55474 non-null   object \n",
      " 13  Product Size              38672 non-null   object \n",
      " 14  Product Line              108878 non-null  object \n",
      " 15  Model Name                108878 non-null  object \n",
      " 16  Product Description       108878 non-null  object \n",
      " 17  Product Description DE    108878 non-null  object \n",
      " 18  Product Status            108878 non-null  object \n",
      " 19  Date                      108874 non-null  object \n",
      " 20  Day                       108874 non-null  object \n",
      " 21  Month                     108874 non-null  object \n",
      " 22  MonthShort                108874 non-null  object \n",
      " 23  MonthNr                   108874 non-null  float64\n",
      " 24  Quarter                   108874 non-null  float64\n",
      " 25  Year                      108874 non-null  float64\n",
      " 26  FirstName                 108878 non-null  object \n",
      " 27  LastName                  108878 non-null  object \n",
      " 28  Full Name                 108878 non-null  object \n",
      " 29  BirthDate                 108878 non-null  object \n",
      " 30  AgeOfCustomer             108878 non-null  int64  \n",
      " 31  Gender                    108878 non-null  object \n",
      " 32  DateFirstPurchase         108878 non-null  object \n",
      " 33  City                      108878 non-null  object \n",
      " 34  Region Code               108878 non-null  object \n",
      " 35  State Code                108878 non-null  object \n",
      " 36  GeographyKey              108878 non-null  int64  \n",
      " 37  StateProvinceCode         108878 non-null  object \n",
      " 38  StateProvinceName         108878 non-null  object \n",
      " 39  CountryRegionCode         108878 non-null  object \n",
      " 40  EnglishCountryRegionName  108878 non-null  object \n",
      " 41  SpanishCountryRegionName  108878 non-null  object \n",
      " 42  FrenchCountryRegionName   108878 non-null  object \n",
      " 43  PostalCode                108878 non-null  object \n",
      " 44  SalesTerritoryKey         108878 non-null  int64  \n",
      " 45  IpAddressLocator          108878 non-null  object \n",
      "dtypes: float64(4), int64(8), object(34)\n",
      "memory usage: 39.0+ MB\n"
     ]
    },
    {
     "data": {
      "text/plain": [
       "None"
      ]
     },
     "metadata": {},
     "output_type": "display_data"
    }
   ],
   "source": [
    "df_check(df)"
   ]
  },
  {
   "cell_type": "markdown",
   "metadata": {},
   "source": [
    "#### Сразу избавимся от некоторых признаков, например языка"
   ]
  },
  {
   "cell_type": "code",
   "execution_count": 278,
   "metadata": {},
   "outputs": [],
   "source": [
    "df.drop(columns = ['Product Description DE', 'SpanishCountryRegionName', 'FrenchCountryRegionName'], inplace = True)"
   ]
  },
  {
   "cell_type": "markdown",
   "metadata": {},
   "source": [
    "# Предобработка"
   ]
  },
  {
   "cell_type": "markdown",
   "metadata": {},
   "source": [
    "Большая часть обработка завершена и объединенные отчеты можно выгрузить для дальнейшей визуализации в Power BI и/или HerokuApp"
   ]
  },
  {
   "cell_type": "code",
   "execution_count": 279,
   "metadata": {},
   "outputs": [],
   "source": [
    "# Для удобства просмотра убираем \n",
    "# ограничения просмотра ячейки\n",
    "#pd.set_option('display.max_colwidth', None)"
   ]
  },
  {
   "cell_type": "code",
   "execution_count": 280,
   "metadata": {},
   "outputs": [],
   "source": [
    "# Переименуем индексы столбцов\n",
    "# df.columns = ['customer_key','full_name','customer_age',\n",
    "#               'gender','customer_city','region_code', 'state_code','product_key','date_key',\n",
    "#               'sales_amount','product_name','sub_category',\n",
    "#               'product_category','standard_cost','product_description',\n",
    "#               'product_description_de','date', 'day', 'month',\n",
    "#        'month_short', 'month_nr', 'quarter', 'year']"
   ]
  },
  {
   "cell_type": "markdown",
   "metadata": {},
   "source": [
    "### customer_age"
   ]
  },
  {
   "cell_type": "code",
   "execution_count": 281,
   "metadata": {
    "scrolled": true
   },
   "outputs": [
    {
     "data": {
      "text/html": [
       "<div>\n",
       "<style scoped>\n",
       "    .dataframe tbody tr th:only-of-type {\n",
       "        vertical-align: middle;\n",
       "    }\n",
       "\n",
       "    .dataframe tbody tr th {\n",
       "        vertical-align: top;\n",
       "    }\n",
       "\n",
       "    .dataframe thead th {\n",
       "        text-align: right;\n",
       "    }\n",
       "</style>\n",
       "<table border=\"1\" class=\"dataframe\">\n",
       "  <thead>\n",
       "    <tr style=\"text-align: right;\">\n",
       "      <th></th>\n",
       "      <th>ProductKey</th>\n",
       "      <th>OrderDateKey</th>\n",
       "      <th>DueDateKey</th>\n",
       "      <th>ShipDateKey</th>\n",
       "      <th>CustomerKey</th>\n",
       "      <th>SalesOrderNumber</th>\n",
       "      <th>SalesAmount</th>\n",
       "      <th>ProductItemCode</th>\n",
       "      <th>Product Name</th>\n",
       "      <th>Sub Category</th>\n",
       "      <th>...</th>\n",
       "      <th>Region Code</th>\n",
       "      <th>State Code</th>\n",
       "      <th>GeographyKey</th>\n",
       "      <th>StateProvinceCode</th>\n",
       "      <th>StateProvinceName</th>\n",
       "      <th>CountryRegionCode</th>\n",
       "      <th>EnglishCountryRegionName</th>\n",
       "      <th>PostalCode</th>\n",
       "      <th>SalesTerritoryKey</th>\n",
       "      <th>IpAddressLocator</th>\n",
       "    </tr>\n",
       "  </thead>\n",
       "  <tbody>\n",
       "    <tr>\n",
       "      <th>0</th>\n",
       "      <td>381</td>\n",
       "      <td>20190101</td>\n",
       "      <td>20190113</td>\n",
       "      <td>20190108</td>\n",
       "      <td>16942</td>\n",
       "      <td>SO46700</td>\n",
       "      <td>1000.4375</td>\n",
       "      <td>BK-R64Y-38</td>\n",
       "      <td>Road-550-W Yellow, 38</td>\n",
       "      <td>Road Bikes</td>\n",
       "      <td>...</td>\n",
       "      <td>FR</td>\n",
       "      <td>93</td>\n",
       "      <td>220</td>\n",
       "      <td>93</td>\n",
       "      <td>Seine Saint Denis</td>\n",
       "      <td>FR</td>\n",
       "      <td>France</td>\n",
       "      <td>93000</td>\n",
       "      <td>7</td>\n",
       "      <td>198.51.100.221</td>\n",
       "    </tr>\n",
       "    <tr>\n",
       "      <th>1</th>\n",
       "      <td>375</td>\n",
       "      <td>20190101</td>\n",
       "      <td>20190113</td>\n",
       "      <td>20190108</td>\n",
       "      <td>15114</td>\n",
       "      <td>SO46701</td>\n",
       "      <td>2181.5625</td>\n",
       "      <td>BK-R89B-48</td>\n",
       "      <td>Road-250 Black, 48</td>\n",
       "      <td>Road Bikes</td>\n",
       "      <td>...</td>\n",
       "      <td>DE</td>\n",
       "      <td>SL</td>\n",
       "      <td>176</td>\n",
       "      <td>SL</td>\n",
       "      <td>Saarland</td>\n",
       "      <td>DE</td>\n",
       "      <td>Germany</td>\n",
       "      <td>70452</td>\n",
       "      <td>8</td>\n",
       "      <td>198.51.100.177</td>\n",
       "    </tr>\n",
       "    <tr>\n",
       "      <th>2</th>\n",
       "      <td>375</td>\n",
       "      <td>20190101</td>\n",
       "      <td>20190113</td>\n",
       "      <td>20190108</td>\n",
       "      <td>15114</td>\n",
       "      <td>SO46701</td>\n",
       "      <td>2181.5625</td>\n",
       "      <td>BK-R89B-48</td>\n",
       "      <td>Road-250 Black, 48</td>\n",
       "      <td>Road Bikes</td>\n",
       "      <td>...</td>\n",
       "      <td>DE</td>\n",
       "      <td>SL</td>\n",
       "      <td>177</td>\n",
       "      <td>SL</td>\n",
       "      <td>Saarland</td>\n",
       "      <td>DE</td>\n",
       "      <td>Germany</td>\n",
       "      <td>70511</td>\n",
       "      <td>8</td>\n",
       "      <td>198.51.100.178</td>\n",
       "    </tr>\n",
       "    <tr>\n",
       "      <th>3</th>\n",
       "      <td>369</td>\n",
       "      <td>20190101</td>\n",
       "      <td>20190113</td>\n",
       "      <td>20190108</td>\n",
       "      <td>15116</td>\n",
       "      <td>SO46702</td>\n",
       "      <td>2443.3500</td>\n",
       "      <td>BK-R89R-48</td>\n",
       "      <td>Road-250 Red, 48</td>\n",
       "      <td>Road Bikes</td>\n",
       "      <td>...</td>\n",
       "      <td>DE</td>\n",
       "      <td>HE</td>\n",
       "      <td>133</td>\n",
       "      <td>HE</td>\n",
       "      <td>Hessen</td>\n",
       "      <td>DE</td>\n",
       "      <td>Germany</td>\n",
       "      <td>34117</td>\n",
       "      <td>8</td>\n",
       "      <td>198.51.100.134</td>\n",
       "    </tr>\n",
       "    <tr>\n",
       "      <th>4</th>\n",
       "      <td>337</td>\n",
       "      <td>20190101</td>\n",
       "      <td>20190113</td>\n",
       "      <td>20190108</td>\n",
       "      <td>20576</td>\n",
       "      <td>SO46703</td>\n",
       "      <td>782.9900</td>\n",
       "      <td>BK-R50B-62</td>\n",
       "      <td>Road-650 Black, 62</td>\n",
       "      <td>Road Bikes</td>\n",
       "      <td>...</td>\n",
       "      <td>GB</td>\n",
       "      <td>ENG</td>\n",
       "      <td>244</td>\n",
       "      <td>ENG</td>\n",
       "      <td>England</td>\n",
       "      <td>GB</td>\n",
       "      <td>United Kingdom</td>\n",
       "      <td>C2H 7AU</td>\n",
       "      <td>10</td>\n",
       "      <td>198.51.100.245</td>\n",
       "    </tr>\n",
       "    <tr>\n",
       "      <th>...</th>\n",
       "      <td>...</td>\n",
       "      <td>...</td>\n",
       "      <td>...</td>\n",
       "      <td>...</td>\n",
       "      <td>...</td>\n",
       "      <td>...</td>\n",
       "      <td>...</td>\n",
       "      <td>...</td>\n",
       "      <td>...</td>\n",
       "      <td>...</td>\n",
       "      <td>...</td>\n",
       "      <td>...</td>\n",
       "      <td>...</td>\n",
       "      <td>...</td>\n",
       "      <td>...</td>\n",
       "      <td>...</td>\n",
       "      <td>...</td>\n",
       "      <td>...</td>\n",
       "      <td>...</td>\n",
       "      <td>...</td>\n",
       "      <td>...</td>\n",
       "    </tr>\n",
       "    <tr>\n",
       "      <th>108873</th>\n",
       "      <td>485</td>\n",
       "      <td>20210128</td>\n",
       "      <td>20210209</td>\n",
       "      <td>20210204</td>\n",
       "      <td>15868</td>\n",
       "      <td>SO75122</td>\n",
       "      <td>21.9800</td>\n",
       "      <td>FE-6654</td>\n",
       "      <td>Fender Set - Mountain</td>\n",
       "      <td>Fenders</td>\n",
       "      <td>...</td>\n",
       "      <td>CA</td>\n",
       "      <td>BC</td>\n",
       "      <td>66</td>\n",
       "      <td>BC</td>\n",
       "      <td>British Columbia</td>\n",
       "      <td>CA</td>\n",
       "      <td>Canada</td>\n",
       "      <td>V0</td>\n",
       "      <td>6</td>\n",
       "      <td>198.51.100.67</td>\n",
       "    </tr>\n",
       "    <tr>\n",
       "      <th>108874</th>\n",
       "      <td>225</td>\n",
       "      <td>20210128</td>\n",
       "      <td>20210209</td>\n",
       "      <td>20210204</td>\n",
       "      <td>15868</td>\n",
       "      <td>SO75122</td>\n",
       "      <td>8.9900</td>\n",
       "      <td>CA-1098</td>\n",
       "      <td>AWC Logo Cap</td>\n",
       "      <td>Caps</td>\n",
       "      <td>...</td>\n",
       "      <td>CA</td>\n",
       "      <td>BC</td>\n",
       "      <td>66</td>\n",
       "      <td>BC</td>\n",
       "      <td>British Columbia</td>\n",
       "      <td>CA</td>\n",
       "      <td>Canada</td>\n",
       "      <td>V0</td>\n",
       "      <td>6</td>\n",
       "      <td>198.51.100.67</td>\n",
       "    </tr>\n",
       "    <tr>\n",
       "      <th>108875</th>\n",
       "      <td>485</td>\n",
       "      <td>20210128</td>\n",
       "      <td>20210209</td>\n",
       "      <td>20210204</td>\n",
       "      <td>18759</td>\n",
       "      <td>SO75123</td>\n",
       "      <td>21.9800</td>\n",
       "      <td>FE-6654</td>\n",
       "      <td>Fender Set - Mountain</td>\n",
       "      <td>Fenders</td>\n",
       "      <td>...</td>\n",
       "      <td>CA</td>\n",
       "      <td>BC</td>\n",
       "      <td>66</td>\n",
       "      <td>BC</td>\n",
       "      <td>British Columbia</td>\n",
       "      <td>CA</td>\n",
       "      <td>Canada</td>\n",
       "      <td>V0</td>\n",
       "      <td>6</td>\n",
       "      <td>198.51.100.67</td>\n",
       "    </tr>\n",
       "    <tr>\n",
       "      <th>108876</th>\n",
       "      <td>486</td>\n",
       "      <td>20210128</td>\n",
       "      <td>20210209</td>\n",
       "      <td>20210204</td>\n",
       "      <td>18759</td>\n",
       "      <td>SO75123</td>\n",
       "      <td>159.0000</td>\n",
       "      <td>ST-1401</td>\n",
       "      <td>All-Purpose Bike Stand</td>\n",
       "      <td>Bike Stands</td>\n",
       "      <td>...</td>\n",
       "      <td>CA</td>\n",
       "      <td>BC</td>\n",
       "      <td>66</td>\n",
       "      <td>BC</td>\n",
       "      <td>British Columbia</td>\n",
       "      <td>CA</td>\n",
       "      <td>Canada</td>\n",
       "      <td>V0</td>\n",
       "      <td>6</td>\n",
       "      <td>198.51.100.67</td>\n",
       "    </tr>\n",
       "    <tr>\n",
       "      <th>108877</th>\n",
       "      <td>225</td>\n",
       "      <td>20210128</td>\n",
       "      <td>20210209</td>\n",
       "      <td>20210204</td>\n",
       "      <td>18759</td>\n",
       "      <td>SO75123</td>\n",
       "      <td>8.9900</td>\n",
       "      <td>CA-1098</td>\n",
       "      <td>AWC Logo Cap</td>\n",
       "      <td>Caps</td>\n",
       "      <td>...</td>\n",
       "      <td>CA</td>\n",
       "      <td>BC</td>\n",
       "      <td>66</td>\n",
       "      <td>BC</td>\n",
       "      <td>British Columbia</td>\n",
       "      <td>CA</td>\n",
       "      <td>Canada</td>\n",
       "      <td>V0</td>\n",
       "      <td>6</td>\n",
       "      <td>198.51.100.67</td>\n",
       "    </tr>\n",
       "  </tbody>\n",
       "</table>\n",
       "<p>108878 rows × 43 columns</p>\n",
       "</div>"
      ],
      "text/plain": [
       "        ProductKey  OrderDateKey  DueDateKey  ShipDateKey  CustomerKey  \\\n",
       "0              381      20190101    20190113     20190108        16942   \n",
       "1              375      20190101    20190113     20190108        15114   \n",
       "2              375      20190101    20190113     20190108        15114   \n",
       "3              369      20190101    20190113     20190108        15116   \n",
       "4              337      20190101    20190113     20190108        20576   \n",
       "...            ...           ...         ...          ...          ...   \n",
       "108873         485      20210128    20210209     20210204        15868   \n",
       "108874         225      20210128    20210209     20210204        15868   \n",
       "108875         485      20210128    20210209     20210204        18759   \n",
       "108876         486      20210128    20210209     20210204        18759   \n",
       "108877         225      20210128    20210209     20210204        18759   \n",
       "\n",
       "       SalesOrderNumber  SalesAmount ProductItemCode            Product Name  \\\n",
       "0               SO46700    1000.4375      BK-R64Y-38   Road-550-W Yellow, 38   \n",
       "1               SO46701    2181.5625      BK-R89B-48      Road-250 Black, 48   \n",
       "2               SO46701    2181.5625      BK-R89B-48      Road-250 Black, 48   \n",
       "3               SO46702    2443.3500      BK-R89R-48        Road-250 Red, 48   \n",
       "4               SO46703     782.9900      BK-R50B-62      Road-650 Black, 62   \n",
       "...                 ...          ...             ...                     ...   \n",
       "108873          SO75122      21.9800         FE-6654   Fender Set - Mountain   \n",
       "108874          SO75122       8.9900         CA-1098            AWC Logo Cap   \n",
       "108875          SO75123      21.9800         FE-6654   Fender Set - Mountain   \n",
       "108876          SO75123     159.0000         ST-1401  All-Purpose Bike Stand   \n",
       "108877          SO75123       8.9900         CA-1098            AWC Logo Cap   \n",
       "\n",
       "       Sub Category  ... Region Code State Code GeographyKey  \\\n",
       "0        Road Bikes  ...          FR         93          220   \n",
       "1        Road Bikes  ...          DE         SL          176   \n",
       "2        Road Bikes  ...          DE         SL          177   \n",
       "3        Road Bikes  ...          DE         HE          133   \n",
       "4        Road Bikes  ...          GB        ENG          244   \n",
       "...             ...  ...         ...        ...          ...   \n",
       "108873      Fenders  ...          CA         BC           66   \n",
       "108874         Caps  ...          CA         BC           66   \n",
       "108875      Fenders  ...          CA         BC           66   \n",
       "108876  Bike Stands  ...          CA         BC           66   \n",
       "108877         Caps  ...          CA         BC           66   \n",
       "\n",
       "       StateProvinceCode  StateProvinceName CountryRegionCode  \\\n",
       "0                     93  Seine Saint Denis                FR   \n",
       "1                     SL           Saarland                DE   \n",
       "2                     SL           Saarland                DE   \n",
       "3                     HE             Hessen                DE   \n",
       "4                    ENG            England                GB   \n",
       "...                  ...                ...               ...   \n",
       "108873                BC   British Columbia                CA   \n",
       "108874                BC   British Columbia                CA   \n",
       "108875                BC   British Columbia                CA   \n",
       "108876                BC   British Columbia                CA   \n",
       "108877                BC   British Columbia                CA   \n",
       "\n",
       "       EnglishCountryRegionName PostalCode SalesTerritoryKey IpAddressLocator  \n",
       "0                        France      93000                 7   198.51.100.221  \n",
       "1                       Germany      70452                 8   198.51.100.177  \n",
       "2                       Germany      70511                 8   198.51.100.178  \n",
       "3                       Germany      34117                 8   198.51.100.134  \n",
       "4                United Kingdom    C2H 7AU                10   198.51.100.245  \n",
       "...                         ...        ...               ...              ...  \n",
       "108873                   Canada         V0                 6    198.51.100.67  \n",
       "108874                   Canada         V0                 6    198.51.100.67  \n",
       "108875                   Canada         V0                 6    198.51.100.67  \n",
       "108876                   Canada         V0                 6    198.51.100.67  \n",
       "108877                   Canada         V0                 6    198.51.100.67  \n",
       "\n",
       "[108878 rows x 43 columns]"
      ]
     },
     "execution_count": 281,
     "metadata": {},
     "output_type": "execute_result"
    }
   ],
   "source": [
    "df"
   ]
  },
  {
   "cell_type": "code",
   "execution_count": 282,
   "metadata": {},
   "outputs": [],
   "source": [
    "df['StandardCost'] = df['StandardCost'].apply(lambda x: float(str(x).replace(',', '.')))"
   ]
  },
  {
   "cell_type": "code",
   "execution_count": 283,
   "metadata": {},
   "outputs": [
    {
     "name": "stdout",
     "output_type": "stream",
     "text": [
      "Product Category  Sub Category  AgeOfCustomer\n",
      "Accessories       Bike Racks    44               48\n",
      "                                43               45\n",
      "                                48               29\n",
      "                                63               26\n",
      "                                54               24\n",
      "                                                 ..\n",
      "Clothing          Vests         87                1\n",
      "                                92                1\n",
      "                                96                1\n",
      "                                97                1\n",
      "                                103               1\n",
      "Name: AgeOfCustomer, Length: 962, dtype: int64\n",
      "AgeOfCustomer\n",
      "45    1.254970e+06\n",
      "44    1.208155e+06\n",
      "46    1.141672e+06\n",
      "43    1.072608e+06\n",
      "40    1.065851e+06\n",
      "47    1.005028e+06\n",
      "48    9.512582e+05\n",
      "41    9.467891e+05\n",
      "42    9.181673e+05\n",
      "39    8.694917e+05\n",
      "Name: StandardCost, dtype: float64\n"
     ]
    }
   ],
   "source": [
    "# Проверим возраст клиентов, тем самым узнаем возраст ЦА\n",
    "# дополнительно построим гистограмму, для наглядности\n",
    "\n",
    "print(df.groupby(['Product Category', 'Sub Category'])['AgeOfCustomer'].value_counts())\n",
    "print(df.groupby(['AgeOfCustomer'])['StandardCost'].sum().sort_values(ascending = False).head(10))"
   ]
  },
  {
   "cell_type": "markdown",
   "metadata": {},
   "source": [
    "Как мы видим, большой интерес проявляет ЦА возрастной группы от 40 до 50. Что не удивительно, с учетом процента данной возрастной группы среди клиентов.\n",
    "\n",
    "Чтобы убедиться в верно выбранной стратегии - проведем One Way ANOVA. Чтобы откинуть нулевую гипотезу (среднее всех групп равны).\n",
    "\n",
    "Присвоим клиентам возрастные группы."
   ]
  },
  {
   "cell_type": "code",
   "execution_count": 284,
   "metadata": {},
   "outputs": [],
   "source": [
    "df['AgeGroup'] = ['30 - 40' if 30 <= x < 40 else (\\\n",
    "                '40 - 50' if 40 <= x < 50 else (\\\n",
    "                 '50 - 60' if 50 <= x < 60 else (\\\n",
    "                  '60 - 70' if 60 <= x < 70 else (\\\n",
    "                   '70 - 80' if 70 <= x < 80 else (\\\n",
    "                    '80 - 90' if 80 <= x < 90 else (\\\n",
    "                     '90 - 100' if 90 <= x < 100 else (\\\n",
    "                      'Over 100' if 100 <= x else 'No'))))))) for x in df.AgeOfCustomer]"
   ]
  },
  {
   "cell_type": "markdown",
   "metadata": {},
   "source": [
    "Посмотрим визуально различия между группами."
   ]
  },
  {
   "cell_type": "code",
   "execution_count": 285,
   "metadata": {
    "scrolled": false
   },
   "outputs": [
    {
     "data": {
      "text/plain": [
       "<AxesSubplot:xlabel='AgeGroup', ylabel='StandardCost'>"
      ]
     },
     "execution_count": 285,
     "metadata": {},
     "output_type": "execute_result"
    },
    {
     "data": {
      "image/png": "[encoded data removed]",
      "text/plain": [
       "<Figure size 720x360 with 1 Axes>"
      ]
     },
     "metadata": {
      "needs_background": "light"
     },
     "output_type": "display_data"
    }
   ],
   "source": [
    "fig, ax = plt.subplots(figsize = (10, 5))\n",
    "sns.barplot(x = 'AgeGroup', y = 'StandardCost', data = df)"
   ]
  },
  {
   "cell_type": "markdown",
   "metadata": {},
   "source": [
    "### С помощью Т-распределения и p-value (с поправкой Бонферрони) проверим нулевую гипотезу о равном значении среднего между группами"
   ]
  },
  {
   "cell_type": "code",
   "execution_count": 286,
   "metadata": {},
   "outputs": [
    {
     "name": "stdout",
     "output_type": "stream",
     "text": [
      "60 - 70 - 30 - 40: T-value: -1.5285, p-value: 0.1264, T-critical: 1.6449\n",
      "70 - 80 - Over 100: T-value: 2.8772, p-value: 0.004, T-critical: 1.6449\n",
      "80 - 90 - 90 - 100: T-value: 1.8746, p-value: 0.0612, T-critical: 1.6449\n",
      "80 - 90 - Over 100: T-value: 1.6675, p-value: 0.0958, T-critical: 1.6449\n",
      "90 - 100 - Over 100: T-value: 0.7647, p-value: 0.4454, T-critical: 1.6449\n"
     ]
    }
   ],
   "source": [
    "from scipy import stats\n",
    "from scipy.stats import ttest_ind\n",
    "\n",
    "groups = df['AgeGroup'].unique()\n",
    "ttest = []\n",
    "# ftest = []\n",
    "\n",
    "# df_between = len(df['AgeGroup'].unique()) - 1\n",
    "# df_within = len(df['StandardCost']) - 2\n",
    "# df_total = df_between + df_within\n",
    "# f_critic = stats.f.ppf(1-0.05, df_between, df_within)\n",
    "#print(f_critic)\n",
    "    \n",
    "for index_1, value_1 in enumerate(groups):\n",
    "        for index_2, value_2 in enumerate(groups):\n",
    "            if index_2 > index_1:\n",
    "                                \n",
    "                group_1 = df[df['AgeGroup'] == value_1]['StandardCost']\n",
    "                group_2 = df[df['AgeGroup'] == value_2]['StandardCost']\n",
    "                \n",
    "                t, p = ttest_ind(group_1, group_2)\n",
    "                ttest.append([f'{value_1} - {value_2}:', round(t, 4), round(p, 4)])\n",
    "                \n",
    "#                 group_1_mean = group_1.mean()\n",
    "#                 group_2_mean = group_2.mean()\n",
    "#                 total_sum = (sum(group_1) + sum(group_2)) / (len(group_1) + len(group_2))\n",
    "\n",
    "#                 sst = sum((group_1 - total_sum)**2) + sum((group_2 - total_sum)**2)\n",
    "#                 ssw = sum((group_1 - group_1_mean)**2) + sum((group_2 - group_2_mean)**2)\n",
    "#                 ssb = sst - ssw\n",
    "\n",
    "#                 msb = ssb / df_between\n",
    "#                 msw = ssw / df_within\n",
    "#                 f = msb / msw\n",
    "#                 #print(index_1, index_2, value_1, value_2, f)\n",
    "#                 if f < f_critic:\n",
    "#                     ftest.append([f'{value_1} - {value_2}:', round(f, 4), round(f_critic, 4)])\n",
    "                    \n",
    "threshold = 0.05/len(ttest)\n",
    "for t in ttest:\n",
    "    if t[2] > (threshold):\n",
    "        print(f'{t[0]} T-value: {t[1]}, p-value: {t[2]}, T-critical: {round(stats.t.ppf(1-0.05, df_total), 4)}')"
   ]
  },
  {
   "cell_type": "markdown",
   "metadata": {},
   "source": [
    "Проверим с помощью pairwise_tukeyhsd достоверность показателей."
   ]
  },
  {
   "cell_type": "code",
   "execution_count": 287,
   "metadata": {},
   "outputs": [
    {
     "data": {
      "text/html": [
       "<div>\n",
       "<style scoped>\n",
       "    .dataframe tbody tr th:only-of-type {\n",
       "        vertical-align: middle;\n",
       "    }\n",
       "\n",
       "    .dataframe tbody tr th {\n",
       "        vertical-align: top;\n",
       "    }\n",
       "\n",
       "    .dataframe thead th {\n",
       "        text-align: right;\n",
       "    }\n",
       "</style>\n",
       "<table border=\"1\" class=\"dataframe\">\n",
       "  <thead>\n",
       "    <tr style=\"text-align: right;\">\n",
       "      <th></th>\n",
       "      <th>group1</th>\n",
       "      <th>group2</th>\n",
       "      <th>meandiff</th>\n",
       "      <th>p-adj</th>\n",
       "      <th>lower</th>\n",
       "      <th>upper</th>\n",
       "      <th>reject</th>\n",
       "    </tr>\n",
       "  </thead>\n",
       "  <tbody>\n",
       "    <tr>\n",
       "      <th>2</th>\n",
       "      <td>30 - 40</td>\n",
       "      <td>60 - 70</td>\n",
       "      <td>-7.2811</td>\n",
       "      <td>0.7792</td>\n",
       "      <td>-21.9374</td>\n",
       "      <td>7.3751</td>\n",
       "      <td>False</td>\n",
       "    </tr>\n",
       "    <tr>\n",
       "      <th>24</th>\n",
       "      <td>70 - 80</td>\n",
       "      <td>Over 100</td>\n",
       "      <td>-154.6390</td>\n",
       "      <td>0.2051</td>\n",
       "      <td>-343.8458</td>\n",
       "      <td>34.5677</td>\n",
       "      <td>False</td>\n",
       "    </tr>\n",
       "    <tr>\n",
       "      <th>25</th>\n",
       "      <td>80 - 90</td>\n",
       "      <td>90 - 100</td>\n",
       "      <td>-47.4066</td>\n",
       "      <td>0.9000</td>\n",
       "      <td>-177.2815</td>\n",
       "      <td>82.4684</td>\n",
       "      <td>False</td>\n",
       "    </tr>\n",
       "    <tr>\n",
       "      <th>26</th>\n",
       "      <td>80 - 90</td>\n",
       "      <td>Over 100</td>\n",
       "      <td>-64.3469</td>\n",
       "      <td>0.9000</td>\n",
       "      <td>-259.0430</td>\n",
       "      <td>130.3493</td>\n",
       "      <td>False</td>\n",
       "    </tr>\n",
       "    <tr>\n",
       "      <th>27</th>\n",
       "      <td>90 - 100</td>\n",
       "      <td>Over 100</td>\n",
       "      <td>-16.9403</td>\n",
       "      <td>0.9000</td>\n",
       "      <td>-240.5516</td>\n",
       "      <td>206.6710</td>\n",
       "      <td>False</td>\n",
       "    </tr>\n",
       "  </tbody>\n",
       "</table>\n",
       "</div>"
      ],
      "text/plain": [
       "      group1    group2  meandiff   p-adj     lower     upper  reject\n",
       "2    30 - 40   60 - 70   -7.2811  0.7792  -21.9374    7.3751   False\n",
       "24   70 - 80  Over 100 -154.6390  0.2051 -343.8458   34.5677   False\n",
       "25   80 - 90  90 - 100  -47.4066  0.9000 -177.2815   82.4684   False\n",
       "26   80 - 90  Over 100  -64.3469  0.9000 -259.0430  130.3493   False\n",
       "27  90 - 100  Over 100  -16.9403  0.9000 -240.5516  206.6710   False"
      ]
     },
     "execution_count": 287,
     "metadata": {},
     "output_type": "execute_result"
    }
   ],
   "source": [
    "from statsmodels.stats.multicomp import pairwise_tukeyhsd\n",
    "tukey = pairwise_tukeyhsd(endog=df['StandardCost'],\n",
    "                          groups=df['AgeGroup'],\n",
    "                          alpha=0.05)\n",
    "\n",
    "tukey_frame = pd.DataFrame(data = tukey._results_table.data[1:], columns=tukey._results_table.data[0])\n",
    "tukey_frame[tukey_frame['reject'] == False]"
   ]
  },
  {
   "cell_type": "markdown",
   "metadata": {},
   "source": [
    "### gender"
   ]
  },
  {
   "cell_type": "code",
   "execution_count": 288,
   "metadata": {},
   "outputs": [
    {
     "data": {
      "text/html": [
       "<div>\n",
       "<style scoped>\n",
       "    .dataframe tbody tr th:only-of-type {\n",
       "        vertical-align: middle;\n",
       "    }\n",
       "\n",
       "    .dataframe tbody tr th {\n",
       "        vertical-align: top;\n",
       "    }\n",
       "\n",
       "    .dataframe thead th {\n",
       "        text-align: right;\n",
       "    }\n",
       "</style>\n",
       "<table border=\"1\" class=\"dataframe\">\n",
       "  <thead>\n",
       "    <tr style=\"text-align: right;\">\n",
       "      <th></th>\n",
       "      <th>Gender</th>\n",
       "    </tr>\n",
       "  </thead>\n",
       "  <tbody>\n",
       "    <tr>\n",
       "      <th>Male</th>\n",
       "      <td>54975</td>\n",
       "    </tr>\n",
       "    <tr>\n",
       "      <th>Female</th>\n",
       "      <td>53903</td>\n",
       "    </tr>\n",
       "  </tbody>\n",
       "</table>\n",
       "</div>"
      ],
      "text/plain": [
       "        Gender\n",
       "Male     54975\n",
       "Female   53903"
      ]
     },
     "metadata": {},
     "output_type": "display_data"
    },
    {
     "name": "stdout",
     "output_type": "stream",
     "text": [
      "['Female' 'Male']\n"
     ]
    },
    {
     "data": {
      "text/plain": [
       "<AxesSubplot:>"
      ]
     },
     "execution_count": 288,
     "metadata": {},
     "output_type": "execute_result"
    },
    {
     "data": {
      "image/png": "[encoded data removed]",
      "text/plain": [
       "<Figure size 432x288 with 1 Axes>"
      ]
     },
     "metadata": {
      "needs_background": "light"
     },
     "output_type": "display_data"
    }
   ],
   "source": [
    "# Узнаем пол наших клиентов:\n",
    "# Нашим товаром заинтересованы мужчины и женщины\n",
    "\n",
    "object_check(df['Gender'])\n",
    "df['Gender'].hist()"
   ]
  },
  {
   "cell_type": "markdown",
   "metadata": {},
   "source": [
    "### customer_city"
   ]
  },
  {
   "cell_type": "code",
   "execution_count": 289,
   "metadata": {},
   "outputs": [
    {
     "data": {
      "text/html": [
       "<div>\n",
       "<style scoped>\n",
       "    .dataframe tbody tr th:only-of-type {\n",
       "        vertical-align: middle;\n",
       "    }\n",
       "\n",
       "    .dataframe tbody tr th {\n",
       "        vertical-align: top;\n",
       "    }\n",
       "\n",
       "    .dataframe thead th {\n",
       "        text-align: right;\n",
       "    }\n",
       "</style>\n",
       "<table border=\"1\" class=\"dataframe\">\n",
       "  <thead>\n",
       "    <tr style=\"text-align: right;\">\n",
       "      <th></th>\n",
       "      <th>City</th>\n",
       "    </tr>\n",
       "  </thead>\n",
       "  <tbody>\n",
       "    <tr>\n",
       "      <th>London</th>\n",
       "      <td>21616</td>\n",
       "    </tr>\n",
       "    <tr>\n",
       "      <th>Paris</th>\n",
       "      <td>14924</td>\n",
       "    </tr>\n",
       "    <tr>\n",
       "      <th>Berlin</th>\n",
       "      <td>8008</td>\n",
       "    </tr>\n",
       "    <tr>\n",
       "      <th>Shawnee</th>\n",
       "      <td>1647</td>\n",
       "    </tr>\n",
       "    <tr>\n",
       "      <th>Newton</th>\n",
       "      <td>1408</td>\n",
       "    </tr>\n",
       "    <tr>\n",
       "      <th>...</th>\n",
       "      <td>...</td>\n",
       "    </tr>\n",
       "    <tr>\n",
       "      <th>Cheyenne</th>\n",
       "      <td>2</td>\n",
       "    </tr>\n",
       "    <tr>\n",
       "      <th>Chehalis</th>\n",
       "      <td>1</td>\n",
       "    </tr>\n",
       "    <tr>\n",
       "      <th>Bellevue</th>\n",
       "      <td>1</td>\n",
       "    </tr>\n",
       "    <tr>\n",
       "      <th>Byron</th>\n",
       "      <td>1</td>\n",
       "    </tr>\n",
       "    <tr>\n",
       "      <th>Braintree</th>\n",
       "      <td>1</td>\n",
       "    </tr>\n",
       "  </tbody>\n",
       "</table>\n",
       "<p>268 rows × 1 columns</p>\n",
       "</div>"
      ],
      "text/plain": [
       "            City\n",
       "London     21616\n",
       "Paris      14924\n",
       "Berlin      8008\n",
       "Shawnee     1647\n",
       "Newton      1408\n",
       "...          ...\n",
       "Cheyenne       2\n",
       "Chehalis       1\n",
       "Bellevue       1\n",
       "Byron          1\n",
       "Braintree      1\n",
       "\n",
       "[268 rows x 1 columns]"
      ]
     },
     "metadata": {},
     "output_type": "display_data"
    },
    {
     "name": "stdout",
     "output_type": "stream",
     "text": [
      "['Bobigny' 'Stuttgart' 'Kassel' 'London' 'Colma' 'Bremerton' 'Shawnee'\n",
      " 'Berkeley' 'Gold Coast' 'Neunkirchen' 'Chatou' 'Paris' 'Langley'\n",
      " 'Olympia' 'Newton' 'Cliffside' 'Brisbane' 'Wokingham' 'Les Ulis'\n",
      " 'Versailles' 'Santa Monica' 'Vancouver' 'Rhodes' 'East Brisbane'\n",
      " 'North Ryde' 'Geelong' 'Warrnambool' 'Werne' 'Burlingame' 'Calgary'\n",
      " 'Concord' 'Walla Walla' 'Lane Cove' 'Silverwater' 'Melbourne' 'Woolston'\n",
      " 'Burien' 'Malabar' 'Woodburn' 'Bellevue' 'Lincoln Acres' 'Salzgitter'\n",
      " 'Wollongong' 'Salem' 'Spring Valley' 'Ingolstadt' 'National City'\n",
      " 'Chula Vista' 'Bendigo' 'Lavender Bay' 'High Wycombe' 'Hannover'\n",
      " 'Bellflower' 'Corvallis' 'Spokane' 'Port Macquarie' 'Cheltenham'\n",
      " 'Stoke-on-Trent' 'Maidenhead' 'Downey' 'Coronado' 'Burbank' 'Sydney'\n",
      " 'Everett' 'Seattle' 'Victoria' 'Hawthorne' 'Goulburn' \"Villeneuve-d'Ascq\"\n",
      " 'San Carlos' 'Marysville' 'Dunkerque' 'Lebanon' 'Seaford' 'Findon'\n",
      " 'Essen' 'Lynnwood' 'Bellingham' 'Oakland' 'Lakewood' 'Novato'\n",
      " 'Saint Germain en Laye' 'Oak Bay' 'Port Hammond' 'Lake Oswego' 'Langford'\n",
      " 'North Sydney' 'Mill Valley' 'Courbevoie' 'Lieusaint' 'Portland'\n",
      " 'Palo Alto' 'Sooke' 'Milsons Point' 'Roubaix' 'Duesseldorf'\n",
      " 'Newport Beach' 'Canoga Park' 'Sunbury' 'Matraville' 'Oxford' 'Leeds'\n",
      " 'Milton Keynes' 'Saarlouis' 'Port Orchard' 'Metz' 'Lille' 'Melton'\n",
      " 'Kirkland' 'Edmonds' 'Hobart' 'Caloundra' 'Springwood' 'Imperial Beach'\n",
      " 'N. Vancouver' 'Puyallup' 'St. Leonards' 'Darlinghurst' 'Runcorn'\n",
      " 'Milwaukie' 'Oregon City' 'Esher-Molesey' 'Long Beach' 'Beverly Hills'\n",
      " 'Beaverton' 'Daly City' 'Braunschweig' 'York' 'Sedro Woolley' 'San Diego'\n",
      " 'Paderborn' 'Columbus' 'Woodland Hills' 'Ballard' 'Offenbach'\n",
      " 'Rockhampton' 'Berkshire' 'Roissy en Brie' 'Cranbourne' 'Cloverdale'\n",
      " 'Townsville' 'Warrington' 'Coffs Harbour' 'El Cajon' 'Issaquah'\n",
      " 'Liverpool' 'Torrance' 'West Covina' 'Newcastle' 'Frankfurt' 'Bonn'\n",
      " 'Royal Oak' 'Sulzbach Taunus' 'Orleans' 'Eilenburg' 'Renton' 'Lancaster'\n",
      " 'Orly' 'Hof' 'West Sussex' 'Bottrop' 'Berlin' 'Westminster'\n",
      " 'South Melbourne' 'Birmingham' 'Metchosin' 'Tacoma'\n",
      " 'Verrieres Le Buisson' 'Darmstadt' 'Grossmont' 'Frankfurt am Main'\n",
      " 'Kirkby' 'Billericay' 'Berks' 'Gateshead' 'Reading' 'W. York'\n",
      " 'Hervey Bay' 'München' 'Bury' 'Santa Cruz' 'Colombes' 'Sèvres' 'Haney'\n",
      " 'Hamburg' 'Redwood City' 'Boulogne-sur-Mer' 'Saint Ouen' 'Los Angeles'\n",
      " 'Perth' 'Cambridge' 'Drancy' 'Redmond' 'Croix' 'Watford' 'Morangis'\n",
      " 'Tremblay-en-France' 'Kiel' 'Saarbrücken' 'Yakima' 'Erlangen' 'Colomiers'\n",
      " 'San Gabriel' 'Lemon Grove' 'Dresden' 'Fremont' 'Pantin' 'Glendale'\n",
      " 'Bracknell' 'Grevenbroich' 'College Station' 'Burnaby' 'Peterborough'\n",
      " 'La Jolla' 'Paris La Defense' 'Leipzig' 'Newcastle upon Tyne' 'Mühlheim'\n",
      " 'Poing' 'Gloucestershire' 'Saint-Denis' 'Roncq' 'W. Linn' 'Münster'\n",
      " 'Solingen' 'Clearwater' 'Boulogne-Billancourt' 'Cergy' 'Oxon' 'Bothell'\n",
      " 'San Francisco' 'Suresnes' 'Braintree' 'Chandler' 'Chicago'\n",
      " 'City Of Commerce' 'Chalk Riber' 'Cheyenne' 'Charlotte' 'Cedar City'\n",
      " 'Clarkston' 'Campbellsville' 'Cedar Park' 'Clay' 'Billings' 'Branson'\n",
      " 'Bountiful' 'Cincinnati' 'Clackamas' 'Carol Stream' 'Camarillo'\n",
      " 'Bell Gardens' 'Basingstoke Hants' 'Carrollton' 'Branch' 'Baytown'\n",
      " 'Biloxi' 'Chehalis' 'Carson' 'Casper' 'Citrus Heights' 'Cheektowaga'\n",
      " 'Byron' 'Bluffton' 'Central Valley' 'Cerritos' 'Bradenton' 'Chantilly']\n"
     ]
    }
   ],
   "source": [
    "# Как мы видим, из многих городов заказывают наш товар\n",
    "# Давайте выясним топ 15 городов\n",
    "\n",
    "object_check(df['City'])"
   ]
  },
  {
   "cell_type": "code",
   "execution_count": 290,
   "metadata": {},
   "outputs": [
    {
     "data": {
      "text/plain": [
       "London               21616\n",
       "Paris                14924\n",
       "Berlin                8008\n",
       "Shawnee               1647\n",
       "Newton                1408\n",
       "York                  1221\n",
       "München               1108\n",
       "Westminster           1065\n",
       "Burbank               1008\n",
       "Cliffside              901\n",
       "Burnaby                882\n",
       "Vancouver              752\n",
       "Hamburg                710\n",
       "Frankfurt am Main      648\n",
       "Saint Ouen             597\n",
       "Name: City, dtype: int64"
      ]
     },
     "execution_count": 290,
     "metadata": {},
     "output_type": "execute_result"
    }
   ],
   "source": [
    "df['City'].value_counts().head(15)"
   ]
  },
  {
   "cell_type": "markdown",
   "metadata": {},
   "source": [
    "### sales_amount"
   ]
  },
  {
   "cell_type": "code",
   "execution_count": 291,
   "metadata": {},
   "outputs": [
    {
     "name": "stdout",
     "output_type": "stream",
     "text": [
      "count    108878.000000\n",
      "mean        395.485695\n",
      "std         766.594458\n",
      "min           2.290000\n",
      "25%           7.950000\n",
      "50%          28.990000\n",
      "75%          69.990000\n",
      "max        2443.350000\n",
      "Name: SalesAmount, dtype: float64\n"
     ]
    },
    {
     "data": {
      "image/png": "[encoded data removed]",
      "text/plain": [
       "<Figure size 432x288 with 1 Axes>"
      ]
     },
     "metadata": {
      "needs_background": "light"
     },
     "output_type": "display_data"
    }
   ],
   "source": [
    "float_check(df['SalesAmount'])"
   ]
  },
  {
   "cell_type": "code",
   "execution_count": 292,
   "metadata": {},
   "outputs": [
    {
     "data": {
      "text/html": [
       "<div>\n",
       "<style scoped>\n",
       "    .dataframe tbody tr th:only-of-type {\n",
       "        vertical-align: middle;\n",
       "    }\n",
       "\n",
       "    .dataframe tbody tr th {\n",
       "        vertical-align: top;\n",
       "    }\n",
       "\n",
       "    .dataframe thead th {\n",
       "        text-align: right;\n",
       "    }\n",
       "</style>\n",
       "<table border=\"1\" class=\"dataframe\">\n",
       "  <thead>\n",
       "    <tr style=\"text-align: right;\">\n",
       "      <th></th>\n",
       "      <th>Sub Category</th>\n",
       "      <th>SalesAmount</th>\n",
       "    </tr>\n",
       "    <tr>\n",
       "      <th>Product Category</th>\n",
       "      <th></th>\n",
       "      <th></th>\n",
       "    </tr>\n",
       "  </thead>\n",
       "  <tbody>\n",
       "    <tr>\n",
       "      <th>Bikes</th>\n",
       "      <td>Touring Bikes</td>\n",
       "      <td>2443.35</td>\n",
       "    </tr>\n",
       "    <tr>\n",
       "      <th>Accessories</th>\n",
       "      <td>Tires and Tubes</td>\n",
       "      <td>159.00</td>\n",
       "    </tr>\n",
       "    <tr>\n",
       "      <th>Clothing</th>\n",
       "      <td>Vests</td>\n",
       "      <td>69.99</td>\n",
       "    </tr>\n",
       "  </tbody>\n",
       "</table>\n",
       "</div>"
      ],
      "text/plain": [
       "                     Sub Category  SalesAmount\n",
       "Product Category                              \n",
       "Bikes               Touring Bikes      2443.35\n",
       "Accessories       Tires and Tubes       159.00\n",
       "Clothing                    Vests        69.99"
      ]
     },
     "execution_count": 292,
     "metadata": {},
     "output_type": "execute_result"
    }
   ],
   "source": [
    "# Проверим объем продаж\n",
    "# Сначала проверим катгории товаров\n",
    "# Велосипеды - самая покупаемая категория\n",
    "\n",
    "sales_amount = df.groupby('Product Category')[['Sub Category','SalesAmount']].max().sort_values('SalesAmount', ascending = False)\n",
    "sales_amount"
   ]
  },
  {
   "cell_type": "code",
   "execution_count": 293,
   "metadata": {},
   "outputs": [],
   "source": [
    "# Проверим теперь самый ходовой товар по категории\n",
    "\n",
    "product_per_category = df.groupby('Product Name')[['Product Name','Sub Category','SalesAmount','City']\n",
    "                                                 ].max().sort_values('SalesAmount', ascending = False)"
   ]
  },
  {
   "cell_type": "code",
   "execution_count": 294,
   "metadata": {},
   "outputs": [
    {
     "data": {
      "text/plain": [
       "('Самый ходовой товар в категории Road Bikes : Road-750 Black, 58 в городе York',\n",
       " 'Самый ходовой товар в категории Mountain Bikes : Mountain-500 Silver, 52 в городе York',\n",
       " 'Самый ходовой товар в категории Bottles and Cages : Water Bottle - 30 oz. в городе York',\n",
       " 'Самый ходовой товар в категории Touring Bikes : Touring-3000 Yellow, 62 в городе York',\n",
       " 'Самый ходовой товар в категории Helmets : Sport-100 Helmet, Red в городе York',\n",
       " 'Самый ходовой товар в категории Tires and Tubes : Touring Tire Tube в городе York',\n",
       " 'Самый ходовой товар в категории Bike Stands : All-Purpose Bike Stand в городе Yakima',\n",
       " 'Самый ходовой товар в категории Jerseys : Short-Sleeve Classic Jersey, XL в городе York',\n",
       " 'Самый ходовой товар в категории Gloves : Half-Finger Gloves, S в городе York',\n",
       " 'Самый ходовой товар в категории Fenders : Fender Set - Mountain в городе York',\n",
       " 'Самый ходовой товар в категории Caps : AWC Logo Cap в городе York',\n",
       " 'Самый ходовой товар в категории Socks : Racing Socks, M в городе York',\n",
       " 'Самый ходовой товар в категории Hydration Packs : Hydration Pack - 70 oz. в городе York',\n",
       " 'Самый ходовой товар в категории Vests : Classic Vest, S в городе York',\n",
       " 'Самый ходовой товар в категории Cleaners : Bike Wash - Dissolver в городе York',\n",
       " 'Самый ходовой товар в категории Bike Racks : Hitch Rack - 4-Bike в городе Yakima',\n",
       " \"Самый ходовой товар в категории Shorts : Women's Mountain Shorts, S в городе York\")"
      ]
     },
     "execution_count": 294,
     "metadata": {},
     "output_type": "execute_result"
    }
   ],
   "source": [
    "def cost(column):\n",
    "    sub_category = product_per_category[(product_per_category['Sub Category'] == column)]['Product Name'].max()\n",
    "    city = product_per_category[(product_per_category['Sub Category'] == column)]['City'].max()\n",
    "    return \"Самый ходовой товар в категории \" + column + ' : ' + sub_category + ' в городе ' + city\n",
    "\n",
    "(*map(cost, df['Sub Category'].unique()),)"
   ]
  },
  {
   "cell_type": "markdown",
   "metadata": {},
   "source": [
    "### product_name"
   ]
  },
  {
   "cell_type": "code",
   "execution_count": 295,
   "metadata": {},
   "outputs": [
    {
     "name": "stdout",
     "output_type": "stream",
     "text": [
      "Water Bottle - 30 oz.      7667\n",
      "Patch Kit/8 Patches        5795\n",
      "Road Tire Tube             5102\n",
      "Mountain Tire Tube         5099\n",
      "AWC Logo Cap               4344\n",
      "Sport-100 Helmet, Red      4285\n",
      "Sport-100 Helmet, Black    4249\n",
      "Sport-100 Helmet, Blue     3924\n",
      "Mountain Bottle Cage       3670\n",
      "Fender Set - Mountain      3459\n",
      "Touring Tire Tube          3443\n",
      "Road Bottle Cage           3258\n",
      "LL Road Tire               2371\n",
      "Touring Tire               2208\n",
      "HL Mountain Tire           2066\n",
      "Name: Product Name, dtype: int64\n"
     ]
    },
    {
     "data": {
      "image/png": "[encoded data removed]",
      "text/plain": [
       "<Figure size 720x720 with 1 Axes>"
      ]
     },
     "metadata": {
      "needs_background": "light"
     },
     "output_type": "display_data"
    }
   ],
   "source": [
    "# Повторим действие выше и узнаем самый ходовой товар:\n",
    "# Water Bottle - 30 oz.\n",
    "\n",
    "print(df['Product Name'].value_counts().head(15))\n",
    "plt.rcParams['figure.figsize'] = (10,10)\n",
    "product_name = df['Product Name'].value_counts().nlargest(15).plot(kind='barh')"
   ]
  },
  {
   "cell_type": "markdown",
   "metadata": {},
   "source": [
    "### standard_cost"
   ]
  },
  {
   "cell_type": "code",
   "execution_count": 296,
   "metadata": {},
   "outputs": [
    {
     "name": "stdout",
     "output_type": "stream",
     "text": [
      "count    108878.000000\n",
      "mean        231.687701\n",
      "std         453.505095\n",
      "min           0.856500\n",
      "25%           2.973300\n",
      "50%          10.842300\n",
      "75%          41.572300\n",
      "max        1554.947900\n",
      "Name: StandardCost, dtype: float64\n"
     ]
    },
    {
     "data": {
      "image/png": "[encoded data removed]",
      "text/plain": [
       "<Figure size 720x720 with 1 Axes>"
      ]
     },
     "metadata": {
      "needs_background": "light"
     },
     "output_type": "display_data"
    }
   ],
   "source": [
    "float_check(df['StandardCost'])"
   ]
  },
  {
   "cell_type": "code",
   "execution_count": 297,
   "metadata": {},
   "outputs": [],
   "source": [
    "# Сгруппируем данные, чтобы увидеть самые дорогостоящие товары по подгруппам\n",
    "\n",
    "standard_cost = df.groupby('Product Name')[['Product Name','Sub Category','StandardCost']].max().sort_values('StandardCost', ascending = False)"
   ]
  },
  {
   "cell_type": "code",
   "execution_count": 298,
   "metadata": {},
   "outputs": [
    {
     "data": {
      "text/plain": [
       "('Самый дорогостоящий товар в категории Road Bikes : Road-750 Black, 58',\n",
       " 'Самый дорогостоящий товар в категории Mountain Bikes : Mountain-500 Silver, 52',\n",
       " 'Самый дорогостоящий товар в категории Bottles and Cages : Water Bottle - 30 oz.',\n",
       " 'Самый дорогостоящий товар в категории Touring Bikes : Touring-3000 Yellow, 62',\n",
       " 'Самый дорогостоящий товар в категории Helmets : Sport-100 Helmet, Red',\n",
       " 'Самый дорогостоящий товар в категории Tires and Tubes : Touring Tire Tube',\n",
       " 'Самый дорогостоящий товар в категории Bike Stands : All-Purpose Bike Stand',\n",
       " 'Самый дорогостоящий товар в категории Jerseys : Short-Sleeve Classic Jersey, XL',\n",
       " 'Самый дорогостоящий товар в категории Gloves : Half-Finger Gloves, S',\n",
       " 'Самый дорогостоящий товар в категории Fenders : Fender Set - Mountain',\n",
       " 'Самый дорогостоящий товар в категории Caps : AWC Logo Cap',\n",
       " 'Самый дорогостоящий товар в категории Socks : Racing Socks, M',\n",
       " 'Самый дорогостоящий товар в категории Hydration Packs : Hydration Pack - 70 oz.',\n",
       " 'Самый дорогостоящий товар в категории Vests : Classic Vest, S',\n",
       " 'Самый дорогостоящий товар в категории Cleaners : Bike Wash - Dissolver',\n",
       " 'Самый дорогостоящий товар в категории Bike Racks : Hitch Rack - 4-Bike',\n",
       " \"Самый дорогостоящий товар в категории Shorts : Women's Mountain Shorts, S\")"
      ]
     },
     "execution_count": 298,
     "metadata": {},
     "output_type": "execute_result"
    }
   ],
   "source": [
    "def cost(column):\n",
    "    sub_category = standard_cost[(standard_cost['Sub Category'] == column)]['Product Name'].max()\n",
    "    return \"Самый дорогостоящий товар в категории \" + column + ' : ' + sub_category\n",
    "\n",
    "(*map(cost, df['Sub Category'].unique()),)"
   ]
  },
  {
   "cell_type": "code",
   "execution_count": 299,
   "metadata": {},
   "outputs": [],
   "source": [
    "df.to_csv (r'dataframe.csv', index = False, header=True)"
   ]
  },
  {
   "cell_type": "code",
   "execution_count": 300,
   "metadata": {},
   "outputs": [
    {
     "name": "stdout",
     "output_type": "stream",
     "text": [
      "<class 'pandas.core.frame.DataFrame'>\n",
      "Int64Index: 108878 entries, 0 to 108877\n",
      "Data columns (total 44 columns):\n",
      " #   Column                    Non-Null Count   Dtype  \n",
      "---  ------                    --------------   -----  \n",
      " 0   ProductKey                108878 non-null  int64  \n",
      " 1   OrderDateKey              108878 non-null  int64  \n",
      " 2   DueDateKey                108878 non-null  int64  \n",
      " 3   ShipDateKey               108878 non-null  int64  \n",
      " 4   CustomerKey               108878 non-null  int64  \n",
      " 5   SalesOrderNumber          108878 non-null  object \n",
      " 6   SalesAmount               108878 non-null  float64\n",
      " 7   ProductItemCode           108878 non-null  object \n",
      " 8   Product Name              108878 non-null  object \n",
      " 9   Sub Category              108878 non-null  object \n",
      " 10  Product Category          108878 non-null  object \n",
      " 11  StandardCost              108878 non-null  float64\n",
      " 12  Product Color             55474 non-null   object \n",
      " 13  Product Size              38672 non-null   object \n",
      " 14  Product Line              108878 non-null  object \n",
      " 15  Model Name                108878 non-null  object \n",
      " 16  Product Description       108878 non-null  object \n",
      " 17  Product Status            108878 non-null  object \n",
      " 18  Date                      108874 non-null  object \n",
      " 19  Day                       108874 non-null  object \n",
      " 20  Month                     108874 non-null  object \n",
      " 21  MonthShort                108874 non-null  object \n",
      " 22  MonthNr                   108874 non-null  float64\n",
      " 23  Quarter                   108874 non-null  float64\n",
      " 24  Year                      108874 non-null  float64\n",
      " 25  FirstName                 108878 non-null  object \n",
      " 26  LastName                  108878 non-null  object \n",
      " 27  Full Name                 108878 non-null  object \n",
      " 28  BirthDate                 108878 non-null  object \n",
      " 29  AgeOfCustomer             108878 non-null  int64  \n",
      " 30  Gender                    108878 non-null  object \n",
      " 31  DateFirstPurchase         108878 non-null  object \n",
      " 32  City                      108878 non-null  object \n",
      " 33  Region Code               108878 non-null  object \n",
      " 34  State Code                108878 non-null  object \n",
      " 35  GeographyKey              108878 non-null  int64  \n",
      " 36  StateProvinceCode         108878 non-null  object \n",
      " 37  StateProvinceName         108878 non-null  object \n",
      " 38  CountryRegionCode         108878 non-null  object \n",
      " 39  EnglishCountryRegionName  108878 non-null  object \n",
      " 40  PostalCode                108878 non-null  object \n",
      " 41  SalesTerritoryKey         108878 non-null  int64  \n",
      " 42  IpAddressLocator          108878 non-null  object \n",
      " 43  AgeGroup                  108878 non-null  object \n",
      "dtypes: float64(5), int64(8), object(31)\n",
      "memory usage: 42.4+ MB\n"
     ]
    }
   ],
   "source": [
    "df.info()"
   ]
  },
  {
   "cell_type": "code",
   "execution_count": null,
   "metadata": {},
   "outputs": [],
   "source": []
  }
 ],
 "metadata": {
  "kernelspec": {
   "display_name": "Python 3",
   "language": "python",
   "name": "python3"
  },
  "language_info": {
   "codemirror_mode": {
    "name": "ipython",
    "version": 3
   },
   "file_extension": ".py",
   "mimetype": "text/x-python",
   "name": "python",
   "nbconvert_exporter": "python",
   "pygments_lexer": "ipython3",
   "version": "3.8.8"
  }
 },
 "nbformat": 4,
 "nbformat_minor": 2
}
