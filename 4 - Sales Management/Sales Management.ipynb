{
 "cells": [
  {
   "cell_type": "markdown",
   "metadata": {},
   "source": [
    "<a id='begin'></a>\n",
    "# Оглавление"
   ]
  },
  {
   "cell_type": "markdown",
   "metadata": {},
   "source": [
    "- ### [Техническое задание](#task)\n",
    "    - [Информация](#information)\n",
    "    - [Датасеты](#datasets)\n",
    "    \n",
    "- ### [Изучение данных](#search)\n",
    "    - [Анализ данных](#analysis)\n",
    "    - [customers](#customers)\n",
    "    - [sales](#sales)\n",
    "    - [products](#products)\n",
    "\n",
    "- ### [Объединение датасетов](#merge)\n",
    "\n",
    "- ### [Сохранение датасета](#save)"
   ]
  },
  {
   "cell_type": "markdown",
   "metadata": {},
   "source": [
    "<a id='task'></a>\n",
    "# Техническое задание\n",
    "\n",
    "<b>Цель:</b>\n",
    "<br>Увеличить прибыль за счет приоритетного размещения товаров на складской зоне. Уменьшить затраты на транспортировку товара.\n",
    "<br>\n",
    "<br>\n",
    "<b>Ожидаемый результат:</b>\n",
    "<br>Отчет с обработанными данными. Интерактивный дашборд. Автоматизация отчета.\n",
    "<br>\n",
    "<br>\n",
    "<b>Технические задачи:</b> \n",
    "<ul>\n",
    "    <li>Анализ данных</li>\n",
    "    <li>Предобработка данных</li>\n",
    "    <li>Создание факторов</li>\n",
    "    <li>Автоматизация предобработки и создания факторов</li>\n",
    "    <li>Визуализация данных продающихся товаров</li>\n",
    "</ul>\n",
    "<br>\n",
    "<b>Комментарий:</b>\n",
    "<br>Определить целевые склады/регионы под продажу товара. Дополнительные сведения приветствуются.\n",
    "<br>\n",
    "<br>\n",
    "<b>Источник данных:</b>\n",
    "<br>База данных (SSMS)\n",
    "<br>\n",
    "<br>\n",
    "<b>Возможные риски и решения:</b>\n",
    "</br>\n",
    "<ul>\n",
    "    <li>Отсутствие BI системы у всех назначенных в задаче. <i><b>Решение:</b></i> Создание веб-сервиса.</li>\n",
    "</ul>"
   ]
  },
  {
   "cell_type": "markdown",
   "metadata": {},
   "source": [
    "<a id='information'></a>\n",
    "# Информация"
   ]
  },
  {
   "cell_type": "markdown",
   "metadata": {},
   "source": [
    "### Customers:\n",
    "\n",
    "* <i>CustomerKey</i> : ID клиента\n",
    "* <i> FirstName</i> : Имя клиента \n",
    "* <i> LastName</i> : Фамилия клиента\n",
    "* <i> Full Name</i> : Имя и Фамилия клиента\n",
    "* <i> BirthDate</i> : День рождения клиента\n",
    "* <i> AgeOfCustomer</i> : Возраст клиента на момент заказа\n",
    "<br> &#10149; (данные получены при помощи  BirthDate  и  DateFirstPurchase )\n",
    "* <i> Gender</i> : Пол клиента\n",
    "* <i> DateFirstPurchase</i> : Дата заказа товара \n",
    "* <i> Customer City</i> : Город клиента\n",
    "\n",
    "### Sales:\n",
    "\n",
    "* <i> ProductKey</i> : ID товара\n",
    "* <i> OrderDateKey</i> : ID Даты заказа\n",
    "* <i> DueDateKey</i> : ID Срока сдачи\n",
    "* <i> ShipDateKey</i> : ID Даты отправки \n",
    "* <i> SalesOrderNumber</i> : Номер поставки\n",
    "* <i> SalesAmount</i> : Объем продаж\n",
    "\n",
    "### Products:\n",
    "\n",
    "* <i> ProductKey</i> : ID клиента\n",
    "* <i> ProductItemCode</i> : Серия товара \n",
    "* <i> Product Name</i> : Название товара\n",
    "* <i> Sub Category</i> : Подкатегория товара\n",
    "* <i> Product Category</i> : Категория товара\n",
    "* <i> StandardCost</i> : Стоимость товара\n",
    "* <i> Product Color</i> : Цвет товара\n",
    "* <i> Product Size</i> : Размер товара \n",
    "* <i> Product Line</i> : Линия товара\n",
    "* <i> Model Name</i> : Название модели\n",
    "* <i> Product Description</i> : Описание товара\n",
    "* <i> Product Description DE</i> : Описание товара на немецком  \n",
    "* <i> Product Status</i> : Статус товара\n",
    "\n",
    "# ------------ Статичные справочники ---------------\n",
    "\n",
    "### Calendar\n",
    "\n",
    "### Countries"
   ]
  },
  {
   "cell_type": "markdown",
   "metadata": {},
   "source": [
    "## Импорт библиотек"
   ]
  },
  {
   "cell_type": "code",
   "execution_count": 209,
   "metadata": {},
   "outputs": [],
   "source": [
    "import numpy as np\n",
    "import pandas as pd\n",
    "import seaborn as sns \n",
    "import itertools\n",
    "import matplotlib.pyplot as plt\n",
    "%matplotlib inline\n",
    "from itertools import combinations"
   ]
  },
  {
   "cell_type": "markdown",
   "metadata": {},
   "source": [
    "## Подготовленные ф-ии"
   ]
  },
  {
   "cell_type": "code",
   "execution_count": 210,
   "metadata": {},
   "outputs": [],
   "source": [
    "# Проверка столбца (dtype object) на наличие уникальных значений и их количество \n",
    "def object_check(column):\n",
    "    display(pd.DataFrame(column.value_counts()))\n",
    "    print(column.unique())\n",
    "\n",
    "# Проверка столбца (dtype float) с помощью гистограммы, \n",
    "# которая отображает характеристики выбранного столбца:\n",
    "# (количество значений в столбце, среднее, стандартное отклонение, минимальное,\n",
    "# 25-й процентиль, 50-й процентиль, 75-й процентиль и максимальное)\n",
    "def float_check(column):\n",
    "    column.hist()\n",
    "    print(column.describe())\n",
    "\n",
    "\n",
    "# Преобразование столбца при использовании dummy перменных\n",
    "# ставим 1 - при наличии, 0 - при отсутствии\n",
    "def find_item(cell):\n",
    "    if item in cell:\n",
    "        return 1\n",
    "    return 0\n",
    "\n",
    "\n",
    "# Проверка кол-ва пустых значений в столбце\n",
    "def procent_check(column, df):\n",
    "    math = round(100 - ((df[column].count() * 100) / len(df)))\n",
    "    print(f'В столбце {column} отсутствует {str(math)}% информации.')\n",
    "    \n",
    "# Вывод основных статистических характеристик категориальных признаков\n",
    "def categorical_check(column):\n",
    "    display(pd.DataFrame(df[column].value_counts()))\n",
    "    print(df[column].describe())\n",
    "\n",
    "# Построение гистограммы и вывод основных статистических характеристик числовых признаков\n",
    "def numerical_check(column):\n",
    "    display(df[column].hist(bins=100))\n",
    "    print(df[column].describe())\n",
    "    \n",
    "\n",
    "# Отображение начальных строк и информации о датасете\n",
    "def df_check(df):\n",
    "    display(df.head())\n",
    "    display(df.info())\n",
    "    \n",
    "def replace_nan(df,column):\n",
    "    return df[column].astype(str).apply(lambda x: 'Unknown' if x == 'nan' else x)"
   ]
  },
  {
   "cell_type": "markdown",
   "metadata": {},
   "source": [
    "<a id='datasets'></a>\n",
    "# Датасеты"
   ]
  },
  {
   "cell_type": "code",
   "execution_count": 211,
   "metadata": {},
   "outputs": [],
   "source": [
    "# Клиенты\n",
    "customers = pd.read_csv('DIM_Customer.csv', sep = ';')\n",
    "\n",
    "# Товар\n",
    "products = pd.read_csv('DIM_Product.csv', sep = ';')\n",
    "\n",
    "# Онлайн продажа товара\n",
    "sales = pd.read_csv('DIM_OnlineSales.csv', sep = ';')\n",
    "\n",
    "\n",
    "# ------------ Статичные справочники ---------------\n",
    "# Календарь\n",
    "calendar = pd.read_csv('DIM_Calendar.csv', sep = ';')\n",
    "\n",
    "# Список стран\n",
    "countries = pd.read_csv('DIM_countries.csv', sep = ';')"
   ]
  },
  {
   "cell_type": "markdown",
   "metadata": {},
   "source": [
    "#### [В начало](#begin)"
   ]
  },
  {
   "cell_type": "markdown",
   "metadata": {},
   "source": [
    "<a id='search'></a>\n",
    "# Изучение данных"
   ]
  },
  {
   "cell_type": "markdown",
   "metadata": {},
   "source": [
    "Как было обозначено выше, calendat и countries являются статичными справочниками, их мы, пока что, пропустим."
   ]
  },
  {
   "cell_type": "markdown",
   "metadata": {},
   "source": [
    "### customers"
   ]
  },
  {
   "cell_type": "code",
   "execution_count": 212,
   "metadata": {},
   "outputs": [
    {
     "data": {
      "text/html": [
       "<div>\n",
       "<style scoped>\n",
       "    .dataframe tbody tr th:only-of-type {\n",
       "        vertical-align: middle;\n",
       "    }\n",
       "\n",
       "    .dataframe tbody tr th {\n",
       "        vertical-align: top;\n",
       "    }\n",
       "\n",
       "    .dataframe thead th {\n",
       "        text-align: right;\n",
       "    }\n",
       "</style>\n",
       "<table border=\"1\" class=\"dataframe\">\n",
       "  <thead>\n",
       "    <tr style=\"text-align: right;\">\n",
       "      <th></th>\n",
       "      <th>CustomerKey</th>\n",
       "      <th>FirstName</th>\n",
       "      <th>LastName</th>\n",
       "      <th>Full Name</th>\n",
       "      <th>BirthDate</th>\n",
       "      <th>AgeOfCustomer</th>\n",
       "      <th>Gender</th>\n",
       "      <th>DateFirstPurchase</th>\n",
       "      <th>City</th>\n",
       "      <th>Region Code</th>\n",
       "      <th>State Code</th>\n",
       "    </tr>\n",
       "  </thead>\n",
       "  <tbody>\n",
       "    <tr>\n",
       "      <th>0</th>\n",
       "      <td>11000</td>\n",
       "      <td>Jon</td>\n",
       "      <td>Yang</td>\n",
       "      <td>JonYang</td>\n",
       "      <td>1971-10-06</td>\n",
       "      <td>47</td>\n",
       "      <td>Male</td>\n",
       "      <td>2018-01-19</td>\n",
       "      <td>Rockhampton</td>\n",
       "      <td>AU</td>\n",
       "      <td>QLD</td>\n",
       "    </tr>\n",
       "    <tr>\n",
       "      <th>1</th>\n",
       "      <td>11001</td>\n",
       "      <td>Eugene</td>\n",
       "      <td>Huang</td>\n",
       "      <td>EugeneHuang</td>\n",
       "      <td>1976-05-10</td>\n",
       "      <td>42</td>\n",
       "      <td>Male</td>\n",
       "      <td>2018-01-15</td>\n",
       "      <td>Seaford</td>\n",
       "      <td>AU</td>\n",
       "      <td>VIC</td>\n",
       "    </tr>\n",
       "    <tr>\n",
       "      <th>2</th>\n",
       "      <td>11002</td>\n",
       "      <td>Ruben</td>\n",
       "      <td>Torres</td>\n",
       "      <td>RubenTorres</td>\n",
       "      <td>1971-02-09</td>\n",
       "      <td>47</td>\n",
       "      <td>Male</td>\n",
       "      <td>2018-01-07</td>\n",
       "      <td>Hobart</td>\n",
       "      <td>AU</td>\n",
       "      <td>TAS</td>\n",
       "    </tr>\n",
       "    <tr>\n",
       "      <th>3</th>\n",
       "      <td>11003</td>\n",
       "      <td>Christy</td>\n",
       "      <td>Zhu</td>\n",
       "      <td>ChristyZhu</td>\n",
       "      <td>1973-08-14</td>\n",
       "      <td>44</td>\n",
       "      <td>Female</td>\n",
       "      <td>2017-12-29</td>\n",
       "      <td>North Ryde</td>\n",
       "      <td>AU</td>\n",
       "      <td>NSW</td>\n",
       "    </tr>\n",
       "    <tr>\n",
       "      <th>4</th>\n",
       "      <td>11004</td>\n",
       "      <td>Elizabeth</td>\n",
       "      <td>Johnson</td>\n",
       "      <td>ElizabethJohnson</td>\n",
       "      <td>1979-08-05</td>\n",
       "      <td>39</td>\n",
       "      <td>Female</td>\n",
       "      <td>2018-01-23</td>\n",
       "      <td>Wollongong</td>\n",
       "      <td>AU</td>\n",
       "      <td>NSW</td>\n",
       "    </tr>\n",
       "  </tbody>\n",
       "</table>\n",
       "</div>"
      ],
      "text/plain": [
       "   CustomerKey  FirstName LastName         Full Name   BirthDate  \\\n",
       "0        11000        Jon     Yang           JonYang  1971-10-06   \n",
       "1        11001     Eugene    Huang       EugeneHuang  1976-05-10   \n",
       "2        11002      Ruben   Torres       RubenTorres  1971-02-09   \n",
       "3        11003    Christy      Zhu        ChristyZhu  1973-08-14   \n",
       "4        11004  Elizabeth  Johnson  ElizabethJohnson  1979-08-05   \n",
       "\n",
       "   AgeOfCustomer  Gender DateFirstPurchase         City Region Code State Code  \n",
       "0             47    Male        2018-01-19  Rockhampton          AU        QLD  \n",
       "1             42    Male        2018-01-15      Seaford          AU        VIC  \n",
       "2             47    Male        2018-01-07       Hobart          AU        TAS  \n",
       "3             44  Female        2017-12-29   North Ryde          AU        NSW  \n",
       "4             39  Female        2018-01-23   Wollongong          AU        NSW  "
      ]
     },
     "metadata": {},
     "output_type": "display_data"
    },
    {
     "name": "stdout",
     "output_type": "stream",
     "text": [
      "<class 'pandas.core.frame.DataFrame'>\n",
      "RangeIndex: 18484 entries, 0 to 18483\n",
      "Data columns (total 11 columns):\n",
      " #   Column             Non-Null Count  Dtype \n",
      "---  ------             --------------  ----- \n",
      " 0   CustomerKey        18484 non-null  int64 \n",
      " 1   FirstName          18484 non-null  object\n",
      " 2   LastName           18484 non-null  object\n",
      " 3   Full Name          18484 non-null  object\n",
      " 4   BirthDate          18484 non-null  object\n",
      " 5   AgeOfCustomer      18484 non-null  int64 \n",
      " 6   Gender             18484 non-null  object\n",
      " 7   DateFirstPurchase  18484 non-null  object\n",
      " 8   City               18484 non-null  object\n",
      " 9   Region Code        18484 non-null  object\n",
      " 10  State Code         18484 non-null  object\n",
      "dtypes: int64(2), object(9)\n",
      "memory usage: 1.6+ MB\n"
     ]
    },
    {
     "data": {
      "text/plain": [
       "None"
      ]
     },
     "metadata": {},
     "output_type": "display_data"
    }
   ],
   "source": [
    "customers.rename(columns = {'Customer City':'City'}, inplace = True)\n",
    "df_check(customers)"
   ]
  },
  {
   "cell_type": "code",
   "execution_count": 213,
   "metadata": {},
   "outputs": [
    {
     "data": {
      "text/html": [
       "<div>\n",
       "<style scoped>\n",
       "    .dataframe tbody tr th:only-of-type {\n",
       "        vertical-align: middle;\n",
       "    }\n",
       "\n",
       "    .dataframe tbody tr th {\n",
       "        vertical-align: top;\n",
       "    }\n",
       "\n",
       "    .dataframe thead th {\n",
       "        text-align: right;\n",
       "    }\n",
       "</style>\n",
       "<table border=\"1\" class=\"dataframe\">\n",
       "  <thead>\n",
       "    <tr style=\"text-align: right;\">\n",
       "      <th></th>\n",
       "      <th>ProductKey</th>\n",
       "      <th>OrderDateKey</th>\n",
       "      <th>DueDateKey</th>\n",
       "      <th>ShipDateKey</th>\n",
       "      <th>CustomerKey</th>\n",
       "      <th>SalesOrderNumber</th>\n",
       "      <th>SalesAmount</th>\n",
       "    </tr>\n",
       "  </thead>\n",
       "  <tbody>\n",
       "    <tr>\n",
       "      <th>0</th>\n",
       "      <td>381</td>\n",
       "      <td>20190101</td>\n",
       "      <td>20190113</td>\n",
       "      <td>20190108</td>\n",
       "      <td>16942</td>\n",
       "      <td>SO46700</td>\n",
       "      <td>1000,4375</td>\n",
       "    </tr>\n",
       "    <tr>\n",
       "      <th>1</th>\n",
       "      <td>375</td>\n",
       "      <td>20190101</td>\n",
       "      <td>20190113</td>\n",
       "      <td>20190108</td>\n",
       "      <td>15114</td>\n",
       "      <td>SO46701</td>\n",
       "      <td>2181,5625</td>\n",
       "    </tr>\n",
       "    <tr>\n",
       "      <th>2</th>\n",
       "      <td>369</td>\n",
       "      <td>20190101</td>\n",
       "      <td>20190113</td>\n",
       "      <td>20190108</td>\n",
       "      <td>15116</td>\n",
       "      <td>SO46702</td>\n",
       "      <td>2443,35</td>\n",
       "    </tr>\n",
       "    <tr>\n",
       "      <th>3</th>\n",
       "      <td>337</td>\n",
       "      <td>20190101</td>\n",
       "      <td>20190113</td>\n",
       "      <td>20190108</td>\n",
       "      <td>20576</td>\n",
       "      <td>SO46703</td>\n",
       "      <td>782,99</td>\n",
       "    </tr>\n",
       "    <tr>\n",
       "      <th>4</th>\n",
       "      <td>370</td>\n",
       "      <td>20190101</td>\n",
       "      <td>20190113</td>\n",
       "      <td>20190108</td>\n",
       "      <td>13059</td>\n",
       "      <td>SO46704</td>\n",
       "      <td>2443,35</td>\n",
       "    </tr>\n",
       "  </tbody>\n",
       "</table>\n",
       "</div>"
      ],
      "text/plain": [
       "   ProductKey  OrderDateKey  DueDateKey  ShipDateKey  CustomerKey  \\\n",
       "0         381      20190101    20190113     20190108        16942   \n",
       "1         375      20190101    20190113     20190108        15114   \n",
       "2         369      20190101    20190113     20190108        15116   \n",
       "3         337      20190101    20190113     20190108        20576   \n",
       "4         370      20190101    20190113     20190108        13059   \n",
       "\n",
       "  SalesOrderNumber SalesAmount  \n",
       "0          SO46700   1000,4375  \n",
       "1          SO46701   2181,5625  \n",
       "2          SO46702     2443,35  \n",
       "3          SO46703      782,99  \n",
       "4          SO46704     2443,35  "
      ]
     },
     "metadata": {},
     "output_type": "display_data"
    },
    {
     "name": "stdout",
     "output_type": "stream",
     "text": [
      "<class 'pandas.core.frame.DataFrame'>\n",
      "RangeIndex: 58168 entries, 0 to 58167\n",
      "Data columns (total 7 columns):\n",
      " #   Column            Non-Null Count  Dtype \n",
      "---  ------            --------------  ----- \n",
      " 0   ProductKey        58168 non-null  int64 \n",
      " 1   OrderDateKey      58168 non-null  int64 \n",
      " 2   DueDateKey        58168 non-null  int64 \n",
      " 3   ShipDateKey       58168 non-null  int64 \n",
      " 4   CustomerKey       58168 non-null  int64 \n",
      " 5   SalesOrderNumber  58168 non-null  object\n",
      " 6   SalesAmount       58168 non-null  object\n",
      "dtypes: int64(5), object(2)\n",
      "memory usage: 3.1+ MB\n"
     ]
    },
    {
     "data": {
      "text/plain": [
       "None"
      ]
     },
     "metadata": {},
     "output_type": "display_data"
    }
   ],
   "source": [
    "df_check(sales)"
   ]
  },
  {
   "cell_type": "code",
   "execution_count": 214,
   "metadata": {},
   "outputs": [
    {
     "data": {
      "text/html": [
       "<div>\n",
       "<style scoped>\n",
       "    .dataframe tbody tr th:only-of-type {\n",
       "        vertical-align: middle;\n",
       "    }\n",
       "\n",
       "    .dataframe tbody tr th {\n",
       "        vertical-align: top;\n",
       "    }\n",
       "\n",
       "    .dataframe thead th {\n",
       "        text-align: right;\n",
       "    }\n",
       "</style>\n",
       "<table border=\"1\" class=\"dataframe\">\n",
       "  <thead>\n",
       "    <tr style=\"text-align: right;\">\n",
       "      <th></th>\n",
       "      <th>ProductKey</th>\n",
       "      <th>ProductItemCode</th>\n",
       "      <th>Product Name</th>\n",
       "      <th>Sub Category</th>\n",
       "      <th>Product Category</th>\n",
       "      <th>StandardCost</th>\n",
       "      <th>Product Color</th>\n",
       "      <th>Product Size</th>\n",
       "      <th>Product Line</th>\n",
       "      <th>Model Name</th>\n",
       "      <th>Product Description</th>\n",
       "      <th>Product Description DE</th>\n",
       "      <th>Product Status</th>\n",
       "    </tr>\n",
       "  </thead>\n",
       "  <tbody>\n",
       "    <tr>\n",
       "      <th>0</th>\n",
       "      <td>1</td>\n",
       "      <td>AR-5381</td>\n",
       "      <td>Adjustable Race</td>\n",
       "      <td>NaN</td>\n",
       "      <td>NaN</td>\n",
       "      <td>NaN</td>\n",
       "      <td>NaN</td>\n",
       "      <td>NaN</td>\n",
       "      <td>NaN</td>\n",
       "      <td>NaN</td>\n",
       "      <td>NaN</td>\n",
       "      <td>NaN</td>\n",
       "      <td>Current</td>\n",
       "    </tr>\n",
       "    <tr>\n",
       "      <th>1</th>\n",
       "      <td>2</td>\n",
       "      <td>BA-8327</td>\n",
       "      <td>Bearing Ball</td>\n",
       "      <td>NaN</td>\n",
       "      <td>NaN</td>\n",
       "      <td>NaN</td>\n",
       "      <td>NaN</td>\n",
       "      <td>NaN</td>\n",
       "      <td>NaN</td>\n",
       "      <td>NaN</td>\n",
       "      <td>NaN</td>\n",
       "      <td>NaN</td>\n",
       "      <td>Current</td>\n",
       "    </tr>\n",
       "    <tr>\n",
       "      <th>2</th>\n",
       "      <td>3</td>\n",
       "      <td>BE-2349</td>\n",
       "      <td>BB Ball Bearing</td>\n",
       "      <td>NaN</td>\n",
       "      <td>NaN</td>\n",
       "      <td>NaN</td>\n",
       "      <td>NaN</td>\n",
       "      <td>NaN</td>\n",
       "      <td>NaN</td>\n",
       "      <td>NaN</td>\n",
       "      <td>NaN</td>\n",
       "      <td>NaN</td>\n",
       "      <td>Current</td>\n",
       "    </tr>\n",
       "    <tr>\n",
       "      <th>3</th>\n",
       "      <td>4</td>\n",
       "      <td>BE-2908</td>\n",
       "      <td>Headset Ball Bearings</td>\n",
       "      <td>NaN</td>\n",
       "      <td>NaN</td>\n",
       "      <td>NaN</td>\n",
       "      <td>NaN</td>\n",
       "      <td>NaN</td>\n",
       "      <td>NaN</td>\n",
       "      <td>NaN</td>\n",
       "      <td>NaN</td>\n",
       "      <td>NaN</td>\n",
       "      <td>Current</td>\n",
       "    </tr>\n",
       "    <tr>\n",
       "      <th>4</th>\n",
       "      <td>5</td>\n",
       "      <td>BL-2036</td>\n",
       "      <td>Blade</td>\n",
       "      <td>NaN</td>\n",
       "      <td>NaN</td>\n",
       "      <td>NaN</td>\n",
       "      <td>NaN</td>\n",
       "      <td>NaN</td>\n",
       "      <td>NaN</td>\n",
       "      <td>NaN</td>\n",
       "      <td>NaN</td>\n",
       "      <td>NaN</td>\n",
       "      <td>Current</td>\n",
       "    </tr>\n",
       "  </tbody>\n",
       "</table>\n",
       "</div>"
      ],
      "text/plain": [
       "   ProductKey ProductItemCode           Product Name Sub Category  \\\n",
       "0           1         AR-5381        Adjustable Race          NaN   \n",
       "1           2         BA-8327           Bearing Ball          NaN   \n",
       "2           3         BE-2349        BB Ball Bearing          NaN   \n",
       "3           4         BE-2908  Headset Ball Bearings          NaN   \n",
       "4           5         BL-2036                  Blade          NaN   \n",
       "\n",
       "  Product Category StandardCost Product Color Product Size Product Line  \\\n",
       "0              NaN          NaN           NaN          NaN          NaN   \n",
       "1              NaN          NaN           NaN          NaN          NaN   \n",
       "2              NaN          NaN           NaN          NaN          NaN   \n",
       "3              NaN          NaN           NaN          NaN          NaN   \n",
       "4              NaN          NaN           NaN          NaN          NaN   \n",
       "\n",
       "  Model Name Product Description Product Description DE Product Status  \n",
       "0        NaN                 NaN                    NaN        Current  \n",
       "1        NaN                 NaN                    NaN        Current  \n",
       "2        NaN                 NaN                    NaN        Current  \n",
       "3        NaN                 NaN                    NaN        Current  \n",
       "4        NaN                 NaN                    NaN        Current  "
      ]
     },
     "metadata": {},
     "output_type": "display_data"
    },
    {
     "name": "stdout",
     "output_type": "stream",
     "text": [
      "<class 'pandas.core.frame.DataFrame'>\n",
      "RangeIndex: 606 entries, 0 to 605\n",
      "Data columns (total 13 columns):\n",
      " #   Column                  Non-Null Count  Dtype \n",
      "---  ------                  --------------  ----- \n",
      " 0   ProductKey              606 non-null    int64 \n",
      " 1   ProductItemCode         606 non-null    object\n",
      " 2   Product Name            606 non-null    object\n",
      " 3   Sub Category            397 non-null    object\n",
      " 4   Product Category        397 non-null    object\n",
      " 5   StandardCost            395 non-null    object\n",
      " 6   Product Color           352 non-null    object\n",
      " 7   Product Size            299 non-null    object\n",
      " 8   Product Line            380 non-null    object\n",
      " 9   Model Name              397 non-null    object\n",
      " 10  Product Description     396 non-null    object\n",
      " 11  Product Description DE  396 non-null    object\n",
      " 12  Product Status          606 non-null    object\n",
      "dtypes: int64(1), object(12)\n",
      "memory usage: 61.7+ KB\n"
     ]
    },
    {
     "data": {
      "text/plain": [
       "None"
      ]
     },
     "metadata": {},
     "output_type": "display_data"
    }
   ],
   "source": [
    "df_check(products)"
   ]
  },
  {
   "cell_type": "markdown",
   "metadata": {},
   "source": [
    "Сразу замечаем отсутствие данных в датасете products. В дальнейшем попробуем разобраться, возможно ли восстановление или нам придется удалить строки с наличием пустых значений."
   ]
  },
  {
   "cell_type": "markdown",
   "metadata": {},
   "source": [
    "<a id='analysis'></a>\n",
    "# Анализ данных"
   ]
  },
  {
   "cell_type": "markdown",
   "metadata": {},
   "source": [
    "<a id='customers'></a>\n",
    "## customers"
   ]
  },
  {
   "cell_type": "code",
   "execution_count": 215,
   "metadata": {},
   "outputs": [
    {
     "name": "stdout",
     "output_type": "stream",
     "text": [
      "Кол-во строк: 18484\n",
      "Кол-во уникальных CustomerKey: 18484\n"
     ]
    }
   ],
   "source": [
    "print('Кол-во строк:', len(customers['CustomerKey']))\n",
    "print('Кол-во уникальных CustomerKey:', len(customers['CustomerKey'].unique())) "
   ]
  },
  {
   "cell_type": "markdown",
   "metadata": {},
   "source": [
    "Все ключи являются уникальными, а значит дублей среди индентификаторов не найдено."
   ]
  },
  {
   "cell_type": "code",
   "execution_count": 216,
   "metadata": {},
   "outputs": [
    {
     "data": {
      "text/plain": [
       "<Axes: >"
      ]
     },
     "execution_count": 216,
     "metadata": {},
     "output_type": "execute_result"
    },
    {
     "data": {
      "image/png": "[encoded data removed]",
      "text/plain": [
       "<Figure size 640x480 with 1 Axes>"
      ]
     },
     "metadata": {},
     "output_type": "display_data"
    }
   ],
   "source": [
    "customers['City'].value_counts().head(10).sort_values().plot(kind='barh')"
   ]
  },
  {
   "cell_type": "markdown",
   "metadata": {},
   "source": [
    "Посмотрим на распределение по половому признаку клиентов."
   ]
  },
  {
   "cell_type": "code",
   "execution_count": 257,
   "metadata": {},
   "outputs": [
    {
     "data": {
      "text/html": [
       "<div>\n",
       "<style scoped>\n",
       "    .dataframe tbody tr th:only-of-type {\n",
       "        vertical-align: middle;\n",
       "    }\n",
       "\n",
       "    .dataframe tbody tr th {\n",
       "        vertical-align: top;\n",
       "    }\n",
       "\n",
       "    .dataframe thead th {\n",
       "        text-align: right;\n",
       "    }\n",
       "</style>\n",
       "<table border=\"1\" class=\"dataframe\">\n",
       "  <thead>\n",
       "    <tr style=\"text-align: right;\">\n",
       "      <th></th>\n",
       "      <th>Gender</th>\n",
       "    </tr>\n",
       "  </thead>\n",
       "  <tbody>\n",
       "    <tr>\n",
       "      <th>Male</th>\n",
       "      <td>54975</td>\n",
       "    </tr>\n",
       "    <tr>\n",
       "      <th>Female</th>\n",
       "      <td>53903</td>\n",
       "    </tr>\n",
       "  </tbody>\n",
       "</table>\n",
       "</div>"
      ],
      "text/plain": [
       "        Gender\n",
       "Male     54975\n",
       "Female   53903"
      ]
     },
     "metadata": {},
     "output_type": "display_data"
    },
    {
     "name": "stdout",
     "output_type": "stream",
     "text": [
      "['Female' 'Male']\n"
     ]
    },
    {
     "data": {
      "text/plain": [
       "<Axes: >"
      ]
     },
     "execution_count": 257,
     "metadata": {},
     "output_type": "execute_result"
    },
    {
     "data": {
      "image/png": "[encoded data removed]",
      "text/plain": [
       "<Figure size 640x480 with 1 Axes>"
      ]
     },
     "metadata": {},
     "output_type": "display_data"
    }
   ],
   "source": [
    "object_check(df['Gender'])\n",
    "df['Gender'].hist()"
   ]
  },
  {
   "cell_type": "markdown",
   "metadata": {},
   "source": [
    "Кол-во клиентов в разрезе городов."
   ]
  },
  {
   "cell_type": "code",
   "execution_count": 217,
   "metadata": {},
   "outputs": [
    {
     "data": {
      "text/plain": [
       "3           North Ryde\n",
       "3501     Beverly Hills\n",
       "10768        Metchosin\n",
       "14863          Lebanon\n",
       "17389           Pantin\n",
       "Name: City, dtype: object"
      ]
     },
     "execution_count": 217,
     "metadata": {},
     "output_type": "execute_result"
    }
   ],
   "source": [
    "customers['City'][customers['DateFirstPurchase'] == min(customers['DateFirstPurchase'])]"
   ]
  },
  {
   "cell_type": "markdown",
   "metadata": {},
   "source": [
    "Города, в которых были сделаны первые заказы."
   ]
  },
  {
   "cell_type": "markdown",
   "metadata": {},
   "source": [
    "Преобразуем возрастные показатели, сгруппировав клиентов по возрастным группам. Сначала узнаем минимальный и максимальный возраста клиентов."
   ]
  },
  {
   "cell_type": "code",
   "execution_count": 218,
   "metadata": {},
   "outputs": [
    {
     "name": "stdout",
     "output_type": "stream",
     "text": [
      "Минимальный возраст: 32\n",
      "Максимальный возраст: 104\n"
     ]
    }
   ],
   "source": [
    "print('Минимальный возраст:',customers['AgeOfCustomer'].min())\n",
    "print('Максимальный возраст:',customers['AgeOfCustomer'].max())"
   ]
  },
  {
   "cell_type": "code",
   "execution_count": 219,
   "metadata": {},
   "outputs": [
    {
     "name": "stdout",
     "output_type": "stream",
     "text": [
      "Кол-во клиентов в возрастной группе 30 - 40: 3328. Что составляет 18%.\n",
      "Кол-во клиентов в возрастной группе 40 - 50: 6409. Что составляет 35%.\n",
      "Кол-во клиентов в возрастной группе 50 - 60: 4589. Что составляет 25%.\n",
      "Кол-во клиентов в возрастной группе 60 - 80: 3929. Что составляет 21%.\n",
      "Кол-во клиентов в возрастной группе 80 - 100: 221. Что составляет 1%.\n",
      "Кол-во клиентов в возрастной группе over 100: 8. Что составляет 0%.\n"
     ]
    }
   ],
   "source": [
    "customers['AgeGroups'] = customers['AgeOfCustomer'\n",
    "                                  ].apply(lambda x: 'over 100' if x > 100 else (\n",
    "                                                    '80 - 100' if (x <= 100) & (x >= 80) else (\n",
    "                                                    '60 - 80' if (x <= 79) & (x >= 60) else (\n",
    "                                                    '50 - 60' if (x <= 59) & (x >= 50) else (\n",
    "                                                    '40 - 50' if (x <= 49) & (x >= 40) else (\n",
    "                                                    '30 - 40' if (x <= 39) & (x >= 30) else 'under 20'))))))\n",
    "\n",
    "temp_df = pd.DataFrame(customers.groupby('AgeGroups')['CustomerKey'].count()).T\n",
    "\n",
    "for col in sorted(temp_df.columns):\n",
    "    temp_percentage = round(int(temp_df[col][0]) / len(customers['AgeGroups'])*100)\n",
    "    print(f'Кол-во клиентов в возрастной группе {col}: {temp_df[col][0]}. Что составляет {temp_percentage}%.')"
   ]
  },
  {
   "cell_type": "code",
   "execution_count": 220,
   "metadata": {
    "scrolled": false
   },
   "outputs": [
    {
     "data": {
      "image/png": "[encoded data removed]",
      "text/plain": [
       "<Figure size 1000x500 with 1 Axes>"
      ]
     },
     "metadata": {},
     "output_type": "display_data"
    }
   ],
   "source": [
    "#customers.groupby('Gender')['AgeOfCustomer'].plot(kind='kde')\n",
    "#customers['AgeOfCustomer'].hist()\n",
    "legend = ['Male', 'Female']\n",
    "fig, axs = plt.subplots(1, 1,\n",
    "                        figsize =(10, 5),\n",
    "                        tight_layout = True)\n",
    "\n",
    "for s in ['top', 'bottom', 'left', 'right']:\n",
    "    axs.spines[s].set_visible(False)\n",
    "    \n",
    "#axs.xaxis.set_ticks_position('none')\n",
    "#axs.yaxis.set_ticks_position('none')\n",
    "\n",
    "axs.xaxis.set_tick_params(pad = 5)\n",
    "axs.yaxis.set_tick_params(pad = 10)\n",
    "\n",
    "axs.grid(color ='grey',\n",
    "        linestyle ='-.', linewidth = 0.5,\n",
    "        alpha = 0.6)\n",
    "\n",
    "#N, bins, patches = axs.hist(customers['AgeOfCustomer'], bins = 30, histtype='bar', ec='lightblue')\n",
    "axs.hist([customers['AgeOfCustomer'][customers['Gender'] == 'Male'],\n",
    "          customers['AgeOfCustomer'][customers['Gender'] == 'Female']],\n",
    "         bins = 30, \n",
    "         histtype='bar', \n",
    "         ec='lightblue')\n",
    "#axs.hist(customers['AgeOfCustomer'][customers['Gender'] == 'Female'], bins = 30, histtype='bar', ec='lightblue')\n",
    "\n",
    "plt.xlabel(\"Возраст клиентов\")\n",
    "plt.legend(legend)\n",
    "plt.title('Распределение возраста с разделением на пол')\n",
    " \n",
    "# Show plot\n",
    "plt.show()"
   ]
  },
  {
   "cell_type": "code",
   "execution_count": 221,
   "metadata": {},
   "outputs": [
    {
     "data": {
      "text/plain": [
       "Index([], dtype='object')"
      ]
     },
     "execution_count": 221,
     "metadata": {},
     "output_type": "execute_result"
    }
   ],
   "source": [
    "# Проверяем датасет на наличие пустых значений\n",
    "customers.columns[customers.isnull().any()]"
   ]
  },
  {
   "cell_type": "markdown",
   "metadata": {},
   "source": [
    "Отсавим все столбцы для дальнейшего объединения."
   ]
  },
  {
   "cell_type": "code",
   "execution_count": 222,
   "metadata": {},
   "outputs": [],
   "source": [
    "# Избавляемся ненужных столбцов\n",
    "\n",
    "# -- FirstName\n",
    "# -- LastName\n",
    "\n",
    "# так как мы заранее создали столбец возраста \n",
    "# в SQL, удалим следующие столбцы:\n",
    "\n",
    "# -- BirthDate\n",
    "# -- DateFirstPurchase\n",
    "\n",
    "#customers = customers.drop(['FirstName', 'LastName', 'BirthDate', 'DateFirstPurchase'], axis = 1)"
   ]
  },
  {
   "cell_type": "markdown",
   "metadata": {},
   "source": [
    "<a id='sales'></a>\n",
    "## sales"
   ]
  },
  {
   "cell_type": "code",
   "execution_count": 223,
   "metadata": {},
   "outputs": [
    {
     "data": {
      "text/plain": [
       "Index([], dtype='object')"
      ]
     },
     "execution_count": 223,
     "metadata": {},
     "output_type": "execute_result"
    }
   ],
   "source": [
    "# Проверяем датасет на наличие пустых значений\n",
    "sales.columns[sales.isnull().any()]"
   ]
  },
  {
   "cell_type": "code",
   "execution_count": 224,
   "metadata": {},
   "outputs": [],
   "source": [
    "# Избавляемся от ненужных столбцов:\n",
    "# -- OrderDateKey\n",
    "# -- DueDateKey\n",
    "# -- ShipDateKey\n",
    "# -- SalesOrderNumber\n",
    "\n",
    "#sales = sales.drop(['DueDateKey', 'ShipDateKey', 'SalesOrderNumber'], axis = 1)"
   ]
  },
  {
   "cell_type": "markdown",
   "metadata": {},
   "source": [
    "Поемняем тип данных у столбца SalesAmount."
   ]
  },
  {
   "cell_type": "code",
   "execution_count": 225,
   "metadata": {},
   "outputs": [],
   "source": [
    "sales['SalesAmount'] = pd.to_numeric(sales['SalesAmount'].str.replace(\",\", \".\"))"
   ]
  },
  {
   "cell_type": "markdown",
   "metadata": {},
   "source": [
    "<a id='products'></a>\n",
    "## products"
   ]
  },
  {
   "cell_type": "code",
   "execution_count": 226,
   "metadata": {},
   "outputs": [
    {
     "data": {
      "text/plain": [
       "Index(['Sub Category', 'Product Category', 'StandardCost', 'Product Color',\n",
       "       'Product Size', 'Product Line', 'Model Name', 'Product Description',\n",
       "       'Product Description DE'],\n",
       "      dtype='object')"
      ]
     },
     "execution_count": 226,
     "metadata": {},
     "output_type": "execute_result"
    }
   ],
   "source": [
    "# Проверяем столбцы, в которых пустые значения\n",
    "\n",
    "products.columns[products.isnull().any()]"
   ]
  },
  {
   "cell_type": "code",
   "execution_count": 227,
   "metadata": {},
   "outputs": [
    {
     "name": "stdout",
     "output_type": "stream",
     "text": [
      "В столбце Sub Category отсутствует 34% информации.\n",
      "В столбце Product Category отсутствует 34% информации.\n",
      "В столбце StandardCost отсутствует 35% информации.\n",
      "В столбце Product Color отсутствует 42% информации.\n",
      "В столбце Product Size отсутствует 51% информации.\n",
      "В столбце Product Line отсутствует 37% информации.\n",
      "В столбце Model Name отсутствует 34% информации.\n",
      "В столбце Product Description отсутствует 35% информации.\n",
      "В столбце Product Description DE отсутствует 35% информации.\n"
     ]
    },
    {
     "data": {
      "image/png": "[encoded data removed]",
      "text/plain": [
       "<Figure size 1000x500 with 1 Axes>"
      ]
     },
     "metadata": {},
     "output_type": "display_data"
    }
   ],
   "source": [
    "# Проверяем процент пустых значений\n",
    "for col in products.columns[products.isna().sum() != 0]:\n",
    "    procent_check(col, products)\n",
    "\n",
    "fig, axes = plt.subplots(1,1, figsize=(10, 5))\n",
    "sns.heatmap(products.isna(), ax=axes,\n",
    "                    cbar = False)\n",
    "axes.set_title(f'Кол-во пустых значений в датасете Product',\n",
    "                          size=15)\n",
    "plt.subplots_adjust(hspace=1);"
   ]
  },
  {
   "cell_type": "markdown",
   "metadata": {},
   "source": [
    "Проверим минимальный и максимальный номера товаров."
   ]
  },
  {
   "cell_type": "code",
   "execution_count": 228,
   "metadata": {},
   "outputs": [
    {
     "name": "stdout",
     "output_type": "stream",
     "text": [
      "Минимальный ProductKey в sales: 214. В products: 1\n",
      "Максимальный ProductKey в sales: 606. В products: 606\n"
     ]
    }
   ],
   "source": [
    "print(f'Минимальный ProductKey в sales: {sales.ProductKey.min()}. В products: {products.ProductKey.min()}')\n",
    "print(f'Максимальный ProductKey в sales: {sales.ProductKey.max()}. В products: {products.ProductKey.max()}')"
   ]
  },
  {
   "cell_type": "markdown",
   "metadata": {},
   "source": [
    "Кол-во уникальных ключей в sales."
   ]
  },
  {
   "cell_type": "code",
   "execution_count": 229,
   "metadata": {},
   "outputs": [
    {
     "data": {
      "text/plain": [
       "133"
      ]
     },
     "execution_count": 229,
     "metadata": {},
     "output_type": "execute_result"
    }
   ],
   "source": [
    "len(sales.ProductKey.unique())"
   ]
  },
  {
   "cell_type": "markdown",
   "metadata": {},
   "source": [
    "Проверим какие товары (ProductKey) имеют пустые значения."
   ]
  },
  {
   "cell_type": "code",
   "execution_count": 230,
   "metadata": {},
   "outputs": [
    {
     "data": {
      "text/plain": [
       "array([  1,   2,   3,   4,   5,   6,   7,   8,   9,  10,  11,  12,  13,\n",
       "        14,  15,  16,  17,  18,  19,  20,  21,  22,  23,  24,  25,  26,\n",
       "        27,  28,  29,  30,  31,  32,  33,  34,  35,  36,  37,  38,  39,\n",
       "        40,  41,  42,  43,  44,  45,  46,  47,  48,  49,  50,  51,  52,\n",
       "        53,  54,  55,  56,  57,  58,  59,  60,  61,  62,  63,  64,  65,\n",
       "        66,  67,  68,  69,  70,  71,  72,  73,  74,  75,  76,  77,  78,\n",
       "        79,  80,  81,  82,  83,  84,  85,  86,  87,  88,  89,  90,  91,\n",
       "        92,  93,  94,  95,  96,  97,  98,  99, 100, 101, 102, 103, 104,\n",
       "       105, 106, 107, 108, 109, 110, 111, 112, 113, 114, 115, 116, 117,\n",
       "       118, 119, 120, 121, 122, 123, 124, 125, 126, 127, 128, 129, 130,\n",
       "       131, 132, 133, 134, 135, 136, 137, 138, 139, 140, 141, 142, 143,\n",
       "       144, 145, 146, 147, 148, 149, 150, 151, 152, 153, 154, 155, 156,\n",
       "       157, 158, 159, 160, 161, 162, 163, 164, 165, 166, 167, 168, 169,\n",
       "       170, 171, 172, 173, 174, 175, 176, 177, 178, 179, 180, 181, 182,\n",
       "       183, 184, 185, 186, 187, 188, 189, 190, 191, 192, 193, 194, 195,\n",
       "       196, 197, 198, 199, 200, 201, 202, 203, 204, 205, 206, 207, 208,\n",
       "       209, 210, 211], dtype=int64)"
      ]
     },
     "execution_count": 230,
     "metadata": {},
     "output_type": "execute_result"
    }
   ],
   "source": [
    "products['ProductKey'][products['StandardCost'].isna()].unique()"
   ]
  },
  {
   "cell_type": "code",
   "execution_count": 231,
   "metadata": {},
   "outputs": [],
   "source": [
    "# Удаление невостребованных товаров.\n",
    "#products.dropna(subset=['StandardCost'], inplace = True)"
   ]
  },
  {
   "cell_type": "code",
   "execution_count": 232,
   "metadata": {},
   "outputs": [],
   "source": [
    "# Столбец -- StandardCost хранит в себе данные о стоимости товара\n",
    "# Необходимо поменять тип этих данных и найти решение на замену \n",
    "# пустых показателей\n",
    "\n",
    "#products[\"StandardCost\"] = pd.to_numeric(products[\"StandardCost\"].str.replace(',','.'))"
   ]
  },
  {
   "cell_type": "markdown",
   "metadata": {},
   "source": [
    "Проверка наличия схожих товаров. При обнаружении удастся заполнить пустые значения."
   ]
  },
  {
   "cell_type": "code",
   "execution_count": 233,
   "metadata": {},
   "outputs": [
    {
     "data": {
      "text/plain": [
       "StandardCost  ProductItemCode\n",
       "True          AR-5381            1\n",
       "              LN-5818            1\n",
       "              LN-6320            1\n",
       "              LN-7161            1\n",
       "              LN-7162            1\n",
       "                                ..\n",
       "              HN-7162            1\n",
       "              HN-8320            1\n",
       "              HN-9161            1\n",
       "              HJ-7162            1\n",
       "              TP-0923            1\n",
       "Name: ProductItemCode, Length: 211, dtype: int64"
      ]
     },
     "execution_count": 233,
     "metadata": {},
     "output_type": "execute_result"
    }
   ],
   "source": [
    "search_for_null = products[products[\"StandardCost\"].isna()]\n",
    "\n",
    "search_for_null = search_for_null.groupby(products[\"StandardCost\"].isna(), sort = True\n",
    "                                         )['ProductItemCode'].value_counts().sort_values()\n",
    "search_for_null"
   ]
  },
  {
   "cell_type": "markdown",
   "metadata": {},
   "source": [
    "Так как не удалось восстановить данные, мы избавляемся от пустых значений."
   ]
  },
  {
   "cell_type": "code",
   "execution_count": 234,
   "metadata": {},
   "outputs": [],
   "source": [
    "products = products[products['StandardCost'].notna()]"
   ]
  },
  {
   "cell_type": "markdown",
   "metadata": {},
   "source": [
    "#### [В начало](#begin)"
   ]
  },
  {
   "cell_type": "markdown",
   "metadata": {},
   "source": [
    "<a id='merge'></a>\n",
    "# Объединение датасетов"
   ]
  },
  {
   "cell_type": "code",
   "execution_count": 235,
   "metadata": {},
   "outputs": [
    {
     "data": {
      "text/plain": [
       "Index(['CustomerKey', 'FirstName', 'LastName', 'Full Name', 'BirthDate',\n",
       "       'AgeOfCustomer', 'Gender', 'DateFirstPurchase', 'City', 'Region Code',\n",
       "       'State Code', 'AgeGroups', 'GeographyKey', 'StateProvinceCode',\n",
       "       'StateProvinceName', 'CountryRegionCode', 'EnglishCountryRegionName',\n",
       "       'SpanishCountryRegionName', 'FrenchCountryRegionName', 'PostalCode',\n",
       "       'SalesTerritoryKey', 'IpAddressLocator'],\n",
       "      dtype='object')"
      ]
     },
     "execution_count": 235,
     "metadata": {},
     "output_type": "execute_result"
    }
   ],
   "source": [
    "users = pd.merge(customers, countries, on = 'City', how = 'left')\n",
    "users.columns"
   ]
  },
  {
   "cell_type": "code",
   "execution_count": 236,
   "metadata": {},
   "outputs": [
    {
     "data": {
      "text/html": [
       "<div>\n",
       "<style scoped>\n",
       "    .dataframe tbody tr th:only-of-type {\n",
       "        vertical-align: middle;\n",
       "    }\n",
       "\n",
       "    .dataframe tbody tr th {\n",
       "        vertical-align: top;\n",
       "    }\n",
       "\n",
       "    .dataframe thead th {\n",
       "        text-align: right;\n",
       "    }\n",
       "</style>\n",
       "<table border=\"1\" class=\"dataframe\">\n",
       "  <thead>\n",
       "    <tr style=\"text-align: right;\">\n",
       "      <th></th>\n",
       "      <th>CustomerKey</th>\n",
       "    </tr>\n",
       "    <tr>\n",
       "      <th>EnglishCountryRegionName</th>\n",
       "      <th></th>\n",
       "    </tr>\n",
       "  </thead>\n",
       "  <tbody>\n",
       "    <tr>\n",
       "      <th>United States</th>\n",
       "      <td>8139</td>\n",
       "    </tr>\n",
       "    <tr>\n",
       "      <th>United Kingdom</th>\n",
       "      <td>7834</td>\n",
       "    </tr>\n",
       "    <tr>\n",
       "      <th>France</th>\n",
       "      <td>6562</td>\n",
       "    </tr>\n",
       "    <tr>\n",
       "      <th>Germany</th>\n",
       "      <td>5150</td>\n",
       "    </tr>\n",
       "    <tr>\n",
       "      <th>Australia</th>\n",
       "      <td>3591</td>\n",
       "    </tr>\n",
       "    <tr>\n",
       "      <th>Canada</th>\n",
       "      <td>2382</td>\n",
       "    </tr>\n",
       "  </tbody>\n",
       "</table>\n",
       "</div>"
      ],
      "text/plain": [
       "                          CustomerKey\n",
       "EnglishCountryRegionName             \n",
       "United States                    8139\n",
       "United Kingdom                   7834\n",
       "France                           6562\n",
       "Germany                          5150\n",
       "Australia                        3591\n",
       "Canada                           2382"
      ]
     },
     "metadata": {},
     "output_type": "display_data"
    },
    {
     "data": {
      "text/plain": [
       "<Axes: ylabel='EnglishCountryRegionName'>"
      ]
     },
     "execution_count": 236,
     "metadata": {},
     "output_type": "execute_result"
    },
    {
     "data": {
      "image/png": "[encoded data removed]",
      "text/plain": [
       "<Figure size 640x480 with 1 Axes>"
      ]
     },
     "metadata": {},
     "output_type": "display_data"
    }
   ],
   "source": [
    "users = pd.merge(customers, countries, on = 'City', how = 'left')\n",
    "\n",
    "# Проверяем кол-во клиентов в разрезе стран\n",
    "display(pd.DataFrame(users.groupby(['EnglishCountryRegionName'])['CustomerKey'].count().sort_values(ascending = False)))\n",
    "users.groupby(['EnglishCountryRegionName'])['CustomerKey'].count().sort_values(ascending = False\n",
    "                                                                              ).head(10).sort_values().plot(kind='barh')"
   ]
  },
  {
   "cell_type": "code",
   "execution_count": 237,
   "metadata": {},
   "outputs": [
    {
     "data": {
      "text/plain": [
       "<Axes: ylabel='Product Category,Product Name'>"
      ]
     },
     "execution_count": 237,
     "metadata": {},
     "output_type": "execute_result"
    },
    {
     "data": {
      "image/png": "[encoded data removed]",
      "text/plain": [
       "<Figure size 640x480 with 1 Axes>"
      ]
     },
     "metadata": {},
     "output_type": "display_data"
    }
   ],
   "source": [
    "online_sales = pd.merge(sales, products, on = 'ProductKey', how = 'left')\n",
    "\n",
    "# Проверяем самые популярные товары по категориям\n",
    "online_sales.groupby(['Product Category', 'Product Name']\n",
    "                    )['CustomerKey'].count().sort_values(ascending = False\n",
    "                                                        ).head(10).sort_values().plot(kind='barh')"
   ]
  },
  {
   "cell_type": "code",
   "execution_count": 238,
   "metadata": {},
   "outputs": [
    {
     "data": {
      "text/plain": [
       "Product Category  Product Name         \n",
       "Accessories       LL Mountain Tire         9,3463\n",
       "                  ML Road Tire             9,3463\n",
       "Clothing          Half-Finger Gloves, S    9,1593\n",
       "                  Half-Finger Gloves, M    9,1593\n",
       "                  Half-Finger Gloves, L    9,1593\n",
       "                                            ...  \n",
       "Accessories       Mountain Tire Tube       1,8663\n",
       "                  Water Bottle - 30 oz.    1,8663\n",
       "                  Touring Tire Tube        1,8663\n",
       "                  Road Tire Tube           1,4923\n",
       "                  Patch Kit/8 Patches      0,8565\n",
       "Name: StandardCost, Length: 117, dtype: object"
      ]
     },
     "execution_count": 238,
     "metadata": {},
     "output_type": "execute_result"
    }
   ],
   "source": [
    "# Проверим самый дорогой сегмент по категориям товаров\n",
    "online_sales.groupby(['Product Category', 'Product Name'])['StandardCost'].max().sort_values(ascending = False)"
   ]
  },
  {
   "cell_type": "code",
   "execution_count": 244,
   "metadata": {},
   "outputs": [],
   "source": [
    "# Rename column\n",
    "calendar = calendar.rename(columns = {'DateKey':'OrderDateKey'})\n",
    "\n",
    "# ONLINE SALES + Calendar\n",
    "full_sales = pd.merge(online_sales, calendar, on = 'OrderDateKey', how = 'left')\n",
    "\n",
    "# FULL SALES + users\n",
    "df = pd.merge(full_sales, users, on = 'CustomerKey', how = 'left')"
   ]
  },
  {
   "cell_type": "markdown",
   "metadata": {},
   "source": [
    "Проверим полученный датасет."
   ]
  },
  {
   "cell_type": "code",
   "execution_count": 245,
   "metadata": {
    "scrolled": true
   },
   "outputs": [
    {
     "data": {
      "text/html": [
       "<div>\n",
       "<style scoped>\n",
       "    .dataframe tbody tr th:only-of-type {\n",
       "        vertical-align: middle;\n",
       "    }\n",
       "\n",
       "    .dataframe tbody tr th {\n",
       "        vertical-align: top;\n",
       "    }\n",
       "\n",
       "    .dataframe thead th {\n",
       "        text-align: right;\n",
       "    }\n",
       "</style>\n",
       "<table border=\"1\" class=\"dataframe\">\n",
       "  <thead>\n",
       "    <tr style=\"text-align: right;\">\n",
       "      <th></th>\n",
       "      <th>ProductKey</th>\n",
       "      <th>OrderDateKey</th>\n",
       "      <th>DueDateKey</th>\n",
       "      <th>ShipDateKey</th>\n",
       "      <th>CustomerKey</th>\n",
       "      <th>SalesOrderNumber</th>\n",
       "      <th>SalesAmount</th>\n",
       "      <th>ProductItemCode</th>\n",
       "      <th>Product Name</th>\n",
       "      <th>Sub Category</th>\n",
       "      <th>...</th>\n",
       "      <th>GeographyKey</th>\n",
       "      <th>StateProvinceCode</th>\n",
       "      <th>StateProvinceName</th>\n",
       "      <th>CountryRegionCode</th>\n",
       "      <th>EnglishCountryRegionName</th>\n",
       "      <th>SpanishCountryRegionName</th>\n",
       "      <th>FrenchCountryRegionName</th>\n",
       "      <th>PostalCode</th>\n",
       "      <th>SalesTerritoryKey</th>\n",
       "      <th>IpAddressLocator</th>\n",
       "    </tr>\n",
       "  </thead>\n",
       "  <tbody>\n",
       "    <tr>\n",
       "      <th>0</th>\n",
       "      <td>381</td>\n",
       "      <td>20190101</td>\n",
       "      <td>20190113</td>\n",
       "      <td>20190108</td>\n",
       "      <td>16942</td>\n",
       "      <td>SO46700</td>\n",
       "      <td>1000.4375</td>\n",
       "      <td>BK-R64Y-38</td>\n",
       "      <td>Road-550-W Yellow, 38</td>\n",
       "      <td>Road Bikes</td>\n",
       "      <td>...</td>\n",
       "      <td>220</td>\n",
       "      <td>93</td>\n",
       "      <td>Seine Saint Denis</td>\n",
       "      <td>FR</td>\n",
       "      <td>France</td>\n",
       "      <td>Francia</td>\n",
       "      <td>France</td>\n",
       "      <td>93000</td>\n",
       "      <td>7</td>\n",
       "      <td>198.51.100.221</td>\n",
       "    </tr>\n",
       "    <tr>\n",
       "      <th>1</th>\n",
       "      <td>375</td>\n",
       "      <td>20190101</td>\n",
       "      <td>20190113</td>\n",
       "      <td>20190108</td>\n",
       "      <td>15114</td>\n",
       "      <td>SO46701</td>\n",
       "      <td>2181.5625</td>\n",
       "      <td>BK-R89B-48</td>\n",
       "      <td>Road-250 Black, 48</td>\n",
       "      <td>Road Bikes</td>\n",
       "      <td>...</td>\n",
       "      <td>176</td>\n",
       "      <td>SL</td>\n",
       "      <td>Saarland</td>\n",
       "      <td>DE</td>\n",
       "      <td>Germany</td>\n",
       "      <td>Alemania</td>\n",
       "      <td>Allemagne</td>\n",
       "      <td>70452</td>\n",
       "      <td>8</td>\n",
       "      <td>198.51.100.177</td>\n",
       "    </tr>\n",
       "    <tr>\n",
       "      <th>2</th>\n",
       "      <td>375</td>\n",
       "      <td>20190101</td>\n",
       "      <td>20190113</td>\n",
       "      <td>20190108</td>\n",
       "      <td>15114</td>\n",
       "      <td>SO46701</td>\n",
       "      <td>2181.5625</td>\n",
       "      <td>BK-R89B-48</td>\n",
       "      <td>Road-250 Black, 48</td>\n",
       "      <td>Road Bikes</td>\n",
       "      <td>...</td>\n",
       "      <td>177</td>\n",
       "      <td>SL</td>\n",
       "      <td>Saarland</td>\n",
       "      <td>DE</td>\n",
       "      <td>Germany</td>\n",
       "      <td>Alemania</td>\n",
       "      <td>Allemagne</td>\n",
       "      <td>70511</td>\n",
       "      <td>8</td>\n",
       "      <td>198.51.100.178</td>\n",
       "    </tr>\n",
       "    <tr>\n",
       "      <th>3</th>\n",
       "      <td>369</td>\n",
       "      <td>20190101</td>\n",
       "      <td>20190113</td>\n",
       "      <td>20190108</td>\n",
       "      <td>15116</td>\n",
       "      <td>SO46702</td>\n",
       "      <td>2443.3500</td>\n",
       "      <td>BK-R89R-48</td>\n",
       "      <td>Road-250 Red, 48</td>\n",
       "      <td>Road Bikes</td>\n",
       "      <td>...</td>\n",
       "      <td>133</td>\n",
       "      <td>HE</td>\n",
       "      <td>Hessen</td>\n",
       "      <td>DE</td>\n",
       "      <td>Germany</td>\n",
       "      <td>Alemania</td>\n",
       "      <td>Allemagne</td>\n",
       "      <td>34117</td>\n",
       "      <td>8</td>\n",
       "      <td>198.51.100.134</td>\n",
       "    </tr>\n",
       "    <tr>\n",
       "      <th>4</th>\n",
       "      <td>337</td>\n",
       "      <td>20190101</td>\n",
       "      <td>20190113</td>\n",
       "      <td>20190108</td>\n",
       "      <td>20576</td>\n",
       "      <td>SO46703</td>\n",
       "      <td>782.9900</td>\n",
       "      <td>BK-R50B-62</td>\n",
       "      <td>Road-650 Black, 62</td>\n",
       "      <td>Road Bikes</td>\n",
       "      <td>...</td>\n",
       "      <td>244</td>\n",
       "      <td>ENG</td>\n",
       "      <td>England</td>\n",
       "      <td>GB</td>\n",
       "      <td>United Kingdom</td>\n",
       "      <td>Reino Unido</td>\n",
       "      <td>Royaume-Uni</td>\n",
       "      <td>C2H 7AU</td>\n",
       "      <td>10</td>\n",
       "      <td>198.51.100.245</td>\n",
       "    </tr>\n",
       "  </tbody>\n",
       "</table>\n",
       "<p>5 rows × 47 columns</p>\n",
       "</div>"
      ],
      "text/plain": [
       "   ProductKey  OrderDateKey  DueDateKey  ShipDateKey  CustomerKey  \\\n",
       "0         381      20190101    20190113     20190108        16942   \n",
       "1         375      20190101    20190113     20190108        15114   \n",
       "2         375      20190101    20190113     20190108        15114   \n",
       "3         369      20190101    20190113     20190108        15116   \n",
       "4         337      20190101    20190113     20190108        20576   \n",
       "\n",
       "  SalesOrderNumber  SalesAmount ProductItemCode           Product Name  \\\n",
       "0          SO46700    1000.4375      BK-R64Y-38  Road-550-W Yellow, 38   \n",
       "1          SO46701    2181.5625      BK-R89B-48     Road-250 Black, 48   \n",
       "2          SO46701    2181.5625      BK-R89B-48     Road-250 Black, 48   \n",
       "3          SO46702    2443.3500      BK-R89R-48       Road-250 Red, 48   \n",
       "4          SO46703     782.9900      BK-R50B-62     Road-650 Black, 62   \n",
       "\n",
       "  Sub Category  ... GeographyKey StateProvinceCode  StateProvinceName  \\\n",
       "0   Road Bikes  ...          220                93  Seine Saint Denis   \n",
       "1   Road Bikes  ...          176                SL           Saarland   \n",
       "2   Road Bikes  ...          177                SL           Saarland   \n",
       "3   Road Bikes  ...          133                HE             Hessen   \n",
       "4   Road Bikes  ...          244               ENG            England   \n",
       "\n",
       "  CountryRegionCode EnglishCountryRegionName SpanishCountryRegionName  \\\n",
       "0                FR                   France                  Francia   \n",
       "1                DE                  Germany                 Alemania   \n",
       "2                DE                  Germany                 Alemania   \n",
       "3                DE                  Germany                 Alemania   \n",
       "4                GB           United Kingdom              Reino Unido   \n",
       "\n",
       "  FrenchCountryRegionName PostalCode SalesTerritoryKey IpAddressLocator  \n",
       "0                  France      93000                 7   198.51.100.221  \n",
       "1               Allemagne      70452                 8   198.51.100.177  \n",
       "2               Allemagne      70511                 8   198.51.100.178  \n",
       "3               Allemagne      34117                 8   198.51.100.134  \n",
       "4             Royaume-Uni    C2H 7AU                10   198.51.100.245  \n",
       "\n",
       "[5 rows x 47 columns]"
      ]
     },
     "metadata": {},
     "output_type": "display_data"
    },
    {
     "name": "stdout",
     "output_type": "stream",
     "text": [
      "<class 'pandas.core.frame.DataFrame'>\n",
      "Int64Index: 108878 entries, 0 to 108877\n",
      "Data columns (total 47 columns):\n",
      " #   Column                    Non-Null Count   Dtype  \n",
      "---  ------                    --------------   -----  \n",
      " 0   ProductKey                108878 non-null  int64  \n",
      " 1   OrderDateKey              108878 non-null  int64  \n",
      " 2   DueDateKey                108878 non-null  int64  \n",
      " 3   ShipDateKey               108878 non-null  int64  \n",
      " 4   CustomerKey               108878 non-null  int64  \n",
      " 5   SalesOrderNumber          108878 non-null  object \n",
      " 6   SalesAmount               108878 non-null  float64\n",
      " 7   ProductItemCode           108878 non-null  object \n",
      " 8   Product Name              108878 non-null  object \n",
      " 9   Sub Category              108878 non-null  object \n",
      " 10  Product Category          108878 non-null  object \n",
      " 11  StandardCost              108878 non-null  object \n",
      " 12  Product Color             55474 non-null   object \n",
      " 13  Product Size              38672 non-null   object \n",
      " 14  Product Line              108878 non-null  object \n",
      " 15  Model Name                108878 non-null  object \n",
      " 16  Product Description       108878 non-null  object \n",
      " 17  Product Description DE    108878 non-null  object \n",
      " 18  Product Status            108878 non-null  object \n",
      " 19  Date                      108874 non-null  object \n",
      " 20  Day                       108874 non-null  object \n",
      " 21  Month                     108874 non-null  object \n",
      " 22  MonthShort                108874 non-null  object \n",
      " 23  MonthNr                   108874 non-null  float64\n",
      " 24  Quarter                   108874 non-null  float64\n",
      " 25  Year                      108874 non-null  float64\n",
      " 26  FirstName                 108878 non-null  object \n",
      " 27  LastName                  108878 non-null  object \n",
      " 28  Full Name                 108878 non-null  object \n",
      " 29  BirthDate                 108878 non-null  object \n",
      " 30  AgeOfCustomer             108878 non-null  int64  \n",
      " 31  Gender                    108878 non-null  object \n",
      " 32  DateFirstPurchase         108878 non-null  object \n",
      " 33  City                      108878 non-null  object \n",
      " 34  Region Code               108878 non-null  object \n",
      " 35  State Code                108878 non-null  object \n",
      " 36  AgeGroups                 108878 non-null  object \n",
      " 37  GeographyKey              108878 non-null  int64  \n",
      " 38  StateProvinceCode         108878 non-null  object \n",
      " 39  StateProvinceName         108878 non-null  object \n",
      " 40  CountryRegionCode         108878 non-null  object \n",
      " 41  EnglishCountryRegionName  108878 non-null  object \n",
      " 42  SpanishCountryRegionName  108878 non-null  object \n",
      " 43  FrenchCountryRegionName   108878 non-null  object \n",
      " 44  PostalCode                108878 non-null  object \n",
      " 45  SalesTerritoryKey         108878 non-null  int64  \n",
      " 46  IpAddressLocator          108878 non-null  object \n",
      "dtypes: float64(4), int64(8), object(35)\n",
      "memory usage: 39.9+ MB\n"
     ]
    },
    {
     "data": {
      "text/plain": [
       "None"
      ]
     },
     "metadata": {},
     "output_type": "display_data"
    }
   ],
   "source": [
    "df_check(df)"
   ]
  },
  {
   "cell_type": "markdown",
   "metadata": {},
   "source": [
    "Избавимся от ненужных признаков."
   ]
  },
  {
   "cell_type": "code",
   "execution_count": 246,
   "metadata": {},
   "outputs": [],
   "source": [
    "df.drop(columns = ['Product Description DE', 'SpanishCountryRegionName', 'FrenchCountryRegionName'], inplace = True)"
   ]
  },
  {
   "cell_type": "code",
   "execution_count": 247,
   "metadata": {},
   "outputs": [],
   "source": [
    "df['StandardCost'] = df['StandardCost'].apply(lambda x: float(str(x).replace(',', '.')))"
   ]
  },
  {
   "cell_type": "code",
   "execution_count": 248,
   "metadata": {},
   "outputs": [
    {
     "name": "stdout",
     "output_type": "stream",
     "text": [
      "Product Category  Sub Category  AgeOfCustomer\n",
      "Accessories       Bike Racks    44               48\n",
      "                                43               45\n",
      "                                48               29\n",
      "                                63               26\n",
      "                                54               24\n",
      "                                                 ..\n",
      "Clothing          Vests         87                1\n",
      "                                92                1\n",
      "                                96                1\n",
      "                                97                1\n",
      "                                103               1\n",
      "Name: AgeOfCustomer, Length: 962, dtype: int64\n",
      "AgeOfCustomer\n",
      "45    1.254970e+06\n",
      "44    1.208155e+06\n",
      "46    1.141672e+06\n",
      "43    1.072608e+06\n",
      "40    1.065851e+06\n",
      "47    1.005028e+06\n",
      "48    9.512582e+05\n",
      "41    9.467891e+05\n",
      "42    9.181673e+05\n",
      "39    8.694917e+05\n",
      "Name: StandardCost, dtype: float64\n"
     ]
    }
   ],
   "source": [
    "# Проверим возраст клиентов, тем самым узнаем возраст ЦА\n",
    "# дополнительно построим гистограмму, для наглядности\n",
    "\n",
    "print(df.groupby(['Product Category', 'Sub Category'])['AgeOfCustomer'].value_counts())\n",
    "print(df.groupby(['AgeOfCustomer'])['StandardCost'].sum().sort_values(ascending = False).head(10))"
   ]
  },
  {
   "cell_type": "markdown",
   "metadata": {},
   "source": [
    "Как мы видим, большой интерес проявляет ЦА возрастной группы от 40 до 50. Что не удивительно, с учетом кол-ва клиентов в данной  возрастной группе.\n",
    "<br>\n",
    "<br>Чтобы убедиться в верно выбранной стратегии - посмотрим на распределение Стьюдента. Чтобы отвергнуть или подтвердить нулевую гипотезу (среднее всех групп равны)."
   ]
  },
  {
   "cell_type": "markdown",
   "metadata": {},
   "source": [
    "Посмотрим визуально различия между группами."
   ]
  },
  {
   "cell_type": "code",
   "execution_count": 250,
   "metadata": {
    "scrolled": false
   },
   "outputs": [
    {
     "data": {
      "text/plain": [
       "<Axes: xlabel='AgeGroups', ylabel='StandardCost'>"
      ]
     },
     "execution_count": 250,
     "metadata": {},
     "output_type": "execute_result"
    },
    {
     "data": {
      "image/png": "[encoded data removed]",
      "text/plain": [
       "<Figure size 1000x500 with 1 Axes>"
      ]
     },
     "metadata": {},
     "output_type": "display_data"
    }
   ],
   "source": [
    "fig, ax = plt.subplots(figsize = (10, 5))\n",
    "sns.barplot(x = 'AgeGroups', y = 'StandardCost', data = df)"
   ]
  },
  {
   "cell_type": "markdown",
   "metadata": {},
   "source": [
    "Наличие возрастных групп может сказаться на распределение продающихся товаров, значит будем использовать распределение Стьюдента (Т-распределение) с поправкой Бонферрони. Проверим нулевую гипотезу о равном среднем возрастных групп."
   ]
  },
  {
   "cell_type": "code",
   "execution_count": 253,
   "metadata": {},
   "outputs": [
    {
     "name": "stdout",
     "output_type": "stream",
     "text": [
      "60 - 80 - over 100: T-value: 2.2575, p-value: 0.024, T-critical: 1.6449\n",
      "50 - 60 - over 100: T-value: 2.5574, p-value: 0.0106, T-critical: 1.6449\n",
      "30 - 40 - over 100: T-value: 2.5224, p-value: 0.0117, T-critical: 1.6449\n",
      "40 - 50 - over 100: T-value: 2.7313, p-value: 0.0063, T-critical: 1.6449\n",
      "80 - 100 - over 100: T-value: 1.1697, p-value: 0.2424, T-critical: 1.6449\n"
     ]
    }
   ],
   "source": [
    "from scipy import stats\n",
    "from scipy.stats import ttest_ind\n",
    "\n",
    "groups = df['AgeGroups'].unique()\n",
    "ttest = []\n",
    "# ftest = []\n",
    "\n",
    "df_between = len(df['AgeGroups'].unique()) - 1\n",
    "df_within = len(df['StandardCost']) - 2\n",
    "df_total = df_between + df_within\n",
    "# f_critic = stats.f.ppf(1-0.05, df_between, df_within)\n",
    "#print(f_critic)\n",
    "    \n",
    "for index_1, value_1 in enumerate(groups):\n",
    "        for index_2, value_2 in enumerate(groups):\n",
    "            if index_2 > index_1:\n",
    "                                \n",
    "                group_1 = df[df['AgeGroups'] == value_1]['StandardCost']\n",
    "                group_2 = df[df['AgeGroups'] == value_2]['StandardCost']\n",
    "                \n",
    "                t, p = ttest_ind(group_1, group_2)\n",
    "                ttest.append([f'{value_1} - {value_2}:', round(t, 4), round(p, 4)])\n",
    "                \n",
    "#                 group_1_mean = group_1.mean()\n",
    "#                 group_2_mean = group_2.mean()\n",
    "#                 total_sum = (sum(group_1) + sum(group_2)) / (len(group_1) + len(group_2))\n",
    "\n",
    "#                 sst = sum((group_1 - total_sum)**2) + sum((group_2 - total_sum)**2)\n",
    "#                 ssw = sum((group_1 - group_1_mean)**2) + sum((group_2 - group_2_mean)**2)\n",
    "#                 ssb = sst - ssw\n",
    "\n",
    "#                 msb = ssb / df_between\n",
    "#                 msw = ssw / df_within\n",
    "#                 f = msb / msw\n",
    "#                 #print(index_1, index_2, value_1, value_2, f)\n",
    "#                 if f < f_critic:\n",
    "#                     ftest.append([f'{value_1} - {value_2}:', round(f, 4), round(f_critic, 4)])\n",
    "                    \n",
    "threshold = 0.05/len(ttest)\n",
    "for t in ttest:\n",
    "    if t[2] > (threshold):\n",
    "        print(f'{t[0]} T-value: {t[1]}, p-value: {t[2]}, T-critical: {round(stats.t.ppf(1-0.05, df_total), 4)}')"
   ]
  },
  {
   "cell_type": "markdown",
   "metadata": {},
   "source": [
    "Проверим с помощью pairwise_tukeyhsd достоверность показателей."
   ]
  },
  {
   "cell_type": "code",
   "execution_count": 254,
   "metadata": {},
   "outputs": [
    {
     "data": {
      "text/html": [
       "<div>\n",
       "<style scoped>\n",
       "    .dataframe tbody tr th:only-of-type {\n",
       "        vertical-align: middle;\n",
       "    }\n",
       "\n",
       "    .dataframe tbody tr th {\n",
       "        vertical-align: top;\n",
       "    }\n",
       "\n",
       "    .dataframe thead th {\n",
       "        text-align: right;\n",
       "    }\n",
       "</style>\n",
       "<table border=\"1\" class=\"dataframe\">\n",
       "  <thead>\n",
       "    <tr style=\"text-align: right;\">\n",
       "      <th></th>\n",
       "      <th>group1</th>\n",
       "      <th>group2</th>\n",
       "      <th>meandiff</th>\n",
       "      <th>p-adj</th>\n",
       "      <th>lower</th>\n",
       "      <th>upper</th>\n",
       "      <th>reject</th>\n",
       "    </tr>\n",
       "  </thead>\n",
       "  <tbody>\n",
       "    <tr>\n",
       "      <th>4</th>\n",
       "      <td>30 - 40</td>\n",
       "      <td>over 100</td>\n",
       "      <td>-211.8376</td>\n",
       "      <td>0.1461</td>\n",
       "      <td>-460.3378</td>\n",
       "      <td>36.6627</td>\n",
       "      <td>False</td>\n",
       "    </tr>\n",
       "    <tr>\n",
       "      <th>8</th>\n",
       "      <td>40 - 50</td>\n",
       "      <td>over 100</td>\n",
       "      <td>-243.7574</td>\n",
       "      <td>0.0580</td>\n",
       "      <td>-492.1656</td>\n",
       "      <td>4.6509</td>\n",
       "      <td>False</td>\n",
       "    </tr>\n",
       "    <tr>\n",
       "      <th>11</th>\n",
       "      <td>50 - 60</td>\n",
       "      <td>over 100</td>\n",
       "      <td>-228.9058</td>\n",
       "      <td>0.0911</td>\n",
       "      <td>-477.3634</td>\n",
       "      <td>19.5519</td>\n",
       "      <td>False</td>\n",
       "    </tr>\n",
       "    <tr>\n",
       "      <th>13</th>\n",
       "      <td>60 - 80</td>\n",
       "      <td>over 100</td>\n",
       "      <td>-190.8044</td>\n",
       "      <td>0.2431</td>\n",
       "      <td>-439.2762</td>\n",
       "      <td>57.6675</td>\n",
       "      <td>False</td>\n",
       "    </tr>\n",
       "    <tr>\n",
       "      <th>14</th>\n",
       "      <td>80 - 100</td>\n",
       "      <td>over 100</td>\n",
       "      <td>-59.4572</td>\n",
       "      <td>0.9849</td>\n",
       "      <td>-311.3052</td>\n",
       "      <td>192.3908</td>\n",
       "      <td>False</td>\n",
       "    </tr>\n",
       "  </tbody>\n",
       "</table>\n",
       "</div>"
      ],
      "text/plain": [
       "      group1    group2  meandiff   p-adj     lower     upper  reject\n",
       "4    30 - 40  over 100 -211.8376  0.1461 -460.3378   36.6627   False\n",
       "8    40 - 50  over 100 -243.7574  0.0580 -492.1656    4.6509   False\n",
       "11   50 - 60  over 100 -228.9058  0.0911 -477.3634   19.5519   False\n",
       "13   60 - 80  over 100 -190.8044  0.2431 -439.2762   57.6675   False\n",
       "14  80 - 100  over 100  -59.4572  0.9849 -311.3052  192.3908   False"
      ]
     },
     "execution_count": 254,
     "metadata": {},
     "output_type": "execute_result"
    }
   ],
   "source": [
    "from statsmodels.stats.multicomp import pairwise_tukeyhsd\n",
    "tukey = pairwise_tukeyhsd(endog=df['StandardCost'],\n",
    "                          groups=df['AgeGroups'],\n",
    "                          alpha=0.05)\n",
    "\n",
    "tukey_frame = pd.DataFrame(data = tukey._results_table.data[1:], columns=tukey._results_table.data[0])\n",
    "tukey_frame[tukey_frame['reject'] == False]"
   ]
  },
  {
   "cell_type": "markdown",
   "metadata": {},
   "source": [
    "Топ 10 городов по заказам."
   ]
  },
  {
   "cell_type": "code",
   "execution_count": 268,
   "metadata": {},
   "outputs": [
    {
     "data": {
      "text/html": [
       "<div>\n",
       "<style scoped>\n",
       "    .dataframe tbody tr th:only-of-type {\n",
       "        vertical-align: middle;\n",
       "    }\n",
       "\n",
       "    .dataframe tbody tr th {\n",
       "        vertical-align: top;\n",
       "    }\n",
       "\n",
       "    .dataframe thead th {\n",
       "        text-align: right;\n",
       "    }\n",
       "</style>\n",
       "<table border=\"1\" class=\"dataframe\">\n",
       "  <thead>\n",
       "    <tr style=\"text-align: right;\">\n",
       "      <th></th>\n",
       "      <th>SalesAmount</th>\n",
       "    </tr>\n",
       "    <tr>\n",
       "      <th>City</th>\n",
       "      <th></th>\n",
       "    </tr>\n",
       "  </thead>\n",
       "  <tbody>\n",
       "    <tr>\n",
       "      <th>London</th>\n",
       "      <td>21616</td>\n",
       "    </tr>\n",
       "    <tr>\n",
       "      <th>Paris</th>\n",
       "      <td>14924</td>\n",
       "    </tr>\n",
       "    <tr>\n",
       "      <th>Berlin</th>\n",
       "      <td>8008</td>\n",
       "    </tr>\n",
       "    <tr>\n",
       "      <th>Shawnee</th>\n",
       "      <td>1647</td>\n",
       "    </tr>\n",
       "    <tr>\n",
       "      <th>Newton</th>\n",
       "      <td>1408</td>\n",
       "    </tr>\n",
       "    <tr>\n",
       "      <th>York</th>\n",
       "      <td>1221</td>\n",
       "    </tr>\n",
       "    <tr>\n",
       "      <th>München</th>\n",
       "      <td>1108</td>\n",
       "    </tr>\n",
       "    <tr>\n",
       "      <th>Westminster</th>\n",
       "      <td>1065</td>\n",
       "    </tr>\n",
       "    <tr>\n",
       "      <th>Burbank</th>\n",
       "      <td>1008</td>\n",
       "    </tr>\n",
       "    <tr>\n",
       "      <th>Cliffside</th>\n",
       "      <td>901</td>\n",
       "    </tr>\n",
       "  </tbody>\n",
       "</table>\n",
       "</div>"
      ],
      "text/plain": [
       "             SalesAmount\n",
       "City                    \n",
       "London             21616\n",
       "Paris              14924\n",
       "Berlin              8008\n",
       "Shawnee             1647\n",
       "Newton              1408\n",
       "York                1221\n",
       "München             1108\n",
       "Westminster         1065\n",
       "Burbank             1008\n",
       "Cliffside            901"
      ]
     },
     "execution_count": 268,
     "metadata": {},
     "output_type": "execute_result"
    }
   ],
   "source": [
    "pd.DataFrame(df.groupby('City')['SalesAmount'].count().sort_values(ascending = False)).head(10)"
   ]
  },
  {
   "cell_type": "markdown",
   "metadata": {},
   "source": [
    "Посмотрим на распределение цены."
   ]
  },
  {
   "cell_type": "code",
   "execution_count": 269,
   "metadata": {},
   "outputs": [
    {
     "name": "stdout",
     "output_type": "stream",
     "text": [
      "count    108878.000000\n",
      "mean        395.485695\n",
      "std         766.594458\n",
      "min           2.290000\n",
      "25%           7.950000\n",
      "50%          28.990000\n",
      "75%          69.990000\n",
      "max        2443.350000\n",
      "Name: SalesAmount, dtype: float64\n"
     ]
    },
    {
     "data": {
      "image/png": "[encoded data removed]",
      "text/plain": [
       "<Figure size 640x480 with 1 Axes>"
      ]
     },
     "metadata": {},
     "output_type": "display_data"
    }
   ],
   "source": [
    "float_check(df['SalesAmount'])"
   ]
  },
  {
   "cell_type": "markdown",
   "metadata": {},
   "source": [
    "Объем продаж."
   ]
  },
  {
   "cell_type": "code",
   "execution_count": 296,
   "metadata": {},
   "outputs": [
    {
     "name": "stdout",
     "output_type": "stream",
     "text": [
      "count    108878.000000\n",
      "mean        231.687701\n",
      "std         453.505095\n",
      "min           0.856500\n",
      "25%           2.973300\n",
      "50%          10.842300\n",
      "75%          41.572300\n",
      "max        1554.947900\n",
      "Name: StandardCost, dtype: float64\n"
     ]
    },
    {
     "data": {
      "image/png": "[encoded data removed]",
      "text/plain": [
       "<Figure size 720x720 with 1 Axes>"
      ]
     },
     "metadata": {
      "needs_background": "light"
     },
     "output_type": "display_data"
    }
   ],
   "source": [
    "float_check(df['StandardCost'])"
   ]
  },
  {
   "cell_type": "markdown",
   "metadata": {},
   "source": [
    "Проверим объем продаж в разрезе категорий и подкатегорий. Велосипеды - самая популярная категория."
   ]
  },
  {
   "cell_type": "code",
   "execution_count": 270,
   "metadata": {},
   "outputs": [
    {
     "data": {
      "text/html": [
       "<div>\n",
       "<style scoped>\n",
       "    .dataframe tbody tr th:only-of-type {\n",
       "        vertical-align: middle;\n",
       "    }\n",
       "\n",
       "    .dataframe tbody tr th {\n",
       "        vertical-align: top;\n",
       "    }\n",
       "\n",
       "    .dataframe thead th {\n",
       "        text-align: right;\n",
       "    }\n",
       "</style>\n",
       "<table border=\"1\" class=\"dataframe\">\n",
       "  <thead>\n",
       "    <tr style=\"text-align: right;\">\n",
       "      <th></th>\n",
       "      <th>Sub Category</th>\n",
       "      <th>SalesAmount</th>\n",
       "    </tr>\n",
       "    <tr>\n",
       "      <th>Product Category</th>\n",
       "      <th></th>\n",
       "      <th></th>\n",
       "    </tr>\n",
       "  </thead>\n",
       "  <tbody>\n",
       "    <tr>\n",
       "      <th>Bikes</th>\n",
       "      <td>Touring Bikes</td>\n",
       "      <td>2443.35</td>\n",
       "    </tr>\n",
       "    <tr>\n",
       "      <th>Accessories</th>\n",
       "      <td>Tires and Tubes</td>\n",
       "      <td>159.00</td>\n",
       "    </tr>\n",
       "    <tr>\n",
       "      <th>Clothing</th>\n",
       "      <td>Vests</td>\n",
       "      <td>69.99</td>\n",
       "    </tr>\n",
       "  </tbody>\n",
       "</table>\n",
       "</div>"
      ],
      "text/plain": [
       "                     Sub Category  SalesAmount\n",
       "Product Category                              \n",
       "Bikes               Touring Bikes      2443.35\n",
       "Accessories       Tires and Tubes       159.00\n",
       "Clothing                    Vests        69.99"
      ]
     },
     "execution_count": 270,
     "metadata": {},
     "output_type": "execute_result"
    }
   ],
   "source": [
    "sales_amount = df.groupby('Product Category')[['Sub Category','SalesAmount']].max().sort_values('SalesAmount', ascending = False)\n",
    "sales_amount"
   ]
  },
  {
   "cell_type": "markdown",
   "metadata": {},
   "source": [
    "Проверим самый ходовой среди всех товаров: Water Bottle - 30 oz."
   ]
  },
  {
   "cell_type": "code",
   "execution_count": 285,
   "metadata": {},
   "outputs": [
    {
     "name": "stdout",
     "output_type": "stream",
     "text": [
      "Water Bottle - 30 oz.      7667\n",
      "Patch Kit/8 Patches        5795\n",
      "Road Tire Tube             5102\n",
      "Mountain Tire Tube         5099\n",
      "AWC Logo Cap               4344\n",
      "Sport-100 Helmet, Red      4285\n",
      "Sport-100 Helmet, Black    4249\n",
      "Sport-100 Helmet, Blue     3924\n",
      "Mountain Bottle Cage       3670\n",
      "Fender Set - Mountain      3459\n",
      "Name: Product Name, dtype: int64\n"
     ]
    },
    {
     "data": {
      "image/png": "[encoded data removed]",
      "text/plain": [
       "<Figure size 1000x1000 with 1 Axes>"
      ]
     },
     "metadata": {},
     "output_type": "display_data"
    }
   ],
   "source": [
    "print(df['Product Name'].value_counts().sort_values(ascending = False).head(10))\n",
    "plt.rcParams['figure.figsize'] = (10,10)\n",
    "product_name = df['Product Name'].value_counts().sort_values(ascending = True).tail(10).plot(kind='barh')"
   ]
  },
  {
   "cell_type": "markdown",
   "metadata": {},
   "source": [
    "Проверим теперь самый ходовой товар по категориям."
   ]
  },
  {
   "cell_type": "code",
   "execution_count": 286,
   "metadata": {},
   "outputs": [
    {
     "data": {
      "text/plain": [
       "('Самый ходовой товар в категории Road Bikes : Road-750 Black, 58 в городе York',\n",
       " 'Самый ходовой товар в категории Mountain Bikes : Mountain-500 Silver, 52 в городе York',\n",
       " 'Самый ходовой товар в категории Bottles and Cages : Water Bottle - 30 oz. в городе York',\n",
       " 'Самый ходовой товар в категории Touring Bikes : Touring-3000 Yellow, 62 в городе York',\n",
       " 'Самый ходовой товар в категории Helmets : Sport-100 Helmet, Red в городе York',\n",
       " 'Самый ходовой товар в категории Tires and Tubes : Touring Tire Tube в городе York',\n",
       " 'Самый ходовой товар в категории Bike Stands : All-Purpose Bike Stand в городе Yakima',\n",
       " 'Самый ходовой товар в категории Jerseys : Short-Sleeve Classic Jersey, XL в городе York',\n",
       " 'Самый ходовой товар в категории Gloves : Half-Finger Gloves, S в городе York',\n",
       " 'Самый ходовой товар в категории Fenders : Fender Set - Mountain в городе York',\n",
       " 'Самый ходовой товар в категории Caps : AWC Logo Cap в городе York',\n",
       " 'Самый ходовой товар в категории Socks : Racing Socks, M в городе York',\n",
       " 'Самый ходовой товар в категории Hydration Packs : Hydration Pack - 70 oz. в городе York',\n",
       " 'Самый ходовой товар в категории Vests : Classic Vest, S в городе York',\n",
       " 'Самый ходовой товар в категории Cleaners : Bike Wash - Dissolver в городе York',\n",
       " 'Самый ходовой товар в категории Bike Racks : Hitch Rack - 4-Bike в городе Yakima',\n",
       " \"Самый ходовой товар в категории Shorts : Women's Mountain Shorts, S в городе York\")"
      ]
     },
     "execution_count": 286,
     "metadata": {},
     "output_type": "execute_result"
    }
   ],
   "source": [
    "product_per_category = df.groupby('Product Name')[['Product Name','Sub Category','SalesAmount','City']\n",
    "                                                 ].max().sort_values('SalesAmount', ascending = False)\n",
    "\n",
    "def cost(column):\n",
    "    sub_category = product_per_category[(product_per_category['Sub Category'] == column)]['Product Name'].max()\n",
    "    city = product_per_category[(product_per_category['Sub Category'] == column)]['City'].max()\n",
    "    return \"Самый ходовой товар в категории \" + column + ' : ' + sub_category + ' в городе ' + city\n",
    "\n",
    "(*map(cost, df['Sub Category'].unique()),)"
   ]
  },
  {
   "cell_type": "markdown",
   "metadata": {},
   "source": [
    "Товары с максимальной ценой по подкатегориям."
   ]
  },
  {
   "cell_type": "code",
   "execution_count": 287,
   "metadata": {},
   "outputs": [
    {
     "data": {
      "text/plain": [
       "('Самый дорогостоящий товар в категории Road Bikes : Road-750 Black, 58',\n",
       " 'Самый дорогостоящий товар в категории Mountain Bikes : Mountain-500 Silver, 52',\n",
       " 'Самый дорогостоящий товар в категории Bottles and Cages : Water Bottle - 30 oz.',\n",
       " 'Самый дорогостоящий товар в категории Touring Bikes : Touring-3000 Yellow, 62',\n",
       " 'Самый дорогостоящий товар в категории Helmets : Sport-100 Helmet, Red',\n",
       " 'Самый дорогостоящий товар в категории Tires and Tubes : Touring Tire Tube',\n",
       " 'Самый дорогостоящий товар в категории Bike Stands : All-Purpose Bike Stand',\n",
       " 'Самый дорогостоящий товар в категории Jerseys : Short-Sleeve Classic Jersey, XL',\n",
       " 'Самый дорогостоящий товар в категории Gloves : Half-Finger Gloves, S',\n",
       " 'Самый дорогостоящий товар в категории Fenders : Fender Set - Mountain',\n",
       " 'Самый дорогостоящий товар в категории Caps : AWC Logo Cap',\n",
       " 'Самый дорогостоящий товар в категории Socks : Racing Socks, M',\n",
       " 'Самый дорогостоящий товар в категории Hydration Packs : Hydration Pack - 70 oz.',\n",
       " 'Самый дорогостоящий товар в категории Vests : Classic Vest, S',\n",
       " 'Самый дорогостоящий товар в категории Cleaners : Bike Wash - Dissolver',\n",
       " 'Самый дорогостоящий товар в категории Bike Racks : Hitch Rack - 4-Bike',\n",
       " \"Самый дорогостоящий товар в категории Shorts : Women's Mountain Shorts, S\")"
      ]
     },
     "execution_count": 287,
     "metadata": {},
     "output_type": "execute_result"
    }
   ],
   "source": [
    "standard_cost = df.groupby('Product Name')[\n",
    "        ['Product Name','Sub Category','StandardCost']\n",
    "            ].max().sort_values('StandardCost', ascending = False)\n",
    "def cost(column):\n",
    "    sub_category = standard_cost[(standard_cost['Sub Category'] == column)]['Product Name'].max()\n",
    "    return \"Самый дорогостоящий товар в категории \" + column + ' : ' + sub_category\n",
    "\n",
    "(*map(cost, df['Sub Category'].unique()),)"
   ]
  },
  {
   "cell_type": "markdown",
   "metadata": {},
   "source": [
    "#### [В начало](#begin)"
   ]
  },
  {
   "cell_type": "markdown",
   "metadata": {},
   "source": [
    "<a id='save'></a>\n",
    "# Сохранение датасета"
   ]
  },
  {
   "cell_type": "code",
   "execution_count": 299,
   "metadata": {},
   "outputs": [],
   "source": [
    "df.to_csv (r'dataframe.csv', index = False, header=True)"
   ]
  }
 ],
 "metadata": {
  "kernelspec": {
   "display_name": "Python 3 (ipykernel)",
   "language": "python",
   "name": "python3"
  },
  "language_info": {
   "codemirror_mode": {
    "name": "ipython",
    "version": 3
   },
   "file_extension": ".py",
   "mimetype": "text/x-python",
   "name": "python",
   "nbconvert_exporter": "python",
   "pygments_lexer": "ipython3",
   "version": "3.8.16"
  }
 },
 "nbformat": 4,
 "nbformat_minor": 2
}
